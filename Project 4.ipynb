{
 "cells": [
  {
   "cell_type": "code",
   "execution_count": 1,
   "metadata": {},
   "outputs": [],
   "source": [
    "import pandas as pd\n",
    "import numpy as np\n",
    "import nltk\n",
    "import warnings\n",
    "warnings.filterwarnings(\"ignore\")\n",
    "#importing libraries"
   ]
  },
  {
   "cell_type": "code",
   "execution_count": 5,
   "metadata": {},
   "outputs": [],
   "source": [
    "df = pd.read_csv(\"Tweets.csv\", encoding = 'unicode_escape')\n",
    "#reading in data"
   ]
  },
  {
   "cell_type": "code",
   "execution_count": 6,
   "metadata": {},
   "outputs": [],
   "source": [
    "df.rename({\"is_there_an_emotion_directed_at_a_brand_or_product\": \"Emotion\",\n",
    "          \"tweet_text\": \"Text\"}, axis = 1, inplace = True)\n",
    "#renaming columns"
   ]
  },
  {
   "cell_type": "code",
   "execution_count": 8,
   "metadata": {},
   "outputs": [],
   "source": [
    "df.drop(\"emotion_in_tweet_is_directed_at\", axis = 1, inplace = True)\n",
    "#getting rid of irrelevant columns "
   ]
  },
  {
   "cell_type": "code",
   "execution_count": 9,
   "metadata": {},
   "outputs": [
    {
     "data": {
      "text/html": [
       "<div>\n",
       "<style scoped>\n",
       "    .dataframe tbody tr th:only-of-type {\n",
       "        vertical-align: middle;\n",
       "    }\n",
       "\n",
       "    .dataframe tbody tr th {\n",
       "        vertical-align: top;\n",
       "    }\n",
       "\n",
       "    .dataframe thead th {\n",
       "        text-align: right;\n",
       "    }\n",
       "</style>\n",
       "<table border=\"1\" class=\"dataframe\">\n",
       "  <thead>\n",
       "    <tr style=\"text-align: right;\">\n",
       "      <th></th>\n",
       "      <th>Text</th>\n",
       "      <th>Emotion</th>\n",
       "    </tr>\n",
       "  </thead>\n",
       "  <tbody>\n",
       "    <tr>\n",
       "      <th>0</th>\n",
       "      <td>.@wesley83 I have a 3G iPhone. After 3 hrs twe...</td>\n",
       "      <td>Negative emotion</td>\n",
       "    </tr>\n",
       "    <tr>\n",
       "      <th>1</th>\n",
       "      <td>@jessedee Know about @fludapp ? Awesome iPad/i...</td>\n",
       "      <td>Positive emotion</td>\n",
       "    </tr>\n",
       "    <tr>\n",
       "      <th>2</th>\n",
       "      <td>@swonderlin Can not wait for #iPad 2 also. The...</td>\n",
       "      <td>Positive emotion</td>\n",
       "    </tr>\n",
       "    <tr>\n",
       "      <th>3</th>\n",
       "      <td>@sxsw I hope this year's festival isn't as cra...</td>\n",
       "      <td>Negative emotion</td>\n",
       "    </tr>\n",
       "    <tr>\n",
       "      <th>4</th>\n",
       "      <td>@sxtxstate great stuff on Fri #SXSW: Marissa M...</td>\n",
       "      <td>Positive emotion</td>\n",
       "    </tr>\n",
       "    <tr>\n",
       "      <th>...</th>\n",
       "      <td>...</td>\n",
       "      <td>...</td>\n",
       "    </tr>\n",
       "    <tr>\n",
       "      <th>9088</th>\n",
       "      <td>Ipad everywhere. #SXSW {link}</td>\n",
       "      <td>Positive emotion</td>\n",
       "    </tr>\n",
       "    <tr>\n",
       "      <th>9089</th>\n",
       "      <td>Wave, buzz... RT @mention We interrupt your re...</td>\n",
       "      <td>No emotion toward brand or product</td>\n",
       "    </tr>\n",
       "    <tr>\n",
       "      <th>9090</th>\n",
       "      <td>Google's Zeiger, a physician never reported po...</td>\n",
       "      <td>No emotion toward brand or product</td>\n",
       "    </tr>\n",
       "    <tr>\n",
       "      <th>9091</th>\n",
       "      <td>Some Verizon iPhone customers complained their...</td>\n",
       "      <td>No emotion toward brand or product</td>\n",
       "    </tr>\n",
       "    <tr>\n",
       "      <th>9092</th>\n",
       "      <td>Ï¡Ïàü_ÊÎÒ£Áââ_£â_ÛâRT @...</td>\n",
       "      <td>No emotion toward brand or product</td>\n",
       "    </tr>\n",
       "  </tbody>\n",
       "</table>\n",
       "<p>9093 rows × 2 columns</p>\n",
       "</div>"
      ],
      "text/plain": [
       "                                                   Text  \\\n",
       "0     .@wesley83 I have a 3G iPhone. After 3 hrs twe...   \n",
       "1     @jessedee Know about @fludapp ? Awesome iPad/i...   \n",
       "2     @swonderlin Can not wait for #iPad 2 also. The...   \n",
       "3     @sxsw I hope this year's festival isn't as cra...   \n",
       "4     @sxtxstate great stuff on Fri #SXSW: Marissa M...   \n",
       "...                                                 ...   \n",
       "9088                      Ipad everywhere. #SXSW {link}   \n",
       "9089  Wave, buzz... RT @mention We interrupt your re...   \n",
       "9090  Google's Zeiger, a physician never reported po...   \n",
       "9091  Some Verizon iPhone customers complained their...   \n",
       "9092  Ï¡Ïàü_ÊÎÒ£Áââ_£â_ÛâRT @...   \n",
       "\n",
       "                                 Emotion  \n",
       "0                       Negative emotion  \n",
       "1                       Positive emotion  \n",
       "2                       Positive emotion  \n",
       "3                       Negative emotion  \n",
       "4                       Positive emotion  \n",
       "...                                  ...  \n",
       "9088                    Positive emotion  \n",
       "9089  No emotion toward brand or product  \n",
       "9090  No emotion toward brand or product  \n",
       "9091  No emotion toward brand or product  \n",
       "9092  No emotion toward brand or product  \n",
       "\n",
       "[9093 rows x 2 columns]"
      ]
     },
     "execution_count": 9,
     "metadata": {},
     "output_type": "execute_result"
    }
   ],
   "source": [
    "df"
   ]
  },
  {
   "cell_type": "code",
   "execution_count": 10,
   "metadata": {
    "scrolled": true
   },
   "outputs": [
    {
     "data": {
      "text/plain": [
       "No emotion toward brand or product    5389\n",
       "Positive emotion                      2978\n",
       "Negative emotion                       570\n",
       "I can't tell                           156\n",
       "Name: Emotion, dtype: int64"
      ]
     },
     "execution_count": 10,
     "metadata": {},
     "output_type": "execute_result"
    }
   ],
   "source": [
    "df.Emotion.value_counts()\n",
    "#checkign value counts for each class"
   ]
  },
  {
   "cell_type": "code",
   "execution_count": 11,
   "metadata": {},
   "outputs": [],
   "source": [
    "df = df[df[\"Emotion\"] != \"I can't tell\"]\n",
    "#getting rid of the I cant tell class"
   ]
  },
  {
   "cell_type": "code",
   "execution_count": 12,
   "metadata": {},
   "outputs": [
    {
     "data": {
      "text/html": [
       "<div>\n",
       "<style scoped>\n",
       "    .dataframe tbody tr th:only-of-type {\n",
       "        vertical-align: middle;\n",
       "    }\n",
       "\n",
       "    .dataframe tbody tr th {\n",
       "        vertical-align: top;\n",
       "    }\n",
       "\n",
       "    .dataframe thead th {\n",
       "        text-align: right;\n",
       "    }\n",
       "</style>\n",
       "<table border=\"1\" class=\"dataframe\">\n",
       "  <thead>\n",
       "    <tr style=\"text-align: right;\">\n",
       "      <th></th>\n",
       "      <th>Text</th>\n",
       "      <th>Emotion</th>\n",
       "    </tr>\n",
       "  </thead>\n",
       "  <tbody>\n",
       "    <tr>\n",
       "      <th>0</th>\n",
       "      <td>.@wesley83 I have a 3G iPhone. After 3 hrs twe...</td>\n",
       "      <td>Negative emotion</td>\n",
       "    </tr>\n",
       "    <tr>\n",
       "      <th>1</th>\n",
       "      <td>@jessedee Know about @fludapp ? Awesome iPad/i...</td>\n",
       "      <td>Positive emotion</td>\n",
       "    </tr>\n",
       "    <tr>\n",
       "      <th>2</th>\n",
       "      <td>@swonderlin Can not wait for #iPad 2 also. The...</td>\n",
       "      <td>Positive emotion</td>\n",
       "    </tr>\n",
       "    <tr>\n",
       "      <th>3</th>\n",
       "      <td>@sxsw I hope this year's festival isn't as cra...</td>\n",
       "      <td>Negative emotion</td>\n",
       "    </tr>\n",
       "    <tr>\n",
       "      <th>4</th>\n",
       "      <td>@sxtxstate great stuff on Fri #SXSW: Marissa M...</td>\n",
       "      <td>Positive emotion</td>\n",
       "    </tr>\n",
       "    <tr>\n",
       "      <th>...</th>\n",
       "      <td>...</td>\n",
       "      <td>...</td>\n",
       "    </tr>\n",
       "    <tr>\n",
       "      <th>9088</th>\n",
       "      <td>Ipad everywhere. #SXSW {link}</td>\n",
       "      <td>Positive emotion</td>\n",
       "    </tr>\n",
       "    <tr>\n",
       "      <th>9089</th>\n",
       "      <td>Wave, buzz... RT @mention We interrupt your re...</td>\n",
       "      <td>No emotion toward brand or product</td>\n",
       "    </tr>\n",
       "    <tr>\n",
       "      <th>9090</th>\n",
       "      <td>Google's Zeiger, a physician never reported po...</td>\n",
       "      <td>No emotion toward brand or product</td>\n",
       "    </tr>\n",
       "    <tr>\n",
       "      <th>9091</th>\n",
       "      <td>Some Verizon iPhone customers complained their...</td>\n",
       "      <td>No emotion toward brand or product</td>\n",
       "    </tr>\n",
       "    <tr>\n",
       "      <th>9092</th>\n",
       "      <td>Ï¡Ïàü_ÊÎÒ£Áââ_£â_ÛâRT @...</td>\n",
       "      <td>No emotion toward brand or product</td>\n",
       "    </tr>\n",
       "  </tbody>\n",
       "</table>\n",
       "<p>8937 rows × 2 columns</p>\n",
       "</div>"
      ],
      "text/plain": [
       "                                                   Text  \\\n",
       "0     .@wesley83 I have a 3G iPhone. After 3 hrs twe...   \n",
       "1     @jessedee Know about @fludapp ? Awesome iPad/i...   \n",
       "2     @swonderlin Can not wait for #iPad 2 also. The...   \n",
       "3     @sxsw I hope this year's festival isn't as cra...   \n",
       "4     @sxtxstate great stuff on Fri #SXSW: Marissa M...   \n",
       "...                                                 ...   \n",
       "9088                      Ipad everywhere. #SXSW {link}   \n",
       "9089  Wave, buzz... RT @mention We interrupt your re...   \n",
       "9090  Google's Zeiger, a physician never reported po...   \n",
       "9091  Some Verizon iPhone customers complained their...   \n",
       "9092  Ï¡Ïàü_ÊÎÒ£Áââ_£â_ÛâRT @...   \n",
       "\n",
       "                                 Emotion  \n",
       "0                       Negative emotion  \n",
       "1                       Positive emotion  \n",
       "2                       Positive emotion  \n",
       "3                       Negative emotion  \n",
       "4                       Positive emotion  \n",
       "...                                  ...  \n",
       "9088                    Positive emotion  \n",
       "9089  No emotion toward brand or product  \n",
       "9090  No emotion toward brand or product  \n",
       "9091  No emotion toward brand or product  \n",
       "9092  No emotion toward brand or product  \n",
       "\n",
       "[8937 rows x 2 columns]"
      ]
     },
     "execution_count": 12,
     "metadata": {},
     "output_type": "execute_result"
    }
   ],
   "source": [
    "df"
   ]
  },
  {
   "cell_type": "code",
   "execution_count": 13,
   "metadata": {},
   "outputs": [],
   "source": [
    "import preprocessor as process"
   ]
  },
  {
   "cell_type": "code",
   "execution_count": 128,
   "metadata": {},
   "outputs": [
    {
     "data": {
      "text/plain": [
       "'Thanks to @mention for publishing the news of our new medical Apps in the #sxswi conf. blog {link} #sxsw #sxswh #mhealth'"
      ]
     },
     "execution_count": 128,
     "metadata": {},
     "output_type": "execute_result"
    }
   ],
   "source": [
    "df.Text.iloc[90]"
   ]
  },
  {
   "cell_type": "code",
   "execution_count": 14,
   "metadata": {},
   "outputs": [],
   "source": [
    "clean = []\n",
    "for i in range(len(df)):\n",
    "    cleaned = process.clean(str(df.Text.iloc[i]))\n",
    "    clean.append(cleaned)\n",
    "df[\"Cleaned_Tweet\"] = clean\n",
    "#first stage of cleaning using the preprocessor library \n",
    "#creating new column called cleaned_tweet"
   ]
  },
  {
   "cell_type": "code",
   "execution_count": 15,
   "metadata": {},
   "outputs": [
    {
     "data": {
      "text/html": [
       "<div>\n",
       "<style scoped>\n",
       "    .dataframe tbody tr th:only-of-type {\n",
       "        vertical-align: middle;\n",
       "    }\n",
       "\n",
       "    .dataframe tbody tr th {\n",
       "        vertical-align: top;\n",
       "    }\n",
       "\n",
       "    .dataframe thead th {\n",
       "        text-align: right;\n",
       "    }\n",
       "</style>\n",
       "<table border=\"1\" class=\"dataframe\">\n",
       "  <thead>\n",
       "    <tr style=\"text-align: right;\">\n",
       "      <th></th>\n",
       "      <th>Text</th>\n",
       "      <th>Emotion</th>\n",
       "      <th>Cleaned_Tweet</th>\n",
       "    </tr>\n",
       "  </thead>\n",
       "  <tbody>\n",
       "    <tr>\n",
       "      <th>0</th>\n",
       "      <td>.@wesley83 I have a 3G iPhone. After 3 hrs twe...</td>\n",
       "      <td>Negative emotion</td>\n",
       "      <td>. I have a G iPhone. After hrs tweeting at , i...</td>\n",
       "    </tr>\n",
       "    <tr>\n",
       "      <th>1</th>\n",
       "      <td>@jessedee Know about @fludapp ? Awesome iPad/i...</td>\n",
       "      <td>Positive emotion</td>\n",
       "      <td>Know about ? Awesome iPad/iPhone app that you'...</td>\n",
       "    </tr>\n",
       "    <tr>\n",
       "      <th>2</th>\n",
       "      <td>@swonderlin Can not wait for #iPad 2 also. The...</td>\n",
       "      <td>Positive emotion</td>\n",
       "      <td>Can not wait for also. They should sale them d...</td>\n",
       "    </tr>\n",
       "    <tr>\n",
       "      <th>3</th>\n",
       "      <td>@sxsw I hope this year's festival isn't as cra...</td>\n",
       "      <td>Negative emotion</td>\n",
       "      <td>I hope this year's festival isn't as crashy as...</td>\n",
       "    </tr>\n",
       "    <tr>\n",
       "      <th>4</th>\n",
       "      <td>@sxtxstate great stuff on Fri #SXSW: Marissa M...</td>\n",
       "      <td>Positive emotion</td>\n",
       "      <td>great stuff on Fri : Marissa Mayer (Google), T...</td>\n",
       "    </tr>\n",
       "    <tr>\n",
       "      <th>...</th>\n",
       "      <td>...</td>\n",
       "      <td>...</td>\n",
       "      <td>...</td>\n",
       "    </tr>\n",
       "    <tr>\n",
       "      <th>9088</th>\n",
       "      <td>Ipad everywhere. #SXSW {link}</td>\n",
       "      <td>Positive emotion</td>\n",
       "      <td>Ipad everywhere. {link}</td>\n",
       "    </tr>\n",
       "    <tr>\n",
       "      <th>9089</th>\n",
       "      <td>Wave, buzz... RT @mention We interrupt your re...</td>\n",
       "      <td>No emotion toward brand or product</td>\n",
       "      <td>Wave, buzz... RT We interrupt your regularly s...</td>\n",
       "    </tr>\n",
       "    <tr>\n",
       "      <th>9090</th>\n",
       "      <td>Google's Zeiger, a physician never reported po...</td>\n",
       "      <td>No emotion toward brand or product</td>\n",
       "      <td>Google's Zeiger, a physician never reported po...</td>\n",
       "    </tr>\n",
       "    <tr>\n",
       "      <th>9091</th>\n",
       "      <td>Some Verizon iPhone customers complained their...</td>\n",
       "      <td>No emotion toward brand or product</td>\n",
       "      <td>Some Verizon iPhone customers complained their...</td>\n",
       "    </tr>\n",
       "    <tr>\n",
       "      <th>9092</th>\n",
       "      <td>Ï¡Ïàü_ÊÎÒ£Áââ_£â_ÛâRT @...</td>\n",
       "      <td>No emotion toward brand or product</td>\n",
       "      <td>___RT Google Tests Check-in Offers At {link}</td>\n",
       "    </tr>\n",
       "  </tbody>\n",
       "</table>\n",
       "<p>8937 rows × 3 columns</p>\n",
       "</div>"
      ],
      "text/plain": [
       "                                                   Text  \\\n",
       "0     .@wesley83 I have a 3G iPhone. After 3 hrs twe...   \n",
       "1     @jessedee Know about @fludapp ? Awesome iPad/i...   \n",
       "2     @swonderlin Can not wait for #iPad 2 also. The...   \n",
       "3     @sxsw I hope this year's festival isn't as cra...   \n",
       "4     @sxtxstate great stuff on Fri #SXSW: Marissa M...   \n",
       "...                                                 ...   \n",
       "9088                      Ipad everywhere. #SXSW {link}   \n",
       "9089  Wave, buzz... RT @mention We interrupt your re...   \n",
       "9090  Google's Zeiger, a physician never reported po...   \n",
       "9091  Some Verizon iPhone customers complained their...   \n",
       "9092  Ï¡Ïàü_ÊÎÒ£Áââ_£â_ÛâRT @...   \n",
       "\n",
       "                                 Emotion  \\\n",
       "0                       Negative emotion   \n",
       "1                       Positive emotion   \n",
       "2                       Positive emotion   \n",
       "3                       Negative emotion   \n",
       "4                       Positive emotion   \n",
       "...                                  ...   \n",
       "9088                    Positive emotion   \n",
       "9089  No emotion toward brand or product   \n",
       "9090  No emotion toward brand or product   \n",
       "9091  No emotion toward brand or product   \n",
       "9092  No emotion toward brand or product   \n",
       "\n",
       "                                          Cleaned_Tweet  \n",
       "0     . I have a G iPhone. After hrs tweeting at , i...  \n",
       "1     Know about ? Awesome iPad/iPhone app that you'...  \n",
       "2     Can not wait for also. They should sale them d...  \n",
       "3     I hope this year's festival isn't as crashy as...  \n",
       "4     great stuff on Fri : Marissa Mayer (Google), T...  \n",
       "...                                                 ...  \n",
       "9088                            Ipad everywhere. {link}  \n",
       "9089  Wave, buzz... RT We interrupt your regularly s...  \n",
       "9090  Google's Zeiger, a physician never reported po...  \n",
       "9091  Some Verizon iPhone customers complained their...  \n",
       "9092       ___RT Google Tests Check-in Offers At {link}  \n",
       "\n",
       "[8937 rows x 3 columns]"
      ]
     },
     "execution_count": 15,
     "metadata": {},
     "output_type": "execute_result"
    }
   ],
   "source": [
    "df"
   ]
  },
  {
   "cell_type": "code",
   "execution_count": 16,
   "metadata": {},
   "outputs": [],
   "source": [
    "df.dropna(axis = 0, inplace = True)\n",
    "#dropping na values from the df"
   ]
  },
  {
   "cell_type": "code",
   "execution_count": 17,
   "metadata": {},
   "outputs": [
    {
     "data": {
      "text/plain": [
       "Text             0\n",
       "Emotion          0\n",
       "Cleaned_Tweet    0\n",
       "dtype: int64"
      ]
     },
     "execution_count": 17,
     "metadata": {},
     "output_type": "execute_result"
    }
   ],
   "source": [
    "df.isna().sum()\n",
    "#no na values"
   ]
  },
  {
   "cell_type": "code",
   "execution_count": 18,
   "metadata": {
    "scrolled": true
   },
   "outputs": [],
   "source": [
    "import re\n",
    "new = []\n",
    "for tweet in df.Cleaned_Tweet:\n",
    "    x = re.finditer(r\"([A-Za-z])([A-Za-z])+\", tweet)\n",
    "    new.append((' '.join([x1.group() for x1 in x])).lower())\n",
    "df.Cleaned_Tweet = new\n",
    "#using regular expressions library to further simplify the tweet"
   ]
  },
  {
   "cell_type": "code",
   "execution_count": 19,
   "metadata": {},
   "outputs": [
    {
     "data": {
      "text/html": [
       "<div>\n",
       "<style scoped>\n",
       "    .dataframe tbody tr th:only-of-type {\n",
       "        vertical-align: middle;\n",
       "    }\n",
       "\n",
       "    .dataframe tbody tr th {\n",
       "        vertical-align: top;\n",
       "    }\n",
       "\n",
       "    .dataframe thead th {\n",
       "        text-align: right;\n",
       "    }\n",
       "</style>\n",
       "<table border=\"1\" class=\"dataframe\">\n",
       "  <thead>\n",
       "    <tr style=\"text-align: right;\">\n",
       "      <th></th>\n",
       "      <th>Text</th>\n",
       "      <th>Emotion</th>\n",
       "      <th>Cleaned_Tweet</th>\n",
       "    </tr>\n",
       "  </thead>\n",
       "  <tbody>\n",
       "    <tr>\n",
       "      <th>0</th>\n",
       "      <td>.@wesley83 I have a 3G iPhone. After 3 hrs twe...</td>\n",
       "      <td>Negative emotion</td>\n",
       "      <td>have iphone after hrs tweeting at it was dead ...</td>\n",
       "    </tr>\n",
       "    <tr>\n",
       "      <th>1</th>\n",
       "      <td>@jessedee Know about @fludapp ? Awesome iPad/i...</td>\n",
       "      <td>Positive emotion</td>\n",
       "      <td>know about awesome ipad iphone app that you ll...</td>\n",
       "    </tr>\n",
       "    <tr>\n",
       "      <th>2</th>\n",
       "      <td>@swonderlin Can not wait for #iPad 2 also. The...</td>\n",
       "      <td>Positive emotion</td>\n",
       "      <td>can not wait for also they should sale them do...</td>\n",
       "    </tr>\n",
       "    <tr>\n",
       "      <th>3</th>\n",
       "      <td>@sxsw I hope this year's festival isn't as cra...</td>\n",
       "      <td>Negative emotion</td>\n",
       "      <td>hope this year festival isn as crashy as this ...</td>\n",
       "    </tr>\n",
       "    <tr>\n",
       "      <th>4</th>\n",
       "      <td>@sxtxstate great stuff on Fri #SXSW: Marissa M...</td>\n",
       "      <td>Positive emotion</td>\n",
       "      <td>great stuff on fri marissa mayer google tim re...</td>\n",
       "    </tr>\n",
       "    <tr>\n",
       "      <th>...</th>\n",
       "      <td>...</td>\n",
       "      <td>...</td>\n",
       "      <td>...</td>\n",
       "    </tr>\n",
       "    <tr>\n",
       "      <th>9088</th>\n",
       "      <td>Ipad everywhere. #SXSW {link}</td>\n",
       "      <td>Positive emotion</td>\n",
       "      <td>ipad everywhere link</td>\n",
       "    </tr>\n",
       "    <tr>\n",
       "      <th>9089</th>\n",
       "      <td>Wave, buzz... RT @mention We interrupt your re...</td>\n",
       "      <td>No emotion toward brand or product</td>\n",
       "      <td>wave buzz rt we interrupt your regularly sched...</td>\n",
       "    </tr>\n",
       "    <tr>\n",
       "      <th>9090</th>\n",
       "      <td>Google's Zeiger, a physician never reported po...</td>\n",
       "      <td>No emotion toward brand or product</td>\n",
       "      <td>google zeiger physician never reported potenti...</td>\n",
       "    </tr>\n",
       "    <tr>\n",
       "      <th>9091</th>\n",
       "      <td>Some Verizon iPhone customers complained their...</td>\n",
       "      <td>No emotion toward brand or product</td>\n",
       "      <td>some verizon iphone customers complained their...</td>\n",
       "    </tr>\n",
       "    <tr>\n",
       "      <th>9092</th>\n",
       "      <td>Ï¡Ïàü_ÊÎÒ£Áââ_£â_ÛâRT @...</td>\n",
       "      <td>No emotion toward brand or product</td>\n",
       "      <td>rt google tests check in offers at link</td>\n",
       "    </tr>\n",
       "  </tbody>\n",
       "</table>\n",
       "<p>8936 rows × 3 columns</p>\n",
       "</div>"
      ],
      "text/plain": [
       "                                                   Text  \\\n",
       "0     .@wesley83 I have a 3G iPhone. After 3 hrs twe...   \n",
       "1     @jessedee Know about @fludapp ? Awesome iPad/i...   \n",
       "2     @swonderlin Can not wait for #iPad 2 also. The...   \n",
       "3     @sxsw I hope this year's festival isn't as cra...   \n",
       "4     @sxtxstate great stuff on Fri #SXSW: Marissa M...   \n",
       "...                                                 ...   \n",
       "9088                      Ipad everywhere. #SXSW {link}   \n",
       "9089  Wave, buzz... RT @mention We interrupt your re...   \n",
       "9090  Google's Zeiger, a physician never reported po...   \n",
       "9091  Some Verizon iPhone customers complained their...   \n",
       "9092  Ï¡Ïàü_ÊÎÒ£Áââ_£â_ÛâRT @...   \n",
       "\n",
       "                                 Emotion  \\\n",
       "0                       Negative emotion   \n",
       "1                       Positive emotion   \n",
       "2                       Positive emotion   \n",
       "3                       Negative emotion   \n",
       "4                       Positive emotion   \n",
       "...                                  ...   \n",
       "9088                    Positive emotion   \n",
       "9089  No emotion toward brand or product   \n",
       "9090  No emotion toward brand or product   \n",
       "9091  No emotion toward brand or product   \n",
       "9092  No emotion toward brand or product   \n",
       "\n",
       "                                          Cleaned_Tweet  \n",
       "0     have iphone after hrs tweeting at it was dead ...  \n",
       "1     know about awesome ipad iphone app that you ll...  \n",
       "2     can not wait for also they should sale them do...  \n",
       "3     hope this year festival isn as crashy as this ...  \n",
       "4     great stuff on fri marissa mayer google tim re...  \n",
       "...                                                 ...  \n",
       "9088                               ipad everywhere link  \n",
       "9089  wave buzz rt we interrupt your regularly sched...  \n",
       "9090  google zeiger physician never reported potenti...  \n",
       "9091  some verizon iphone customers complained their...  \n",
       "9092            rt google tests check in offers at link  \n",
       "\n",
       "[8936 rows x 3 columns]"
      ]
     },
     "execution_count": 19,
     "metadata": {},
     "output_type": "execute_result"
    }
   ],
   "source": [
    "df"
   ]
  },
  {
   "cell_type": "code",
   "execution_count": 20,
   "metadata": {},
   "outputs": [],
   "source": [
    "import nltk\n",
    "from nltk.corpus import stopwords\n",
    "stop_words = stopwords.words(\"english\")\n",
    "stop_words.append(\"rt\")\n",
    "#getting rid of stopwords"
   ]
  },
  {
   "cell_type": "code",
   "execution_count": 21,
   "metadata": {},
   "outputs": [],
   "source": [
    "df.Cleaned_Tweet = df.Cleaned_Tweet.apply(lambda x:\" \".join([item for item in x.split() if item not in stop_words]))\n",
    "#getting rid of stopped words"
   ]
  },
  {
   "cell_type": "code",
   "execution_count": 22,
   "metadata": {},
   "outputs": [],
   "source": [
    "df.drop(\"Text\", axis = 1, inplace = True)\n",
    "#dropping the text column"
   ]
  },
  {
   "cell_type": "code",
   "execution_count": 23,
   "metadata": {},
   "outputs": [
    {
     "data": {
      "image/png": "[encoded data removed]",
      "text/plain": [
       "<Figure size 576x576 with 1 Axes>"
      ]
     },
     "metadata": {
      "needs_background": "light"
     },
     "output_type": "display_data"
    }
   ],
   "source": [
    "from wordcloud import WordCloud, STOPWORDS \n",
    "import matplotlib.pyplot as plt \n",
    "import pandas as pd \n",
    "words = ' '.join([txt for txt in df.Cleaned_Tweet])\n",
    "werds = WordCloud(width = 500, height = 300, max_font_size = 119).generate(words)\n",
    "plt.figure(figsize = (8, 8), facecolor = None) \n",
    "plt.imshow(werds) \n",
    "plt.axis(\"off\") \n",
    "plt.tight_layout(pad = 0) \n",
    "  \n",
    "plt.show() \n",
    "#most common words thus far"
   ]
  },
  {
   "cell_type": "code",
   "execution_count": 24,
   "metadata": {},
   "outputs": [],
   "source": [
    "new_words = [\"link\", \"quot\"]\n",
    "df.Cleaned_Tweet = df.Cleaned_Tweet.apply(lambda x:\" \".join([item for item in x.split() if item not in new_words]))\n",
    "#getting rid of other \"twitter\" words like link and quot"
   ]
  },
  {
   "cell_type": "code",
   "execution_count": 25,
   "metadata": {},
   "outputs": [
    {
     "data": {
      "image/png": "[encoded data removed]",
      "text/plain": [
       "<Figure size 576x576 with 1 Axes>"
      ]
     },
     "metadata": {
      "needs_background": "light"
     },
     "output_type": "display_data"
    }
   ],
   "source": [
    "words = ' '.join([txt for txt in df.Cleaned_Tweet])\n",
    "werds = WordCloud(width = 500, height = 300, max_font_size = 119).generate(words)\n",
    "plt.figure(figsize = (8, 8), facecolor = None) \n",
    "plt.imshow(werds) \n",
    "plt.axis(\"off\") \n",
    "plt.tight_layout(pad = 0) \n",
    "  \n",
    "plt.show() \n",
    "#updated image of most popular words"
   ]
  },
  {
   "cell_type": "code",
   "execution_count": 26,
   "metadata": {},
   "outputs": [],
   "source": [
    "from sklearn.model_selection import train_test_split\n",
    "X = df.Cleaned_Tweet\n",
    "y = df.Emotion\n",
    "X_train, X_test, y_train, y_test = train_test_split(X, y, test_size = .15, stratify = y)\n",
    "#setting X to the tweet, Y to the emotion, running the first train test splot"
   ]
  },
  {
   "cell_type": "code",
   "execution_count": 142,
   "metadata": {},
   "outputs": [
    {
     "data": {
      "text/plain": [
       "(7595,)"
      ]
     },
     "execution_count": 142,
     "metadata": {},
     "output_type": "execute_result"
    }
   ],
   "source": [
    "X_train.shape"
   ]
  },
  {
   "cell_type": "code",
   "execution_count": 143,
   "metadata": {},
   "outputs": [
    {
     "data": {
      "text/plain": [
       "((7595, 300), (7595, 300))"
      ]
     },
     "execution_count": 143,
     "metadata": {},
     "output_type": "execute_result"
    }
   ],
   "source": [
    "from sklearn.preprocessing import StandardScaler\n",
    "from keras.preprocessing.text import Tokenizer\n",
    "scaler = StandardScaler()\n",
    "tokenizer = Tokenizer(num_words=300)\n",
    "tokenizer.fit_on_texts(X_train)\n",
    "\n",
    "X_train_tokens = tokenizer.texts_to_matrix(X_train, mode='tfidf')\n",
    "X_test_tokens = tokenizer.texts_to_matrix(X_test, mode='tfidf')\n",
    "X_train_transformed = scaler.fit_transform(X_train_tokens)\n",
    "X_test_transformed = scaler.transform(X_test_tokens)\n",
    "X_train_tokens.shape, X_train_transformed.shape\n",
    "#transforming the data to fit with deep learning"
   ]
  },
  {
   "cell_type": "code",
   "execution_count": 144,
   "metadata": {},
   "outputs": [],
   "source": [
    "from sklearn.preprocessing import LabelBinarizer\n",
    "from keras.utils.np_utils import to_categorical\n",
    "lb = LabelBinarizer()\n",
    "lb.fit(y_train)\n",
    "\n",
    "y_train_lb = to_categorical(lb.transform(y_train))[:,:,1]\n",
    "y_test_lb = to_categorical(lb.transform(y_test))[:, :, 1]\n",
    "# turning \"y\" to categorical variables"
   ]
  },
  {
   "cell_type": "code",
   "execution_count": 145,
   "metadata": {},
   "outputs": [
    {
     "data": {
      "text/plain": [
       "(7595, 3)"
      ]
     },
     "execution_count": 145,
     "metadata": {},
     "output_type": "execute_result"
    }
   ],
   "source": [
    "y_train_lb.shape"
   ]
  },
  {
   "cell_type": "code",
   "execution_count": 146,
   "metadata": {},
   "outputs": [],
   "source": [
    "from keras import models\n",
    "from keras import layers\n",
    "model_1 = models.Sequential()\n",
    "model_1.add(layers.Dense(50, activation = 'relu', input_shape = (300,)))\n",
    "model_1.add(layers.Dense(100, activation = 'relu'))\n",
    "model_1.add(layers.Dense(3, activation = 'softmax'))\n",
    "\n",
    "model_1.compile(optimizer='SGD', \n",
    "                       loss='categorical_crossentropy', \n",
    "                       metrics=['acc'])\n",
    "#first neural network trial"
   ]
  },
  {
   "cell_type": "code",
   "execution_count": 147,
   "metadata": {},
   "outputs": [
    {
     "name": "stdout",
     "output_type": "stream",
     "text": [
      "Epoch 1/150\n",
      "27/27 [==============================] - 1s 14ms/step - loss: 1.2969 - acc: 0.3634 - val_loss: 0.9648 - val_acc: 0.5237\n",
      "Epoch 2/150\n",
      "27/27 [==============================] - 0s 5ms/step - loss: 0.9413 - acc: 0.5454 - val_loss: 0.9292 - val_acc: 0.5566\n",
      "Epoch 3/150\n",
      "27/27 [==============================] - 0s 5ms/step - loss: 0.9301 - acc: 0.5595 - val_loss: 0.9097 - val_acc: 0.5684\n",
      "Epoch 4/150\n",
      "27/27 [==============================] - 0s 5ms/step - loss: 0.8899 - acc: 0.5687 - val_loss: 0.8962 - val_acc: 0.5803\n",
      "Epoch 5/150\n",
      "27/27 [==============================] - 0s 5ms/step - loss: 0.8916 - acc: 0.5797 - val_loss: 0.8856 - val_acc: 0.5947\n",
      "Epoch 6/150\n",
      "27/27 [==============================] - 0s 6ms/step - loss: 0.8773 - acc: 0.5886 - val_loss: 0.8767 - val_acc: 0.6000\n",
      "Epoch 7/150\n",
      "27/27 [==============================] - 0s 5ms/step - loss: 0.8526 - acc: 0.6060 - val_loss: 0.8684 - val_acc: 0.6013\n",
      "Epoch 8/150\n",
      "27/27 [==============================] - 0s 5ms/step - loss: 0.8709 - acc: 0.5988 - val_loss: 0.8630 - val_acc: 0.5961\n",
      "Epoch 9/150\n",
      "27/27 [==============================] - 0s 5ms/step - loss: 0.8342 - acc: 0.6144 - val_loss: 0.8560 - val_acc: 0.6053\n",
      "Epoch 10/150\n",
      "27/27 [==============================] - 0s 5ms/step - loss: 0.8491 - acc: 0.6077 - val_loss: 0.8507 - val_acc: 0.6079\n",
      "Epoch 11/150\n",
      "27/27 [==============================] - 0s 5ms/step - loss: 0.8389 - acc: 0.6176 - val_loss: 0.8461 - val_acc: 0.6105\n",
      "Epoch 12/150\n",
      "27/27 [==============================] - 0s 8ms/step - loss: 0.8425 - acc: 0.6169 - val_loss: 0.8418 - val_acc: 0.6079\n",
      "Epoch 13/150\n",
      "27/27 [==============================] - 0s 6ms/step - loss: 0.8240 - acc: 0.6277 - val_loss: 0.8376 - val_acc: 0.6132\n",
      "Epoch 14/150\n",
      "27/27 [==============================] - 0s 7ms/step - loss: 0.8167 - acc: 0.6336 - val_loss: 0.8332 - val_acc: 0.6197\n",
      "Epoch 15/150\n",
      "27/27 [==============================] - 0s 9ms/step - loss: 0.8185 - acc: 0.6322 - val_loss: 0.8302 - val_acc: 0.6197\n",
      "Epoch 16/150\n",
      "27/27 [==============================] - 0s 7ms/step - loss: 0.8188 - acc: 0.6225 - val_loss: 0.8266 - val_acc: 0.6276\n",
      "Epoch 17/150\n",
      "27/27 [==============================] - 0s 7ms/step - loss: 0.8052 - acc: 0.6263 - val_loss: 0.8233 - val_acc: 0.6289\n",
      "Epoch 18/150\n",
      "27/27 [==============================] - 0s 5ms/step - loss: 0.8132 - acc: 0.6297 - val_loss: 0.8197 - val_acc: 0.6289\n",
      "Epoch 19/150\n",
      "27/27 [==============================] - 0s 5ms/step - loss: 0.7920 - acc: 0.6437 - val_loss: 0.8168 - val_acc: 0.6263\n",
      "Epoch 20/150\n",
      "27/27 [==============================] - 0s 5ms/step - loss: 0.7979 - acc: 0.6346 - val_loss: 0.8144 - val_acc: 0.6263\n",
      "Epoch 21/150\n",
      "27/27 [==============================] - 0s 5ms/step - loss: 0.7865 - acc: 0.6438 - val_loss: 0.8115 - val_acc: 0.6303\n",
      "Epoch 22/150\n",
      "27/27 [==============================] - 0s 6ms/step - loss: 0.7877 - acc: 0.6459 - val_loss: 0.8089 - val_acc: 0.6303\n",
      "Epoch 23/150\n",
      "27/27 [==============================] - 0s 6ms/step - loss: 0.7664 - acc: 0.6546 - val_loss: 0.8061 - val_acc: 0.6303\n",
      "Epoch 24/150\n",
      "27/27 [==============================] - 0s 5ms/step - loss: 0.7740 - acc: 0.6533 - val_loss: 0.8039 - val_acc: 0.6316\n",
      "Epoch 25/150\n",
      "27/27 [==============================] - 0s 5ms/step - loss: 0.7613 - acc: 0.6646 - val_loss: 0.8014 - val_acc: 0.6316\n",
      "Epoch 26/150\n",
      "27/27 [==============================] - 0s 5ms/step - loss: 0.7774 - acc: 0.6515 - val_loss: 0.7993 - val_acc: 0.6289\n",
      "Epoch 27/150\n",
      "27/27 [==============================] - 0s 5ms/step - loss: 0.7602 - acc: 0.6624 - val_loss: 0.7970 - val_acc: 0.6382\n",
      "Epoch 28/150\n",
      "27/27 [==============================] - 0s 5ms/step - loss: 0.7661 - acc: 0.6544 - val_loss: 0.7949 - val_acc: 0.6382\n",
      "Epoch 29/150\n",
      "27/27 [==============================] - 0s 5ms/step - loss: 0.7597 - acc: 0.6577 - val_loss: 0.7929 - val_acc: 0.6355\n",
      "Epoch 30/150\n",
      "27/27 [==============================] - 0s 5ms/step - loss: 0.7627 - acc: 0.6567 - val_loss: 0.7912 - val_acc: 0.6395\n",
      "Epoch 31/150\n",
      "27/27 [==============================] - 0s 5ms/step - loss: 0.7502 - acc: 0.6679 - val_loss: 0.7893 - val_acc: 0.6395\n",
      "Epoch 32/150\n",
      "27/27 [==============================] - 0s 5ms/step - loss: 0.7614 - acc: 0.6597 - val_loss: 0.7880 - val_acc: 0.6382\n",
      "Epoch 33/150\n",
      "27/27 [==============================] - 0s 5ms/step - loss: 0.7469 - acc: 0.6597 - val_loss: 0.7860 - val_acc: 0.6395\n",
      "Epoch 34/150\n",
      "27/27 [==============================] - 0s 5ms/step - loss: 0.7536 - acc: 0.6742 - val_loss: 0.7846 - val_acc: 0.6408\n",
      "Epoch 35/150\n",
      "27/27 [==============================] - 0s 5ms/step - loss: 0.7400 - acc: 0.6679 - val_loss: 0.7834 - val_acc: 0.6421\n",
      "Epoch 36/150\n",
      "27/27 [==============================] - 0s 8ms/step - loss: 0.7491 - acc: 0.6671 - val_loss: 0.7815 - val_acc: 0.6434\n",
      "Epoch 37/150\n",
      "27/27 [==============================] - 0s 7ms/step - loss: 0.7379 - acc: 0.6659 - val_loss: 0.7802 - val_acc: 0.6447\n",
      "Epoch 38/150\n",
      "27/27 [==============================] - 0s 6ms/step - loss: 0.7440 - acc: 0.6733 - val_loss: 0.7787 - val_acc: 0.6461\n",
      "Epoch 39/150\n",
      "27/27 [==============================] - 0s 6ms/step - loss: 0.7361 - acc: 0.6749 - val_loss: 0.7775 - val_acc: 0.6434\n",
      "Epoch 40/150\n",
      "27/27 [==============================] - 0s 7ms/step - loss: 0.7220 - acc: 0.6883 - val_loss: 0.7764 - val_acc: 0.6447\n",
      "Epoch 41/150\n",
      "27/27 [==============================] - 0s 7ms/step - loss: 0.7359 - acc: 0.6757 - val_loss: 0.7747 - val_acc: 0.6421\n",
      "Epoch 42/150\n",
      "27/27 [==============================] - 0s 6ms/step - loss: 0.7217 - acc: 0.6859 - val_loss: 0.7740 - val_acc: 0.6408\n",
      "Epoch 43/150\n",
      "27/27 [==============================] - 0s 6ms/step - loss: 0.7289 - acc: 0.6776 - val_loss: 0.7724 - val_acc: 0.6395\n",
      "Epoch 44/150\n",
      "27/27 [==============================] - 0s 7ms/step - loss: 0.7160 - acc: 0.6868 - val_loss: 0.7715 - val_acc: 0.6408\n",
      "Epoch 45/150\n",
      "27/27 [==============================] - 0s 7ms/step - loss: 0.7230 - acc: 0.6755 - val_loss: 0.7705 - val_acc: 0.6408\n",
      "Epoch 46/150\n",
      "27/27 [==============================] - 0s 7ms/step - loss: 0.7150 - acc: 0.6818 - val_loss: 0.7694 - val_acc: 0.6368\n",
      "Epoch 47/150\n",
      "27/27 [==============================] - 0s 5ms/step - loss: 0.7182 - acc: 0.6788 - val_loss: 0.7688 - val_acc: 0.6408\n",
      "Epoch 48/150\n",
      "27/27 [==============================] - 0s 6ms/step - loss: 0.7154 - acc: 0.6852 - val_loss: 0.7678 - val_acc: 0.6382\n",
      "Epoch 49/150\n",
      "27/27 [==============================] - 0s 7ms/step - loss: 0.6956 - acc: 0.6905 - val_loss: 0.7667 - val_acc: 0.6342\n",
      "Epoch 50/150\n",
      "27/27 [==============================] - 0s 5ms/step - loss: 0.7119 - acc: 0.6871 - val_loss: 0.7666 - val_acc: 0.6421\n",
      "Epoch 51/150\n",
      "27/27 [==============================] - 0s 6ms/step - loss: 0.6972 - acc: 0.6919 - val_loss: 0.7655 - val_acc: 0.6395\n",
      "Epoch 52/150\n",
      "27/27 [==============================] - 0s 5ms/step - loss: 0.7074 - acc: 0.6894 - val_loss: 0.7648 - val_acc: 0.6395\n",
      "Epoch 53/150\n",
      "27/27 [==============================] - 0s 7ms/step - loss: 0.7018 - acc: 0.6959 - val_loss: 0.7636 - val_acc: 0.6355\n",
      "Epoch 54/150\n",
      "27/27 [==============================] - 0s 6ms/step - loss: 0.6875 - acc: 0.6971 - val_loss: 0.7633 - val_acc: 0.6368\n",
      "Epoch 55/150\n",
      "27/27 [==============================] - 0s 7ms/step - loss: 0.6989 - acc: 0.6971 - val_loss: 0.7624 - val_acc: 0.6342\n",
      "Epoch 56/150\n",
      "27/27 [==============================] - 0s 6ms/step - loss: 0.6963 - acc: 0.6942 - val_loss: 0.7617 - val_acc: 0.6355\n",
      "Epoch 57/150\n",
      "27/27 [==============================] - 0s 6ms/step - loss: 0.6993 - acc: 0.6973 - val_loss: 0.7613 - val_acc: 0.6355\n",
      "Epoch 58/150\n",
      "27/27 [==============================] - 0s 5ms/step - loss: 0.6909 - acc: 0.6955 - val_loss: 0.7608 - val_acc: 0.6355\n",
      "Epoch 59/150\n",
      "27/27 [==============================] - 0s 7ms/step - loss: 0.6830 - acc: 0.7059 - val_loss: 0.7608 - val_acc: 0.6368\n",
      "Epoch 60/150\n",
      "27/27 [==============================] - 0s 7ms/step - loss: 0.6639 - acc: 0.7140 - val_loss: 0.7595 - val_acc: 0.6355\n",
      "Epoch 61/150\n",
      "27/27 [==============================] - 0s 6ms/step - loss: 0.6785 - acc: 0.7098 - val_loss: 0.7592 - val_acc: 0.6355\n",
      "Epoch 62/150\n",
      "27/27 [==============================] - 0s 6ms/step - loss: 0.6820 - acc: 0.7016 - val_loss: 0.7590 - val_acc: 0.6368\n",
      "Epoch 63/150\n",
      "27/27 [==============================] - 0s 5ms/step - loss: 0.6738 - acc: 0.7085 - val_loss: 0.7586 - val_acc: 0.6382\n",
      "Epoch 64/150\n",
      "27/27 [==============================] - 0s 4ms/step - loss: 0.6733 - acc: 0.7084 - val_loss: 0.7581 - val_acc: 0.6368\n",
      "Epoch 65/150\n",
      "27/27 [==============================] - 0s 5ms/step - loss: 0.6748 - acc: 0.7111 - val_loss: 0.7576 - val_acc: 0.6368\n",
      "Epoch 66/150\n",
      "27/27 [==============================] - 0s 4ms/step - loss: 0.6633 - acc: 0.7121 - val_loss: 0.7573 - val_acc: 0.6382\n",
      "Epoch 67/150\n",
      "27/27 [==============================] - 0s 4ms/step - loss: 0.6686 - acc: 0.7056 - val_loss: 0.7568 - val_acc: 0.6382\n",
      "Epoch 68/150\n",
      "27/27 [==============================] - 0s 4ms/step - loss: 0.6659 - acc: 0.7166 - val_loss: 0.7565 - val_acc: 0.6395\n",
      "Epoch 69/150\n",
      "27/27 [==============================] - 0s 4ms/step - loss: 0.6663 - acc: 0.7162 - val_loss: 0.7563 - val_acc: 0.6368\n",
      "Epoch 70/150\n",
      "27/27 [==============================] - 0s 5ms/step - loss: 0.6685 - acc: 0.7110 - val_loss: 0.7569 - val_acc: 0.6421\n",
      "Epoch 71/150\n",
      "27/27 [==============================] - 0s 5ms/step - loss: 0.6547 - acc: 0.7223 - val_loss: 0.7564 - val_acc: 0.6447\n",
      "Epoch 72/150\n",
      "27/27 [==============================] - 0s 5ms/step - loss: 0.6454 - acc: 0.7264 - val_loss: 0.7558 - val_acc: 0.6408\n",
      "Epoch 73/150\n",
      "27/27 [==============================] - 0s 5ms/step - loss: 0.6620 - acc: 0.7152 - val_loss: 0.7558 - val_acc: 0.6395\n",
      "Epoch 74/150\n",
      "27/27 [==============================] - 0s 4ms/step - loss: 0.6489 - acc: 0.7227 - val_loss: 0.7557 - val_acc: 0.6408\n",
      "Epoch 75/150\n",
      "27/27 [==============================] - 0s 4ms/step - loss: 0.6513 - acc: 0.7157 - val_loss: 0.7556 - val_acc: 0.6408\n",
      "Epoch 76/150\n",
      "27/27 [==============================] - 0s 6ms/step - loss: 0.6496 - acc: 0.7245 - val_loss: 0.7556 - val_acc: 0.6434\n",
      "Epoch 77/150\n",
      "27/27 [==============================] - 0s 5ms/step - loss: 0.6460 - acc: 0.7176 - val_loss: 0.7555 - val_acc: 0.6434\n",
      "Epoch 78/150\n",
      "27/27 [==============================] - 0s 4ms/step - loss: 0.6436 - acc: 0.7230 - val_loss: 0.7556 - val_acc: 0.6408\n",
      "Epoch 79/150\n",
      "27/27 [==============================] - 0s 7ms/step - loss: 0.6293 - acc: 0.7324 - val_loss: 0.7553 - val_acc: 0.6395\n",
      "Epoch 80/150\n",
      "27/27 [==============================] - 0s 6ms/step - loss: 0.6448 - acc: 0.7196 - val_loss: 0.7555 - val_acc: 0.6408\n",
      "Epoch 81/150\n",
      "27/27 [==============================] - 0s 5ms/step - loss: 0.6318 - acc: 0.7274 - val_loss: 0.7560 - val_acc: 0.6408\n",
      "Epoch 82/150\n",
      "27/27 [==============================] - 0s 5ms/step - loss: 0.6479 - acc: 0.7203 - val_loss: 0.7551 - val_acc: 0.6421\n",
      "Epoch 83/150\n",
      "27/27 [==============================] - 0s 5ms/step - loss: 0.6346 - acc: 0.7269 - val_loss: 0.7563 - val_acc: 0.6408\n",
      "Epoch 84/150\n",
      "27/27 [==============================] - 0s 5ms/step - loss: 0.6324 - acc: 0.7277 - val_loss: 0.7559 - val_acc: 0.6447\n",
      "Epoch 85/150\n",
      "27/27 [==============================] - 0s 4ms/step - loss: 0.6399 - acc: 0.7276 - val_loss: 0.7558 - val_acc: 0.6434\n",
      "Epoch 86/150\n",
      "27/27 [==============================] - 0s 4ms/step - loss: 0.6399 - acc: 0.7153 - val_loss: 0.7559 - val_acc: 0.6434\n",
      "Epoch 87/150\n",
      "27/27 [==============================] - 0s 4ms/step - loss: 0.6199 - acc: 0.7360 - val_loss: 0.7560 - val_acc: 0.6434\n",
      "Epoch 88/150\n",
      "27/27 [==============================] - 0s 5ms/step - loss: 0.6341 - acc: 0.7270 - val_loss: 0.7558 - val_acc: 0.6474\n",
      "Epoch 89/150\n",
      "27/27 [==============================] - 0s 5ms/step - loss: 0.6195 - acc: 0.7356 - val_loss: 0.7564 - val_acc: 0.6421\n",
      "Epoch 90/150\n",
      "27/27 [==============================] - 0s 4ms/step - loss: 0.6222 - acc: 0.7330 - val_loss: 0.7559 - val_acc: 0.6539\n",
      "Epoch 91/150\n",
      "27/27 [==============================] - 0s 4ms/step - loss: 0.6287 - acc: 0.7335 - val_loss: 0.7566 - val_acc: 0.6434\n",
      "Epoch 92/150\n",
      "27/27 [==============================] - 0s 4ms/step - loss: 0.6261 - acc: 0.7357 - val_loss: 0.7563 - val_acc: 0.6500\n",
      "Epoch 93/150\n",
      "27/27 [==============================] - 0s 5ms/step - loss: 0.6234 - acc: 0.7357 - val_loss: 0.7562 - val_acc: 0.6500\n",
      "Epoch 94/150\n",
      "27/27 [==============================] - 0s 4ms/step - loss: 0.6237 - acc: 0.7280 - val_loss: 0.7567 - val_acc: 0.6500\n",
      "Epoch 95/150\n",
      "27/27 [==============================] - 0s 7ms/step - loss: 0.6224 - acc: 0.7302 - val_loss: 0.7574 - val_acc: 0.6434\n",
      "Epoch 96/150\n",
      "27/27 [==============================] - 0s 5ms/step - loss: 0.6104 - acc: 0.7381 - val_loss: 0.7573 - val_acc: 0.6487\n",
      "Epoch 97/150\n",
      "27/27 [==============================] - 0s 5ms/step - loss: 0.6029 - acc: 0.7432 - val_loss: 0.7573 - val_acc: 0.6526\n",
      "Epoch 98/150\n",
      "27/27 [==============================] - 0s 6ms/step - loss: 0.6111 - acc: 0.7402 - val_loss: 0.7579 - val_acc: 0.6513\n",
      "Epoch 99/150\n",
      "27/27 [==============================] - 0s 6ms/step - loss: 0.6047 - acc: 0.7441 - val_loss: 0.7574 - val_acc: 0.6553\n",
      "Epoch 100/150\n",
      "27/27 [==============================] - 0s 5ms/step - loss: 0.6059 - acc: 0.7415 - val_loss: 0.7580 - val_acc: 0.6539\n",
      "Epoch 101/150\n",
      "27/27 [==============================] - 0s 6ms/step - loss: 0.6086 - acc: 0.7448 - val_loss: 0.7581 - val_acc: 0.6526\n",
      "Epoch 102/150\n",
      "27/27 [==============================] - 0s 4ms/step - loss: 0.6015 - acc: 0.7460 - val_loss: 0.7584 - val_acc: 0.6539\n",
      "Epoch 103/150\n",
      "27/27 [==============================] - 0s 7ms/step - loss: 0.5968 - acc: 0.7415 - val_loss: 0.7588 - val_acc: 0.6539\n",
      "Epoch 104/150\n",
      "27/27 [==============================] - 0s 5ms/step - loss: 0.5952 - acc: 0.7486 - val_loss: 0.7591 - val_acc: 0.6553\n",
      "Epoch 105/150\n",
      "27/27 [==============================] - 0s 5ms/step - loss: 0.6022 - acc: 0.7397 - val_loss: 0.7592 - val_acc: 0.6553\n",
      "Epoch 106/150\n",
      "27/27 [==============================] - 0s 5ms/step - loss: 0.5995 - acc: 0.7444 - val_loss: 0.7594 - val_acc: 0.6566\n",
      "Epoch 107/150\n",
      "27/27 [==============================] - 0s 4ms/step - loss: 0.5986 - acc: 0.7406 - val_loss: 0.7599 - val_acc: 0.6539\n",
      "Epoch 108/150\n",
      "27/27 [==============================] - 0s 4ms/step - loss: 0.6029 - acc: 0.7439 - val_loss: 0.7611 - val_acc: 0.6500\n",
      "Epoch 109/150\n",
      "27/27 [==============================] - 0s 4ms/step - loss: 0.5855 - acc: 0.7513 - val_loss: 0.7611 - val_acc: 0.6513\n",
      "Epoch 110/150\n",
      "27/27 [==============================] - 0s 4ms/step - loss: 0.5829 - acc: 0.7561 - val_loss: 0.7607 - val_acc: 0.6539\n",
      "Epoch 111/150\n",
      "27/27 [==============================] - 0s 4ms/step - loss: 0.5957 - acc: 0.7459 - val_loss: 0.7613 - val_acc: 0.6566\n",
      "Epoch 112/150\n",
      "27/27 [==============================] - 0s 4ms/step - loss: 0.5963 - acc: 0.7440 - val_loss: 0.7612 - val_acc: 0.6579\n",
      "Epoch 113/150\n",
      "27/27 [==============================] - 0s 5ms/step - loss: 0.5898 - acc: 0.7463 - val_loss: 0.7615 - val_acc: 0.6553\n",
      "Epoch 114/150\n",
      "27/27 [==============================] - 0s 4ms/step - loss: 0.5936 - acc: 0.7481 - val_loss: 0.7620 - val_acc: 0.6579\n",
      "Epoch 115/150\n",
      "27/27 [==============================] - 0s 5ms/step - loss: 0.5903 - acc: 0.7501 - val_loss: 0.7627 - val_acc: 0.6539\n",
      "Epoch 116/150\n",
      "27/27 [==============================] - 0s 6ms/step - loss: 0.5855 - acc: 0.7554 - val_loss: 0.7624 - val_acc: 0.6579\n",
      "Epoch 117/150\n",
      "27/27 [==============================] - 0s 5ms/step - loss: 0.5973 - acc: 0.7451 - val_loss: 0.7631 - val_acc: 0.6579\n",
      "Epoch 118/150\n",
      "27/27 [==============================] - 0s 5ms/step - loss: 0.5824 - acc: 0.7502 - val_loss: 0.7631 - val_acc: 0.6566\n",
      "Epoch 119/150\n",
      "27/27 [==============================] - 0s 5ms/step - loss: 0.5634 - acc: 0.7622 - val_loss: 0.7631 - val_acc: 0.6605\n",
      "Epoch 120/150\n",
      "27/27 [==============================] - 0s 4ms/step - loss: 0.5850 - acc: 0.7449 - val_loss: 0.7638 - val_acc: 0.6566\n",
      "Epoch 121/150\n",
      "27/27 [==============================] - 0s 5ms/step - loss: 0.5736 - acc: 0.7565 - val_loss: 0.7639 - val_acc: 0.6592\n",
      "Epoch 122/150\n",
      "27/27 [==============================] - 0s 4ms/step - loss: 0.5779 - acc: 0.7528 - val_loss: 0.7648 - val_acc: 0.6553\n",
      "Epoch 123/150\n",
      "27/27 [==============================] - 0s 4ms/step - loss: 0.5796 - acc: 0.7534 - val_loss: 0.7657 - val_acc: 0.6566\n",
      "Epoch 124/150\n",
      "27/27 [==============================] - 0s 5ms/step - loss: 0.5778 - acc: 0.7541 - val_loss: 0.7660 - val_acc: 0.6553\n"
     ]
    },
    {
     "name": "stdout",
     "output_type": "stream",
     "text": [
      "Epoch 125/150\n",
      "27/27 [==============================] - 0s 5ms/step - loss: 0.5670 - acc: 0.7608 - val_loss: 0.7651 - val_acc: 0.6605\n",
      "Epoch 126/150\n",
      "27/27 [==============================] - 0s 4ms/step - loss: 0.5801 - acc: 0.7499 - val_loss: 0.7661 - val_acc: 0.6579\n",
      "Epoch 127/150\n",
      "27/27 [==============================] - 0s 5ms/step - loss: 0.5789 - acc: 0.7528 - val_loss: 0.7665 - val_acc: 0.6605\n",
      "Epoch 128/150\n",
      "27/27 [==============================] - 0s 4ms/step - loss: 0.5624 - acc: 0.7609 - val_loss: 0.7666 - val_acc: 0.6605\n",
      "Epoch 129/150\n",
      "27/27 [==============================] - 0s 4ms/step - loss: 0.5558 - acc: 0.7669 - val_loss: 0.7673 - val_acc: 0.6605\n",
      "Epoch 130/150\n",
      "27/27 [==============================] - 0s 4ms/step - loss: 0.5594 - acc: 0.7617 - val_loss: 0.7677 - val_acc: 0.6618\n",
      "Epoch 131/150\n",
      "27/27 [==============================] - 0s 4ms/step - loss: 0.5655 - acc: 0.7642 - val_loss: 0.7683 - val_acc: 0.6605\n",
      "Epoch 132/150\n",
      "27/27 [==============================] - 0s 4ms/step - loss: 0.5627 - acc: 0.7618 - val_loss: 0.7685 - val_acc: 0.6592\n",
      "Epoch 133/150\n",
      "27/27 [==============================] - 0s 4ms/step - loss: 0.5556 - acc: 0.7668 - val_loss: 0.7692 - val_acc: 0.6592\n",
      "Epoch 134/150\n",
      "27/27 [==============================] - 0s 4ms/step - loss: 0.5520 - acc: 0.7666 - val_loss: 0.7703 - val_acc: 0.6579\n",
      "Epoch 135/150\n",
      "27/27 [==============================] - 0s 6ms/step - loss: 0.5588 - acc: 0.7612 - val_loss: 0.7700 - val_acc: 0.6618\n",
      "Epoch 136/150\n",
      "27/27 [==============================] - 0s 5ms/step - loss: 0.5593 - acc: 0.7665 - val_loss: 0.7708 - val_acc: 0.6592\n",
      "Epoch 137/150\n",
      "27/27 [==============================] - 0s 6ms/step - loss: 0.5543 - acc: 0.7681 - val_loss: 0.7711 - val_acc: 0.6566\n",
      "Epoch 138/150\n",
      "27/27 [==============================] - 0s 5ms/step - loss: 0.5363 - acc: 0.7763 - val_loss: 0.7725 - val_acc: 0.6592\n",
      "Epoch 139/150\n",
      "27/27 [==============================] - 0s 5ms/step - loss: 0.5594 - acc: 0.7562 - val_loss: 0.7730 - val_acc: 0.6566\n",
      "Epoch 140/150\n",
      "27/27 [==============================] - 0s 4ms/step - loss: 0.5511 - acc: 0.7702 - val_loss: 0.7732 - val_acc: 0.6553\n",
      "Epoch 141/150\n",
      "27/27 [==============================] - 0s 4ms/step - loss: 0.5549 - acc: 0.7621 - val_loss: 0.7731 - val_acc: 0.6605\n",
      "Epoch 142/150\n",
      "27/27 [==============================] - 0s 4ms/step - loss: 0.5635 - acc: 0.7627 - val_loss: 0.7740 - val_acc: 0.6553\n",
      "Epoch 143/150\n",
      "27/27 [==============================] - 0s 5ms/step - loss: 0.5436 - acc: 0.7777 - val_loss: 0.7754 - val_acc: 0.6553\n",
      "Epoch 144/150\n",
      "27/27 [==============================] - 0s 5ms/step - loss: 0.5379 - acc: 0.7723 - val_loss: 0.7745 - val_acc: 0.6605\n",
      "Epoch 145/150\n",
      "27/27 [==============================] - 0s 6ms/step - loss: 0.5384 - acc: 0.7759 - val_loss: 0.7752 - val_acc: 0.6592\n",
      "Epoch 146/150\n",
      "27/27 [==============================] - 0s 5ms/step - loss: 0.5440 - acc: 0.7748 - val_loss: 0.7771 - val_acc: 0.6539\n",
      "Epoch 147/150\n",
      "27/27 [==============================] - 0s 5ms/step - loss: 0.5425 - acc: 0.7714 - val_loss: 0.7765 - val_acc: 0.6618\n",
      "Epoch 148/150\n",
      "27/27 [==============================] - 0s 7ms/step - loss: 0.5429 - acc: 0.7757 - val_loss: 0.7772 - val_acc: 0.6605\n",
      "Epoch 149/150\n",
      "27/27 [==============================] - 0s 5ms/step - loss: 0.5455 - acc: 0.7693 - val_loss: 0.7779 - val_acc: 0.6592\n",
      "Epoch 150/150\n",
      "27/27 [==============================] - 0s 5ms/step - loss: 0.5286 - acc: 0.7785 - val_loss: 0.7781 - val_acc: 0.6632\n"
     ]
    }
   ],
   "source": [
    "model_1_val = model_1.fit(X_train_transformed, y_train_lb, epochs = 150,\n",
    "                         batch_size = 256, validation_split=.1,)"
   ]
  },
  {
   "cell_type": "code",
   "execution_count": 148,
   "metadata": {},
   "outputs": [
    {
     "data": {
      "image/png": "[encoded data removed]",
      "text/plain": [
       "<Figure size 432x288 with 1 Axes>"
      ]
     },
     "metadata": {
      "needs_background": "light"
     },
     "output_type": "display_data"
    },
    {
     "data": {
      "image/png": "[encoded data removed]",
      "text/plain": [
       "<Figure size 432x288 with 1 Axes>"
      ]
     },
     "metadata": {
      "needs_background": "light"
     },
     "output_type": "display_data"
    }
   ],
   "source": [
    "import matplotlib.pyplot as plt\n",
    "history = model_1_val.history\n",
    "plt.figure()\n",
    "plt.plot(np.arange(1,151,1), history[\"loss\"], label = \"train_loss\")\n",
    "plt.plot(np.arange(1,151,1), history[\"val_loss\"], label = \"val_loss\")\n",
    "plt.legend()\n",
    "plt.show()\n",
    "history = model_1_val.history\n",
    "plt.figure()\n",
    "plt.plot(np.arange(1,151,1), history[\"acc\"], label = \"train accuracy\")\n",
    "plt.plot(np.arange(1,151,1), history[\"val_acc\"], label = \"val_accuracy\")\n",
    "plt.legend()\n",
    "plt.show()\n",
    "#clear signs of overfitting, onto the next model"
   ]
  },
  {
   "cell_type": "code",
   "execution_count": 40,
   "metadata": {},
   "outputs": [
    {
     "name": "stdout",
     "output_type": "stream",
     "text": [
      "238/238 [==============================] - 0s 1ms/step - loss: 0.5577 - acc: 0.7700\n",
      "Training Loss: 0.558 \n",
      "Training Accuracy: 0.77\n"
     ]
    }
   ],
   "source": [
    "results = model_1.evaluate(X_train_transformed, y_train_lb)\n",
    "print(f'Training Loss: {results[0]:.3} \\nTraining Accuracy: {results[1]:.3}')\n",
    "#training accuracy"
   ]
  },
  {
   "cell_type": "code",
   "execution_count": 41,
   "metadata": {},
   "outputs": [
    {
     "name": "stdout",
     "output_type": "stream",
     "text": [
      "42/42 [==============================] - 0s 2ms/step - loss: 0.8077 - acc: 0.6510\n",
      "Testing Loss: 0.808 \n",
      "Testing Accuracy: 0.651\n"
     ]
    }
   ],
   "source": [
    "results2 = model_1.evaluate(X_test_transformed, y_test_lb)\n",
    "print(f'Testing Loss: {results2[0]:.3} \\nTesting Accuracy: {results2[1]:.3}')\n",
    "#testing accuracy"
   ]
  },
  {
   "cell_type": "code",
   "execution_count": 42,
   "metadata": {},
   "outputs": [],
   "source": [
    "from keras.layers import Dropout\n",
    "model_2 = models.Sequential()\n",
    "model_2.add(layers.Dense(50, activation = 'relu', input_shape = (300,)))\n",
    "model_2.add(Dropout(.2))\n",
    "model_2.add(layers.Dense(100, activation = 'relu'))\n",
    "model_2.add(Dropout(.2))\n",
    "model_2.add(layers.Dense(3, activation = 'softmax'))\n",
    "\n",
    "model_2.compile(optimizer='SGD', \n",
    "                       loss='categorical_crossentropy', \n",
    "                       metrics=['acc'])\n",
    "# second iteration including dropout neurons"
   ]
  },
  {
   "cell_type": "code",
   "execution_count": 43,
   "metadata": {},
   "outputs": [
    {
     "name": "stdout",
     "output_type": "stream",
     "text": [
      "Epoch 1/150\n",
      "27/27 [==============================] - 1s 16ms/step - loss: 1.3418 - acc: 0.3068 - val_loss: 0.9517 - val_acc: 0.5829\n",
      "Epoch 2/150\n",
      "27/27 [==============================] - 0s 8ms/step - loss: 1.0147 - acc: 0.5252 - val_loss: 0.9036 - val_acc: 0.5987\n",
      "Epoch 3/150\n",
      "27/27 [==============================] - 0s 7ms/step - loss: 0.9713 - acc: 0.5558 - val_loss: 0.8844 - val_acc: 0.6105\n",
      "Epoch 4/150\n",
      "27/27 [==============================] - 0s 5ms/step - loss: 0.9494 - acc: 0.5681 - val_loss: 0.8737 - val_acc: 0.6132\n",
      "Epoch 5/150\n",
      "27/27 [==============================] - 0s 8ms/step - loss: 0.9215 - acc: 0.5712 - val_loss: 0.8660 - val_acc: 0.6145\n",
      "Epoch 6/150\n",
      "27/27 [==============================] - 0s 7ms/step - loss: 0.9201 - acc: 0.5705 - val_loss: 0.8605 - val_acc: 0.6171\n",
      "Epoch 7/150\n",
      "27/27 [==============================] - 0s 5ms/step - loss: 0.9051 - acc: 0.5795 - val_loss: 0.8556 - val_acc: 0.6237\n",
      "Epoch 8/150\n",
      "27/27 [==============================] - 0s 8ms/step - loss: 0.9026 - acc: 0.5739 - val_loss: 0.8517 - val_acc: 0.6316\n",
      "Epoch 9/150\n",
      "27/27 [==============================] - 0s 6ms/step - loss: 0.9067 - acc: 0.5744 - val_loss: 0.8482 - val_acc: 0.6303\n",
      "Epoch 10/150\n",
      "27/27 [==============================] - 0s 5ms/step - loss: 0.8895 - acc: 0.5831 - val_loss: 0.8450 - val_acc: 0.6276\n",
      "Epoch 11/150\n",
      "27/27 [==============================] - 0s 12ms/step - loss: 0.8795 - acc: 0.6002 - val_loss: 0.8424 - val_acc: 0.6289\n",
      "Epoch 12/150\n",
      "27/27 [==============================] - 0s 5ms/step - loss: 0.8908 - acc: 0.5985 - val_loss: 0.8397 - val_acc: 0.6289\n",
      "Epoch 13/150\n",
      "27/27 [==============================] - 0s 8ms/step - loss: 0.8679 - acc: 0.5978 - val_loss: 0.8376 - val_acc: 0.6250\n",
      "Epoch 14/150\n",
      "27/27 [==============================] - 0s 6ms/step - loss: 0.8741 - acc: 0.5966 - val_loss: 0.8350 - val_acc: 0.6303\n",
      "Epoch 15/150\n",
      "27/27 [==============================] - 0s 7ms/step - loss: 0.8687 - acc: 0.6098 - val_loss: 0.8331 - val_acc: 0.6303\n",
      "Epoch 16/150\n",
      "27/27 [==============================] - 0s 6ms/step - loss: 0.8589 - acc: 0.6071 - val_loss: 0.8311 - val_acc: 0.6303\n",
      "Epoch 17/150\n",
      "27/27 [==============================] - 0s 5ms/step - loss: 0.8614 - acc: 0.5948 - val_loss: 0.8293 - val_acc: 0.6342\n",
      "Epoch 18/150\n",
      "27/27 [==============================] - 0s 6ms/step - loss: 0.8569 - acc: 0.6069 - val_loss: 0.8277 - val_acc: 0.6316\n",
      "Epoch 19/150\n",
      "27/27 [==============================] - 0s 10ms/step - loss: 0.8662 - acc: 0.5969 - val_loss: 0.8261 - val_acc: 0.6329\n",
      "Epoch 20/150\n",
      "27/27 [==============================] - 0s 5ms/step - loss: 0.8554 - acc: 0.6087 - val_loss: 0.8251 - val_acc: 0.6276\n",
      "Epoch 21/150\n",
      "27/27 [==============================] - 0s 8ms/step - loss: 0.8459 - acc: 0.6094 - val_loss: 0.8234 - val_acc: 0.6250\n",
      "Epoch 22/150\n",
      "27/27 [==============================] - 0s 7ms/step - loss: 0.8418 - acc: 0.6060 - val_loss: 0.8217 - val_acc: 0.6316\n",
      "Epoch 23/150\n",
      "27/27 [==============================] - 0s 5ms/step - loss: 0.8399 - acc: 0.6168 - val_loss: 0.8206 - val_acc: 0.6250\n",
      "Epoch 24/150\n",
      "27/27 [==============================] - 0s 8ms/step - loss: 0.8340 - acc: 0.6140 - val_loss: 0.8192 - val_acc: 0.6303\n",
      "Epoch 25/150\n",
      "27/27 [==============================] - 0s 6ms/step - loss: 0.8429 - acc: 0.6120 - val_loss: 0.8177 - val_acc: 0.6303\n",
      "Epoch 26/150\n",
      "27/27 [==============================] - 0s 5ms/step - loss: 0.8490 - acc: 0.6130 - val_loss: 0.8163 - val_acc: 0.6303\n",
      "Epoch 27/150\n",
      "27/27 [==============================] - 0s 9ms/step - loss: 0.8257 - acc: 0.6254 - val_loss: 0.8153 - val_acc: 0.6211\n",
      "Epoch 28/150\n",
      "27/27 [==============================] - 0s 5ms/step - loss: 0.8361 - acc: 0.6207 - val_loss: 0.8142 - val_acc: 0.6224\n",
      "Epoch 29/150\n",
      "27/27 [==============================] - 0s 7ms/step - loss: 0.8249 - acc: 0.6245 - val_loss: 0.8133 - val_acc: 0.6224\n",
      "Epoch 30/150\n",
      "27/27 [==============================] - 0s 5ms/step - loss: 0.8244 - acc: 0.6218 - val_loss: 0.8115 - val_acc: 0.6250\n",
      "Epoch 31/150\n",
      "27/27 [==============================] - 0s 7ms/step - loss: 0.8310 - acc: 0.6117 - val_loss: 0.8105 - val_acc: 0.6263\n",
      "Epoch 32/150\n",
      "27/27 [==============================] - 0s 6ms/step - loss: 0.8176 - acc: 0.6301 - val_loss: 0.8095 - val_acc: 0.6263\n",
      "Epoch 33/150\n",
      "27/27 [==============================] - 0s 5ms/step - loss: 0.8230 - acc: 0.6193 - val_loss: 0.8085 - val_acc: 0.6289\n",
      "Epoch 34/150\n",
      "27/27 [==============================] - 0s 8ms/step - loss: 0.8030 - acc: 0.6303 - val_loss: 0.8076 - val_acc: 0.6303\n",
      "Epoch 35/150\n",
      "27/27 [==============================] - 0s 5ms/step - loss: 0.8122 - acc: 0.6318 - val_loss: 0.8064 - val_acc: 0.6276\n",
      "Epoch 36/150\n",
      "27/27 [==============================] - 0s 7ms/step - loss: 0.8028 - acc: 0.6323 - val_loss: 0.8056 - val_acc: 0.6316\n",
      "Epoch 37/150\n",
      "27/27 [==============================] - 0s 6ms/step - loss: 0.8207 - acc: 0.6216 - val_loss: 0.8046 - val_acc: 0.6276\n",
      "Epoch 38/150\n",
      "27/27 [==============================] - 0s 5ms/step - loss: 0.8012 - acc: 0.6326 - val_loss: 0.8036 - val_acc: 0.6303\n",
      "Epoch 39/150\n",
      "27/27 [==============================] - 0s 5ms/step - loss: 0.7940 - acc: 0.6399 - val_loss: 0.8029 - val_acc: 0.6342\n",
      "Epoch 40/150\n",
      "27/27 [==============================] - 0s 6ms/step - loss: 0.8049 - acc: 0.6320 - val_loss: 0.8020 - val_acc: 0.6368\n",
      "Epoch 41/150\n",
      "27/27 [==============================] - 0s 7ms/step - loss: 0.8108 - acc: 0.6293 - val_loss: 0.8009 - val_acc: 0.6355\n",
      "Epoch 42/150\n",
      "27/27 [==============================] - 0s 7ms/step - loss: 0.7946 - acc: 0.6355 - val_loss: 0.8000 - val_acc: 0.6355\n",
      "Epoch 43/150\n",
      "27/27 [==============================] - 0s 6ms/step - loss: 0.8072 - acc: 0.6289 - val_loss: 0.7992 - val_acc: 0.6408\n",
      "Epoch 44/150\n",
      "27/27 [==============================] - 0s 8ms/step - loss: 0.7976 - acc: 0.6390 - val_loss: 0.7983 - val_acc: 0.6395\n",
      "Epoch 45/150\n",
      "27/27 [==============================] - 0s 5ms/step - loss: 0.7948 - acc: 0.6409 - val_loss: 0.7976 - val_acc: 0.6434\n",
      "Epoch 46/150\n",
      "27/27 [==============================] - 0s 5ms/step - loss: 0.8037 - acc: 0.6372 - val_loss: 0.7969 - val_acc: 0.6408\n",
      "Epoch 47/150\n",
      "27/27 [==============================] - 0s 5ms/step - loss: 0.7921 - acc: 0.6413 - val_loss: 0.7961 - val_acc: 0.6421\n",
      "Epoch 48/150\n",
      "27/27 [==============================] - 0s 10ms/step - loss: 0.7909 - acc: 0.6401 - val_loss: 0.7954 - val_acc: 0.6421\n",
      "Epoch 49/150\n",
      "27/27 [==============================] - 0s 8ms/step - loss: 0.7894 - acc: 0.6423 - val_loss: 0.7946 - val_acc: 0.6421\n",
      "Epoch 50/150\n",
      "27/27 [==============================] - 0s 7ms/step - loss: 0.7873 - acc: 0.6403 - val_loss: 0.7934 - val_acc: 0.6421\n",
      "Epoch 51/150\n",
      "27/27 [==============================] - 0s 6ms/step - loss: 0.7810 - acc: 0.6510 - val_loss: 0.7926 - val_acc: 0.6408\n",
      "Epoch 52/150\n",
      "27/27 [==============================] - 0s 5ms/step - loss: 0.7870 - acc: 0.6506 - val_loss: 0.7917 - val_acc: 0.6408\n",
      "Epoch 53/150\n",
      "27/27 [==============================] - 0s 5ms/step - loss: 0.7773 - acc: 0.6489 - val_loss: 0.7912 - val_acc: 0.6447\n",
      "Epoch 54/150\n",
      "27/27 [==============================] - 0s 6ms/step - loss: 0.7864 - acc: 0.6418 - val_loss: 0.7903 - val_acc: 0.6408\n",
      "Epoch 55/150\n",
      "27/27 [==============================] - 0s 7ms/step - loss: 0.7768 - acc: 0.6527 - val_loss: 0.7900 - val_acc: 0.6434\n",
      "Epoch 56/150\n",
      "27/27 [==============================] - 0s 8ms/step - loss: 0.7687 - acc: 0.6490 - val_loss: 0.7893 - val_acc: 0.6434\n",
      "Epoch 57/150\n",
      "27/27 [==============================] - 0s 6ms/step - loss: 0.7849 - acc: 0.6478 - val_loss: 0.7885 - val_acc: 0.6461\n",
      "Epoch 58/150\n",
      "27/27 [==============================] - 0s 7ms/step - loss: 0.7884 - acc: 0.6312 - val_loss: 0.7879 - val_acc: 0.6447\n",
      "Epoch 59/150\n",
      "27/27 [==============================] - 0s 6ms/step - loss: 0.7823 - acc: 0.6504 - val_loss: 0.7870 - val_acc: 0.6434\n",
      "Epoch 60/150\n",
      "27/27 [==============================] - 0s 6ms/step - loss: 0.7758 - acc: 0.6530 - val_loss: 0.7863 - val_acc: 0.6434\n",
      "Epoch 61/150\n",
      "27/27 [==============================] - 0s 8ms/step - loss: 0.7628 - acc: 0.6508 - val_loss: 0.7858 - val_acc: 0.6434\n",
      "Epoch 62/150\n",
      "27/27 [==============================] - 0s 7ms/step - loss: 0.7690 - acc: 0.6540 - val_loss: 0.7851 - val_acc: 0.6447\n",
      "Epoch 63/150\n",
      "27/27 [==============================] - 0s 5ms/step - loss: 0.7703 - acc: 0.6578 - val_loss: 0.7842 - val_acc: 0.6421\n",
      "Epoch 64/150\n",
      "27/27 [==============================] - 0s 5ms/step - loss: 0.7745 - acc: 0.6466 - val_loss: 0.7838 - val_acc: 0.6461\n",
      "Epoch 65/150\n",
      "27/27 [==============================] - 0s 7ms/step - loss: 0.7811 - acc: 0.6465 - val_loss: 0.7830 - val_acc: 0.6447\n",
      "Epoch 66/150\n",
      "27/27 [==============================] - 0s 8ms/step - loss: 0.7521 - acc: 0.6557 - val_loss: 0.7826 - val_acc: 0.6513\n",
      "Epoch 67/150\n",
      "27/27 [==============================] - 0s 6ms/step - loss: 0.7675 - acc: 0.6468 - val_loss: 0.7816 - val_acc: 0.6461\n",
      "Epoch 68/150\n",
      "27/27 [==============================] - 0s 6ms/step - loss: 0.7755 - acc: 0.6524 - val_loss: 0.7813 - val_acc: 0.6487\n",
      "Epoch 69/150\n",
      "27/27 [==============================] - 0s 6ms/step - loss: 0.7635 - acc: 0.6608 - val_loss: 0.7809 - val_acc: 0.6487\n",
      "Epoch 70/150\n",
      "27/27 [==============================] - 0s 6ms/step - loss: 0.7684 - acc: 0.6553 - val_loss: 0.7801 - val_acc: 0.6487\n",
      "Epoch 71/150\n",
      "27/27 [==============================] - 0s 6ms/step - loss: 0.7570 - acc: 0.6673 - val_loss: 0.7799 - val_acc: 0.6487\n",
      "Epoch 72/150\n",
      "27/27 [==============================] - 0s 6ms/step - loss: 0.7680 - acc: 0.6548 - val_loss: 0.7793 - val_acc: 0.6474\n",
      "Epoch 73/150\n",
      "27/27 [==============================] - 0s 6ms/step - loss: 0.7631 - acc: 0.6579 - val_loss: 0.7787 - val_acc: 0.6487\n",
      "Epoch 74/150\n",
      "27/27 [==============================] - 0s 8ms/step - loss: 0.7565 - acc: 0.6635 - val_loss: 0.7785 - val_acc: 0.6487\n",
      "Epoch 75/150\n",
      "27/27 [==============================] - 0s 6ms/step - loss: 0.7671 - acc: 0.6563 - val_loss: 0.7779 - val_acc: 0.6487\n",
      "Epoch 76/150\n",
      "27/27 [==============================] - 0s 7ms/step - loss: 0.7524 - acc: 0.6546 - val_loss: 0.7777 - val_acc: 0.6474\n",
      "Epoch 77/150\n",
      "27/27 [==============================] - 0s 6ms/step - loss: 0.7558 - acc: 0.6681 - val_loss: 0.7771 - val_acc: 0.6474\n",
      "Epoch 78/150\n",
      "27/27 [==============================] - 0s 10ms/step - loss: 0.7510 - acc: 0.6590 - val_loss: 0.7766 - val_acc: 0.6474\n",
      "Epoch 79/150\n",
      "27/27 [==============================] - 0s 7ms/step - loss: 0.7466 - acc: 0.6621 - val_loss: 0.7761 - val_acc: 0.6461\n",
      "Epoch 80/150\n",
      "27/27 [==============================] - 0s 7ms/step - loss: 0.7449 - acc: 0.6571 - val_loss: 0.7756 - val_acc: 0.6447\n",
      "Epoch 81/150\n",
      "27/27 [==============================] - 0s 7ms/step - loss: 0.7541 - acc: 0.6625 - val_loss: 0.7754 - val_acc: 0.6474\n",
      "Epoch 82/150\n",
      "27/27 [==============================] - 0s 6ms/step - loss: 0.7553 - acc: 0.6569 - val_loss: 0.7751 - val_acc: 0.6461\n",
      "Epoch 83/150\n",
      "27/27 [==============================] - 0s 7ms/step - loss: 0.7392 - acc: 0.6700 - val_loss: 0.7746 - val_acc: 0.6447\n",
      "Epoch 84/150\n",
      "27/27 [==============================] - 0s 8ms/step - loss: 0.7398 - acc: 0.6628 - val_loss: 0.7741 - val_acc: 0.6434\n",
      "Epoch 85/150\n",
      "27/27 [==============================] - 0s 7ms/step - loss: 0.7454 - acc: 0.6608 - val_loss: 0.7737 - val_acc: 0.6447\n",
      "Epoch 86/150\n",
      "27/27 [==============================] - 0s 6ms/step - loss: 0.7440 - acc: 0.6681 - val_loss: 0.7735 - val_acc: 0.6461\n",
      "Epoch 87/150\n",
      "27/27 [==============================] - 0s 7ms/step - loss: 0.7307 - acc: 0.6786 - val_loss: 0.7729 - val_acc: 0.6461\n",
      "Epoch 88/150\n",
      "27/27 [==============================] - 0s 7ms/step - loss: 0.7496 - acc: 0.6567 - val_loss: 0.7726 - val_acc: 0.6447\n",
      "Epoch 89/150\n",
      "27/27 [==============================] - 0s 8ms/step - loss: 0.7383 - acc: 0.6701 - val_loss: 0.7723 - val_acc: 0.6461\n",
      "Epoch 90/150\n",
      "27/27 [==============================] - 0s 7ms/step - loss: 0.7328 - acc: 0.6695 - val_loss: 0.7719 - val_acc: 0.6461\n",
      "Epoch 91/150\n",
      "27/27 [==============================] - 0s 7ms/step - loss: 0.7317 - acc: 0.6741 - val_loss: 0.7715 - val_acc: 0.6461\n",
      "Epoch 92/150\n",
      "27/27 [==============================] - 0s 8ms/step - loss: 0.7353 - acc: 0.6644 - val_loss: 0.7709 - val_acc: 0.6434\n",
      "Epoch 93/150\n",
      "27/27 [==============================] - 0s 8ms/step - loss: 0.7325 - acc: 0.6753 - val_loss: 0.7705 - val_acc: 0.6474\n",
      "Epoch 94/150\n",
      "27/27 [==============================] - 0s 8ms/step - loss: 0.7323 - acc: 0.6674 - val_loss: 0.7704 - val_acc: 0.6474\n",
      "Epoch 95/150\n",
      "27/27 [==============================] - 0s 8ms/step - loss: 0.7344 - acc: 0.6729 - val_loss: 0.7699 - val_acc: 0.6461\n",
      "Epoch 96/150\n",
      "27/27 [==============================] - 0s 5ms/step - loss: 0.7228 - acc: 0.6795 - val_loss: 0.7698 - val_acc: 0.6461\n",
      "Epoch 97/150\n",
      "27/27 [==============================] - 0s 8ms/step - loss: 0.7336 - acc: 0.6676 - val_loss: 0.7694 - val_acc: 0.6434\n",
      "Epoch 98/150\n",
      "27/27 [==============================] - 0s 9ms/step - loss: 0.7201 - acc: 0.6749 - val_loss: 0.7694 - val_acc: 0.6461\n",
      "Epoch 99/150\n",
      "27/27 [==============================] - 0s 8ms/step - loss: 0.7316 - acc: 0.6768 - val_loss: 0.7687 - val_acc: 0.6447\n",
      "Epoch 100/150\n",
      "27/27 [==============================] - 0s 8ms/step - loss: 0.7271 - acc: 0.6734 - val_loss: 0.7687 - val_acc: 0.6461\n",
      "Epoch 101/150\n",
      "27/27 [==============================] - 0s 7ms/step - loss: 0.7201 - acc: 0.6744 - val_loss: 0.7685 - val_acc: 0.6500\n",
      "Epoch 102/150\n",
      "27/27 [==============================] - 0s 7ms/step - loss: 0.7222 - acc: 0.6837 - val_loss: 0.7685 - val_acc: 0.6500\n",
      "Epoch 103/150\n",
      "27/27 [==============================] - 0s 10ms/step - loss: 0.7256 - acc: 0.6754 - val_loss: 0.7681 - val_acc: 0.6526\n",
      "Epoch 104/150\n",
      "27/27 [==============================] - 0s 8ms/step - loss: 0.7360 - acc: 0.6777 - val_loss: 0.7677 - val_acc: 0.6539\n",
      "Epoch 105/150\n",
      "27/27 [==============================] - 0s 5ms/step - loss: 0.7098 - acc: 0.6807 - val_loss: 0.7674 - val_acc: 0.6526\n",
      "Epoch 106/150\n",
      "27/27 [==============================] - 0s 5ms/step - loss: 0.7284 - acc: 0.6768 - val_loss: 0.7672 - val_acc: 0.6539\n",
      "Epoch 107/150\n",
      "27/27 [==============================] - 0s 6ms/step - loss: 0.7228 - acc: 0.6805 - val_loss: 0.7672 - val_acc: 0.6539\n",
      "Epoch 108/150\n",
      "27/27 [==============================] - 0s 7ms/step - loss: 0.7315 - acc: 0.6734 - val_loss: 0.7672 - val_acc: 0.6513\n",
      "Epoch 109/150\n",
      "27/27 [==============================] - 0s 6ms/step - loss: 0.7145 - acc: 0.6874 - val_loss: 0.7669 - val_acc: 0.6553\n",
      "Epoch 110/150\n",
      "27/27 [==============================] - 0s 8ms/step - loss: 0.7323 - acc: 0.6695 - val_loss: 0.7668 - val_acc: 0.6526\n",
      "Epoch 111/150\n",
      "27/27 [==============================] - 0s 8ms/step - loss: 0.7109 - acc: 0.6823 - val_loss: 0.7664 - val_acc: 0.6553\n",
      "Epoch 112/150\n",
      "27/27 [==============================] - 0s 6ms/step - loss: 0.7278 - acc: 0.6753 - val_loss: 0.7663 - val_acc: 0.6553\n",
      "Epoch 113/150\n",
      "27/27 [==============================] - 0s 7ms/step - loss: 0.7158 - acc: 0.6829 - val_loss: 0.7663 - val_acc: 0.6513\n",
      "Epoch 114/150\n",
      "27/27 [==============================] - 0s 5ms/step - loss: 0.6992 - acc: 0.6932 - val_loss: 0.7661 - val_acc: 0.6553\n",
      "Epoch 115/150\n",
      "27/27 [==============================] - 0s 7ms/step - loss: 0.7192 - acc: 0.6835 - val_loss: 0.7659 - val_acc: 0.6566\n",
      "Epoch 116/150\n",
      "27/27 [==============================] - 0s 5ms/step - loss: 0.7067 - acc: 0.6851 - val_loss: 0.7660 - val_acc: 0.6566\n",
      "Epoch 117/150\n",
      "27/27 [==============================] - 0s 8ms/step - loss: 0.7055 - acc: 0.6858 - val_loss: 0.7659 - val_acc: 0.6539\n",
      "Epoch 118/150\n",
      "27/27 [==============================] - 0s 7ms/step - loss: 0.7128 - acc: 0.6826 - val_loss: 0.7657 - val_acc: 0.6539\n",
      "Epoch 119/150\n",
      "27/27 [==============================] - 0s 6ms/step - loss: 0.7156 - acc: 0.6810 - val_loss: 0.7655 - val_acc: 0.6553\n",
      "Epoch 120/150\n",
      "27/27 [==============================] - 0s 5ms/step - loss: 0.7273 - acc: 0.6773 - val_loss: 0.7653 - val_acc: 0.6579\n",
      "Epoch 121/150\n",
      "27/27 [==============================] - 0s 5ms/step - loss: 0.7095 - acc: 0.6816 - val_loss: 0.7652 - val_acc: 0.6579\n",
      "Epoch 122/150\n",
      "27/27 [==============================] - 0s 7ms/step - loss: 0.7142 - acc: 0.6830 - val_loss: 0.7655 - val_acc: 0.6592\n",
      "Epoch 123/150\n",
      "27/27 [==============================] - 0s 7ms/step - loss: 0.7099 - acc: 0.6815 - val_loss: 0.7652 - val_acc: 0.6592\n",
      "Epoch 124/150\n",
      "27/27 [==============================] - 0s 6ms/step - loss: 0.6944 - acc: 0.6964 - val_loss: 0.7649 - val_acc: 0.6553\n"
     ]
    },
    {
     "name": "stdout",
     "output_type": "stream",
     "text": [
      "Epoch 125/150\n",
      "27/27 [==============================] - 0s 8ms/step - loss: 0.7028 - acc: 0.6909 - val_loss: 0.7649 - val_acc: 0.6579\n",
      "Epoch 126/150\n",
      "27/27 [==============================] - 0s 5ms/step - loss: 0.7119 - acc: 0.6857 - val_loss: 0.7647 - val_acc: 0.6592\n",
      "Epoch 127/150\n",
      "27/27 [==============================] - 0s 5ms/step - loss: 0.7119 - acc: 0.6861 - val_loss: 0.7649 - val_acc: 0.6579\n",
      "Epoch 128/150\n",
      "27/27 [==============================] - 0s 5ms/step - loss: 0.6976 - acc: 0.6917 - val_loss: 0.7646 - val_acc: 0.6579\n",
      "Epoch 129/150\n",
      "27/27 [==============================] - 0s 5ms/step - loss: 0.7001 - acc: 0.6822 - val_loss: 0.7647 - val_acc: 0.6592\n",
      "Epoch 130/150\n",
      "27/27 [==============================] - 0s 5ms/step - loss: 0.7046 - acc: 0.6898 - val_loss: 0.7645 - val_acc: 0.6605\n",
      "Epoch 131/150\n",
      "27/27 [==============================] - 0s 9ms/step - loss: 0.7031 - acc: 0.6805 - val_loss: 0.7644 - val_acc: 0.6618\n",
      "Epoch 132/150\n",
      "27/27 [==============================] - 0s 5ms/step - loss: 0.7000 - acc: 0.6886 - val_loss: 0.7638 - val_acc: 0.6605\n",
      "Epoch 133/150\n",
      "27/27 [==============================] - 0s 7ms/step - loss: 0.6943 - acc: 0.6939 - val_loss: 0.7634 - val_acc: 0.6605\n",
      "Epoch 134/150\n",
      "27/27 [==============================] - 0s 6ms/step - loss: 0.6904 - acc: 0.6976 - val_loss: 0.7634 - val_acc: 0.6618\n",
      "Epoch 135/150\n",
      "27/27 [==============================] - 0s 6ms/step - loss: 0.6926 - acc: 0.7001 - val_loss: 0.7636 - val_acc: 0.6579\n",
      "Epoch 136/150\n",
      "27/27 [==============================] - 0s 5ms/step - loss: 0.7063 - acc: 0.6859 - val_loss: 0.7634 - val_acc: 0.6592\n",
      "Epoch 137/150\n",
      "27/27 [==============================] - 0s 5ms/step - loss: 0.6999 - acc: 0.6914 - val_loss: 0.7635 - val_acc: 0.6618\n",
      "Epoch 138/150\n",
      "27/27 [==============================] - 0s 5ms/step - loss: 0.6854 - acc: 0.6940 - val_loss: 0.7637 - val_acc: 0.6605\n",
      "Epoch 139/150\n",
      "27/27 [==============================] - 0s 5ms/step - loss: 0.6808 - acc: 0.7079 - val_loss: 0.7637 - val_acc: 0.6605\n",
      "Epoch 140/150\n",
      "27/27 [==============================] - 0s 6ms/step - loss: 0.6977 - acc: 0.6979 - val_loss: 0.7638 - val_acc: 0.6618\n",
      "Epoch 141/150\n",
      "27/27 [==============================] - 0s 6ms/step - loss: 0.6984 - acc: 0.6891 - val_loss: 0.7637 - val_acc: 0.6618\n",
      "Epoch 142/150\n",
      "27/27 [==============================] - 0s 6ms/step - loss: 0.6755 - acc: 0.7024 - val_loss: 0.7639 - val_acc: 0.6632\n",
      "Epoch 143/150\n",
      "27/27 [==============================] - 0s 8ms/step - loss: 0.6788 - acc: 0.6969 - val_loss: 0.7636 - val_acc: 0.6632\n",
      "Epoch 144/150\n",
      "27/27 [==============================] - 0s 8ms/step - loss: 0.6901 - acc: 0.6899 - val_loss: 0.7636 - val_acc: 0.6632\n",
      "Epoch 145/150\n",
      "27/27 [==============================] - 0s 7ms/step - loss: 0.6982 - acc: 0.6846 - val_loss: 0.7633 - val_acc: 0.6605\n",
      "Epoch 146/150\n",
      "27/27 [==============================] - 0s 7ms/step - loss: 0.6975 - acc: 0.6877 - val_loss: 0.7633 - val_acc: 0.6618\n",
      "Epoch 147/150\n",
      "27/27 [==============================] - 0s 6ms/step - loss: 0.6894 - acc: 0.6848 - val_loss: 0.7636 - val_acc: 0.6618\n",
      "Epoch 148/150\n",
      "27/27 [==============================] - 0s 5ms/step - loss: 0.6757 - acc: 0.7002 - val_loss: 0.7635 - val_acc: 0.6632\n",
      "Epoch 149/150\n",
      "27/27 [==============================] - 0s 5ms/step - loss: 0.6802 - acc: 0.6928 - val_loss: 0.7633 - val_acc: 0.6605\n",
      "Epoch 150/150\n",
      "27/27 [==============================] - 0s 5ms/step - loss: 0.6794 - acc: 0.6948 - val_loss: 0.7634 - val_acc: 0.6618\n"
     ]
    }
   ],
   "source": [
    "model_2_val = model_2.fit(X_train_transformed, y_train_lb, epochs = 150,\n",
    "                         batch_size = 256, validation_split=.1,)"
   ]
  },
  {
   "cell_type": "code",
   "execution_count": 44,
   "metadata": {},
   "outputs": [
    {
     "data": {
      "image/png": "[encoded data removed]",
      "text/plain": [
       "<Figure size 432x288 with 1 Axes>"
      ]
     },
     "metadata": {
      "needs_background": "light"
     },
     "output_type": "display_data"
    },
    {
     "data": {
      "image/png": "[encoded data removed]",
      "text/plain": [
       "<Figure size 432x288 with 1 Axes>"
      ]
     },
     "metadata": {
      "needs_background": "light"
     },
     "output_type": "display_data"
    }
   ],
   "source": [
    "import matplotlib.pyplot as plt\n",
    "history = model_2_val.history\n",
    "plt.figure()\n",
    "plt.plot(np.arange(1,151,1), history[\"loss\"], label = \"train_loss\")\n",
    "plt.plot(np.arange(1,151,1), history[\"val_loss\"], label = \"val_loss\")\n",
    "plt.legend()\n",
    "plt.show()\n",
    "history = model_2_val.history\n",
    "plt.figure()\n",
    "plt.plot(np.arange(1,151,1), history[\"acc\"], label = \"train accuracy\")\n",
    "plt.plot(np.arange(1,151,1), history[\"val_acc\"], label = \"val_accuracy\")\n",
    "plt.legend()\n",
    "plt.show()\n",
    "# a little better"
   ]
  },
  {
   "cell_type": "code",
   "execution_count": 45,
   "metadata": {},
   "outputs": [
    {
     "name": "stdout",
     "output_type": "stream",
     "text": [
      "42/42 [==============================] - 0s 1ms/step - loss: 0.7730 - acc: 0.6428\n"
     ]
    },
    {
     "data": {
      "text/plain": [
       "[0.773002564907074, 0.6428039073944092]"
      ]
     },
     "execution_count": 45,
     "metadata": {},
     "output_type": "execute_result"
    }
   ],
   "source": [
    "model_2.evaluate(X_test_transformed, y_test_lb)\n",
    "#still not happy with the accuracy"
   ]
  },
  {
   "cell_type": "code",
   "execution_count": 27,
   "metadata": {},
   "outputs": [
    {
     "data": {
      "text/plain": [
       "(1341,)"
      ]
     },
     "execution_count": 27,
     "metadata": {},
     "output_type": "execute_result"
    }
   ],
   "source": [
    "from sklearn.model_selection import train_test_split\n",
    "X = df.Cleaned_Tweet\n",
    "y = df.Emotion\n",
    "df_train, df_test = train_test_split(df, test_size = .15, stratify = df.Emotion)\n",
    "X_test, y_test = df_test.Cleaned_Tweet, df_test.Emotion\n",
    "X_test.shape\n",
    "#changing the way X_train is formed"
   ]
  },
  {
   "cell_type": "code",
   "execution_count": 28,
   "metadata": {},
   "outputs": [],
   "source": [
    "df_negative = df_train[df_train[\"Emotion\"] == \"Negative emotion\"].sample(5388, replace = True)\n",
    "df_positive = df_train[df_train[\"Emotion\"] == \"Positive emotion\"].sample(5388, replace = True)\n",
    "df_neutral = df[df[\"Emotion\"] == \"No emotion toward brand or product\"]\n",
    "#using upsampling to have equal amounts of each class"
   ]
  },
  {
   "cell_type": "code",
   "execution_count": 29,
   "metadata": {},
   "outputs": [
    {
     "data": {
      "text/plain": [
       "No emotion toward brand or product    5388\n",
       "Positive emotion                      5388\n",
       "Negative emotion                      5388\n",
       "Name: Emotion, dtype: int64"
      ]
     },
     "execution_count": 29,
     "metadata": {},
     "output_type": "execute_result"
    }
   ],
   "source": [
    "df_train = pd.concat([df_negative, df_positive, df_neutral], axis = 0)\n",
    "df_train = df_train.sample(frac=1, axis=0).reset_index(drop=True)\n",
    "df_train[\"Emotion\"].value_counts()\n",
    "#making sure training set has equal amounts of each class"
   ]
  },
  {
   "cell_type": "code",
   "execution_count": 30,
   "metadata": {},
   "outputs": [],
   "source": [
    "X_train, y_train = df_train.Cleaned_Tweet, df_train.Emotion\n"
   ]
  },
  {
   "cell_type": "code",
   "execution_count": 31,
   "metadata": {},
   "outputs": [],
   "source": [
    "from nltk.stem import WordNetLemmatizer\n",
    "lem = WordNetLemmatizer()\n",
    "def lem_tokenize(tweet):\n",
    "    return [lem.lemmatize(x) for x in tweet.split()]\n",
    "#to simplify the data even more, making use of the lemmatizer from nltk"
   ]
  },
  {
   "cell_type": "code",
   "execution_count": 32,
   "metadata": {},
   "outputs": [],
   "source": [
    "from sklearn.feature_extraction.text import TfidfVectorizer\n",
    "vectorizer = TfidfVectorizer(max_features = 750, ngram_range = (1,2), tokenizer = (lem_tokenize))\n",
    "X_train_tokens = vectorizer.fit_transform(X_train).todense()\n",
    "X_test_tokens = vectorizer.transform(X_test).todense()\n",
    "#increasing max features to 750 and using single and bi-grams"
   ]
  },
  {
   "cell_type": "code",
   "execution_count": 33,
   "metadata": {},
   "outputs": [],
   "source": [
    "from sklearn.preprocessing import LabelBinarizer\n",
    "from keras.utils.np_utils import to_categorical\n",
    "lb = LabelBinarizer()\n",
    "lb.fit(y_train)\n",
    "y_train_lb = to_categorical(lb.transform(y_train))[:,:,1]\n",
    "y_test_lb = to_categorical(lb.transform(y_test))[:, :, 1]\n",
    "# changing y variable into categorical format"
   ]
  },
  {
   "cell_type": "code",
   "execution_count": 34,
   "metadata": {},
   "outputs": [
    {
     "data": {
      "text/plain": [
       "(16164, 750)"
      ]
     },
     "execution_count": 34,
     "metadata": {},
     "output_type": "execute_result"
    }
   ],
   "source": [
    "from sklearn.preprocessing import StandardScaler\n",
    "scaler = StandardScaler()\n",
    "X_train_transformed = scaler.fit_transform(X_train_tokens)\n",
    "X_test_transformed = scaler.transform(X_test_tokens)\n",
    "X_train_transformed.shape\n",
    "#new X_train - a lot bigger "
   ]
  },
  {
   "cell_type": "code",
   "execution_count": 158,
   "metadata": {},
   "outputs": [],
   "source": [
    "from keras import models\n",
    "from keras import layers\n",
    "from keras.layers import Dropout\n",
    "model_3 = models.Sequential()\n",
    "model_3.add(layers.Dense(16, activation = 'relu', input_shape = (750,)))\n",
    "model_3.add(Dropout(.2))\n",
    "model_3.add(layers.Dense(32, activation = 'relu'))\n",
    "model_3.add(Dropout(.2))\n",
    "model_3.add(layers.Dense(3, activation = 'softmax'))\n",
    "\n",
    "model_3.compile(optimizer='SGD', \n",
    "                       loss='categorical_crossentropy', \n",
    "                       metrics=['acc'])\n",
    "#third neural network attempt"
   ]
  },
  {
   "cell_type": "code",
   "execution_count": 181,
   "metadata": {},
   "outputs": [
    {
     "name": "stdout",
     "output_type": "stream",
     "text": [
      "Epoch 1/150\n",
      "57/57 [==============================] - 1s 8ms/step - loss: 1.2119 - acc: 0.3501 - val_loss: 1.0958 - val_acc: 0.3976\n",
      "Epoch 2/150\n",
      "57/57 [==============================] - 0s 4ms/step - loss: 1.1518 - acc: 0.3620 - val_loss: 1.0622 - val_acc: 0.4317\n",
      "Epoch 3/150\n",
      "57/57 [==============================] - 0s 3ms/step - loss: 1.1024 - acc: 0.3968 - val_loss: 1.0390 - val_acc: 0.4583\n",
      "Epoch 4/150\n",
      "57/57 [==============================] - 0s 3ms/step - loss: 1.0851 - acc: 0.4100 - val_loss: 1.0201 - val_acc: 0.4731\n",
      "Epoch 5/150\n",
      "57/57 [==============================] - 0s 3ms/step - loss: 1.0596 - acc: 0.4303 - val_loss: 1.0041 - val_acc: 0.4960\n",
      "Epoch 6/150\n",
      "57/57 [==============================] - 0s 3ms/step - loss: 1.0449 - acc: 0.4459 - val_loss: 0.9900 - val_acc: 0.5127\n",
      "Epoch 7/150\n",
      "57/57 [==============================] - 0s 3ms/step - loss: 1.0258 - acc: 0.4675 - val_loss: 0.9751 - val_acc: 0.5300\n",
      "Epoch 8/150\n",
      "57/57 [==============================] - 0s 4ms/step - loss: 1.0048 - acc: 0.4856 - val_loss: 0.9610 - val_acc: 0.5455\n",
      "Epoch 9/150\n",
      "57/57 [==============================] - 0s 3ms/step - loss: 0.9968 - acc: 0.4922 - val_loss: 0.9453 - val_acc: 0.5609\n",
      "Epoch 10/150\n",
      "57/57 [==============================] - 0s 3ms/step - loss: 0.9794 - acc: 0.5074 - val_loss: 0.9305 - val_acc: 0.5708\n",
      "Epoch 11/150\n",
      "57/57 [==============================] - 0s 3ms/step - loss: 0.9690 - acc: 0.5121 - val_loss: 0.9153 - val_acc: 0.5838\n",
      "Epoch 12/150\n",
      "57/57 [==============================] - 0s 3ms/step - loss: 0.9449 - acc: 0.5315 - val_loss: 0.8991 - val_acc: 0.5925\n",
      "Epoch 13/150\n",
      "57/57 [==============================] - 0s 3ms/step - loss: 0.9390 - acc: 0.5374 - val_loss: 0.8839 - val_acc: 0.5986\n",
      "Epoch 14/150\n",
      "57/57 [==============================] - 0s 3ms/step - loss: 0.9157 - acc: 0.5521 - val_loss: 0.8676 - val_acc: 0.6011\n",
      "Epoch 15/150\n",
      "57/57 [==============================] - 0s 3ms/step - loss: 0.9077 - acc: 0.5574 - val_loss: 0.8526 - val_acc: 0.6110\n",
      "Epoch 16/150\n",
      "57/57 [==============================] - 0s 3ms/step - loss: 0.8923 - acc: 0.5545 - val_loss: 0.8378 - val_acc: 0.6320\n",
      "Epoch 17/150\n",
      "57/57 [==============================] - 0s 3ms/step - loss: 0.8854 - acc: 0.5724 - val_loss: 0.8227 - val_acc: 0.6444\n",
      "Epoch 18/150\n",
      "57/57 [==============================] - 0s 3ms/step - loss: 0.8533 - acc: 0.5977 - val_loss: 0.8077 - val_acc: 0.6537\n",
      "Epoch 19/150\n",
      "57/57 [==============================] - 0s 3ms/step - loss: 0.8465 - acc: 0.5944 - val_loss: 0.7938 - val_acc: 0.6568\n",
      "Epoch 20/150\n",
      "57/57 [==============================] - 0s 3ms/step - loss: 0.8356 - acc: 0.5999 - val_loss: 0.7805 - val_acc: 0.6617\n",
      "Epoch 21/150\n",
      "57/57 [==============================] - 0s 3ms/step - loss: 0.8218 - acc: 0.6039 - val_loss: 0.7668 - val_acc: 0.6654\n",
      "Epoch 22/150\n",
      "57/57 [==============================] - 0s 3ms/step - loss: 0.8104 - acc: 0.6186 - val_loss: 0.7537 - val_acc: 0.6710\n",
      "Epoch 23/150\n",
      "57/57 [==============================] - 0s 3ms/step - loss: 0.7967 - acc: 0.6250 - val_loss: 0.7415 - val_acc: 0.6747\n",
      "Epoch 24/150\n",
      "57/57 [==============================] - 0s 3ms/step - loss: 0.7859 - acc: 0.6267 - val_loss: 0.7290 - val_acc: 0.6772\n",
      "Epoch 25/150\n",
      "57/57 [==============================] - 0s 4ms/step - loss: 0.7778 - acc: 0.6350 - val_loss: 0.7175 - val_acc: 0.6834\n",
      "Epoch 26/150\n",
      "57/57 [==============================] - 0s 3ms/step - loss: 0.7608 - acc: 0.6382 - val_loss: 0.7074 - val_acc: 0.6858\n",
      "Epoch 27/150\n",
      "57/57 [==============================] - 0s 3ms/step - loss: 0.7547 - acc: 0.6430 - val_loss: 0.6971 - val_acc: 0.6889\n",
      "Epoch 28/150\n",
      "57/57 [==============================] - 0s 3ms/step - loss: 0.7373 - acc: 0.6538 - val_loss: 0.6868 - val_acc: 0.6902\n",
      "Epoch 29/150\n",
      "57/57 [==============================] - 0s 3ms/step - loss: 0.7253 - acc: 0.6575 - val_loss: 0.6774 - val_acc: 0.6964\n",
      "Epoch 30/150\n",
      "57/57 [==============================] - 0s 3ms/step - loss: 0.7288 - acc: 0.6581 - val_loss: 0.6694 - val_acc: 0.7001\n",
      "Epoch 31/150\n",
      "57/57 [==============================] - 0s 3ms/step - loss: 0.7086 - acc: 0.6592 - val_loss: 0.6617 - val_acc: 0.7038\n",
      "Epoch 32/150\n",
      "57/57 [==============================] - 0s 3ms/step - loss: 0.7099 - acc: 0.6625 - val_loss: 0.6531 - val_acc: 0.7081\n",
      "Epoch 33/150\n",
      "57/57 [==============================] - 0s 3ms/step - loss: 0.6968 - acc: 0.6666 - val_loss: 0.6457 - val_acc: 0.7093\n",
      "Epoch 34/150\n",
      "57/57 [==============================] - 0s 3ms/step - loss: 0.6874 - acc: 0.6791 - val_loss: 0.6383 - val_acc: 0.7143\n",
      "Epoch 35/150\n",
      "57/57 [==============================] - 0s 3ms/step - loss: 0.6799 - acc: 0.6833 - val_loss: 0.6312 - val_acc: 0.7161\n",
      "Epoch 36/150\n",
      "57/57 [==============================] - 0s 4ms/step - loss: 0.6717 - acc: 0.6846 - val_loss: 0.6244 - val_acc: 0.7211\n",
      "Epoch 37/150\n",
      "57/57 [==============================] - 0s 3ms/step - loss: 0.6603 - acc: 0.6865 - val_loss: 0.6182 - val_acc: 0.7273\n",
      "Epoch 38/150\n",
      "57/57 [==============================] - 0s 3ms/step - loss: 0.6601 - acc: 0.6845 - val_loss: 0.6118 - val_acc: 0.7304\n",
      "Epoch 39/150\n",
      "57/57 [==============================] - 0s 3ms/step - loss: 0.6537 - acc: 0.6928 - val_loss: 0.6060 - val_acc: 0.7297\n",
      "Epoch 40/150\n",
      "57/57 [==============================] - 0s 3ms/step - loss: 0.6502 - acc: 0.6969 - val_loss: 0.5997 - val_acc: 0.7322\n",
      "Epoch 41/150\n",
      "57/57 [==============================] - 0s 3ms/step - loss: 0.6354 - acc: 0.7024 - val_loss: 0.5945 - val_acc: 0.7291\n",
      "Epoch 42/150\n",
      "57/57 [==============================] - 0s 3ms/step - loss: 0.6319 - acc: 0.6978 - val_loss: 0.5884 - val_acc: 0.7304\n",
      "Epoch 43/150\n",
      "57/57 [==============================] - 0s 3ms/step - loss: 0.6364 - acc: 0.6993 - val_loss: 0.5836 - val_acc: 0.7347\n",
      "Epoch 44/150\n",
      "57/57 [==============================] - 0s 3ms/step - loss: 0.6346 - acc: 0.6995 - val_loss: 0.5779 - val_acc: 0.7359\n",
      "Epoch 45/150\n",
      "57/57 [==============================] - 0s 4ms/step - loss: 0.6219 - acc: 0.7101 - val_loss: 0.5734 - val_acc: 0.7403\n",
      "Epoch 46/150\n",
      "57/57 [==============================] - 0s 3ms/step - loss: 0.6098 - acc: 0.7163 - val_loss: 0.5675 - val_acc: 0.7415\n",
      "Epoch 47/150\n",
      "57/57 [==============================] - 0s 3ms/step - loss: 0.6142 - acc: 0.7185 - val_loss: 0.5634 - val_acc: 0.7434\n",
      "Epoch 48/150\n",
      "57/57 [==============================] - 0s 3ms/step - loss: 0.6038 - acc: 0.7183 - val_loss: 0.5589 - val_acc: 0.7446\n",
      "Epoch 49/150\n",
      "57/57 [==============================] - 0s 3ms/step - loss: 0.5990 - acc: 0.7296 - val_loss: 0.5541 - val_acc: 0.7471\n",
      "Epoch 50/150\n",
      "57/57 [==============================] - 0s 3ms/step - loss: 0.5921 - acc: 0.7248 - val_loss: 0.5499 - val_acc: 0.7489\n",
      "Epoch 51/150\n",
      "57/57 [==============================] - 0s 3ms/step - loss: 0.5996 - acc: 0.7215 - val_loss: 0.5451 - val_acc: 0.7514\n",
      "Epoch 52/150\n",
      "57/57 [==============================] - 0s 3ms/step - loss: 0.5872 - acc: 0.7243 - val_loss: 0.5417 - val_acc: 0.7532\n",
      "Epoch 53/150\n",
      "57/57 [==============================] - 0s 4ms/step - loss: 0.5778 - acc: 0.7372 - val_loss: 0.5380 - val_acc: 0.7600\n",
      "Epoch 54/150\n",
      "57/57 [==============================] - 0s 4ms/step - loss: 0.5704 - acc: 0.7405 - val_loss: 0.5340 - val_acc: 0.7600\n",
      "Epoch 55/150\n",
      "57/57 [==============================] - 0s 3ms/step - loss: 0.5600 - acc: 0.7412 - val_loss: 0.5308 - val_acc: 0.7631\n",
      "Epoch 56/150\n",
      "57/57 [==============================] - 0s 3ms/step - loss: 0.5688 - acc: 0.7362 - val_loss: 0.5271 - val_acc: 0.7631\n",
      "Epoch 57/150\n",
      "57/57 [==============================] - 0s 4ms/step - loss: 0.5680 - acc: 0.7355 - val_loss: 0.5241 - val_acc: 0.7644\n",
      "Epoch 58/150\n",
      "57/57 [==============================] - 0s 3ms/step - loss: 0.5581 - acc: 0.7413 - val_loss: 0.5209 - val_acc: 0.7675\n",
      "Epoch 59/150\n",
      "57/57 [==============================] - 0s 3ms/step - loss: 0.5592 - acc: 0.7429 - val_loss: 0.5182 - val_acc: 0.7681\n",
      "Epoch 60/150\n",
      "57/57 [==============================] - 0s 3ms/step - loss: 0.5465 - acc: 0.7472 - val_loss: 0.5144 - val_acc: 0.7724\n",
      "Epoch 61/150\n",
      "57/57 [==============================] - 0s 3ms/step - loss: 0.5542 - acc: 0.7477 - val_loss: 0.5100 - val_acc: 0.7718\n",
      "Epoch 62/150\n",
      "57/57 [==============================] - 0s 3ms/step - loss: 0.5598 - acc: 0.7441 - val_loss: 0.5077 - val_acc: 0.7737\n",
      "Epoch 63/150\n",
      "57/57 [==============================] - 0s 3ms/step - loss: 0.5326 - acc: 0.7588 - val_loss: 0.5050 - val_acc: 0.7761\n",
      "Epoch 64/150\n",
      "57/57 [==============================] - 0s 4ms/step - loss: 0.5370 - acc: 0.7564 - val_loss: 0.5015 - val_acc: 0.7786\n",
      "Epoch 65/150\n",
      "57/57 [==============================] - 0s 3ms/step - loss: 0.5334 - acc: 0.7579 - val_loss: 0.4991 - val_acc: 0.7792\n",
      "Epoch 66/150\n",
      "57/57 [==============================] - 0s 3ms/step - loss: 0.5392 - acc: 0.7516 - val_loss: 0.4969 - val_acc: 0.7811\n",
      "Epoch 67/150\n",
      "57/57 [==============================] - 0s 3ms/step - loss: 0.5238 - acc: 0.7567 - val_loss: 0.4943 - val_acc: 0.7823\n",
      "Epoch 68/150\n",
      "57/57 [==============================] - 0s 3ms/step - loss: 0.5304 - acc: 0.7559 - val_loss: 0.4915 - val_acc: 0.7848\n",
      "Epoch 69/150\n",
      "57/57 [==============================] - 0s 3ms/step - loss: 0.5245 - acc: 0.7598 - val_loss: 0.4890 - val_acc: 0.7835\n",
      "Epoch 70/150\n",
      "57/57 [==============================] - 0s 3ms/step - loss: 0.5244 - acc: 0.7614 - val_loss: 0.4879 - val_acc: 0.7835\n",
      "Epoch 71/150\n",
      "57/57 [==============================] - 0s 3ms/step - loss: 0.5147 - acc: 0.7670 - val_loss: 0.4847 - val_acc: 0.7860\n",
      "Epoch 72/150\n",
      "57/57 [==============================] - 0s 3ms/step - loss: 0.5079 - acc: 0.7682 - val_loss: 0.4821 - val_acc: 0.7866\n",
      "Epoch 73/150\n",
      "57/57 [==============================] - 0s 3ms/step - loss: 0.5090 - acc: 0.7658 - val_loss: 0.4796 - val_acc: 0.7854\n",
      "Epoch 74/150\n",
      "57/57 [==============================] - 0s 3ms/step - loss: 0.5071 - acc: 0.7653 - val_loss: 0.4777 - val_acc: 0.7860\n",
      "Epoch 75/150\n",
      "57/57 [==============================] - 0s 3ms/step - loss: 0.5001 - acc: 0.7765 - val_loss: 0.4754 - val_acc: 0.7891\n",
      "Epoch 76/150\n",
      "57/57 [==============================] - 0s 3ms/step - loss: 0.5199 - acc: 0.7622 - val_loss: 0.4729 - val_acc: 0.7873\n",
      "Epoch 77/150\n",
      "57/57 [==============================] - 0s 3ms/step - loss: 0.5003 - acc: 0.7693 - val_loss: 0.4712 - val_acc: 0.7885\n",
      "Epoch 78/150\n",
      "57/57 [==============================] - 0s 3ms/step - loss: 0.4938 - acc: 0.7739 - val_loss: 0.4703 - val_acc: 0.7891\n",
      "Epoch 79/150\n",
      "57/57 [==============================] - 0s 3ms/step - loss: 0.4974 - acc: 0.7756 - val_loss: 0.4664 - val_acc: 0.7916\n",
      "Epoch 80/150\n",
      "57/57 [==============================] - 0s 3ms/step - loss: 0.4877 - acc: 0.7791 - val_loss: 0.4647 - val_acc: 0.7916\n",
      "Epoch 81/150\n",
      "57/57 [==============================] - 0s 3ms/step - loss: 0.5018 - acc: 0.7677 - val_loss: 0.4622 - val_acc: 0.7916\n",
      "Epoch 82/150\n",
      "57/57 [==============================] - 0s 3ms/step - loss: 0.4936 - acc: 0.7711 - val_loss: 0.4609 - val_acc: 0.7910\n",
      "Epoch 83/150\n",
      "57/57 [==============================] - 0s 3ms/step - loss: 0.4951 - acc: 0.7755 - val_loss: 0.4589 - val_acc: 0.7934\n",
      "Epoch 84/150\n",
      "57/57 [==============================] - 0s 3ms/step - loss: 0.4894 - acc: 0.7784 - val_loss: 0.4579 - val_acc: 0.7934\n",
      "Epoch 85/150\n",
      "57/57 [==============================] - 0s 3ms/step - loss: 0.4867 - acc: 0.7758 - val_loss: 0.4556 - val_acc: 0.7916\n",
      "Epoch 86/150\n",
      "57/57 [==============================] - 0s 3ms/step - loss: 0.4929 - acc: 0.7720 - val_loss: 0.4536 - val_acc: 0.7941\n",
      "Epoch 87/150\n",
      "57/57 [==============================] - 0s 3ms/step - loss: 0.4774 - acc: 0.7818 - val_loss: 0.4521 - val_acc: 0.7941\n",
      "Epoch 88/150\n",
      "57/57 [==============================] - 0s 3ms/step - loss: 0.4767 - acc: 0.7833 - val_loss: 0.4508 - val_acc: 0.7941\n",
      "Epoch 89/150\n",
      "57/57 [==============================] - 0s 3ms/step - loss: 0.4809 - acc: 0.7804 - val_loss: 0.4504 - val_acc: 0.7953\n",
      "Epoch 90/150\n",
      "57/57 [==============================] - 0s 3ms/step - loss: 0.4769 - acc: 0.7833 - val_loss: 0.4486 - val_acc: 0.7959\n",
      "Epoch 91/150\n",
      "57/57 [==============================] - 0s 3ms/step - loss: 0.4714 - acc: 0.7907 - val_loss: 0.4460 - val_acc: 0.7978\n",
      "Epoch 92/150\n",
      "57/57 [==============================] - 0s 3ms/step - loss: 0.4689 - acc: 0.7909 - val_loss: 0.4443 - val_acc: 0.7953\n",
      "Epoch 93/150\n",
      "57/57 [==============================] - 0s 3ms/step - loss: 0.4722 - acc: 0.7866 - val_loss: 0.4435 - val_acc: 0.7990\n",
      "Epoch 94/150\n",
      "57/57 [==============================] - 0s 3ms/step - loss: 0.4585 - acc: 0.7998 - val_loss: 0.4423 - val_acc: 0.7990\n",
      "Epoch 95/150\n",
      "57/57 [==============================] - 0s 4ms/step - loss: 0.4667 - acc: 0.7864 - val_loss: 0.4403 - val_acc: 0.8009\n",
      "Epoch 96/150\n",
      "57/57 [==============================] - 0s 4ms/step - loss: 0.4649 - acc: 0.7867 - val_loss: 0.4385 - val_acc: 0.8027\n",
      "Epoch 97/150\n",
      "57/57 [==============================] - 0s 4ms/step - loss: 0.4603 - acc: 0.7943 - val_loss: 0.4381 - val_acc: 0.8021\n",
      "Epoch 98/150\n",
      "57/57 [==============================] - 0s 5ms/step - loss: 0.4709 - acc: 0.7849 - val_loss: 0.4360 - val_acc: 0.8040\n",
      "Epoch 99/150\n",
      "57/57 [==============================] - 0s 5ms/step - loss: 0.4533 - acc: 0.7980 - val_loss: 0.4354 - val_acc: 0.8052\n",
      "Epoch 100/150\n",
      "57/57 [==============================] - 0s 5ms/step - loss: 0.4558 - acc: 0.7943 - val_loss: 0.4338 - val_acc: 0.8064\n",
      "Epoch 101/150\n",
      "57/57 [==============================] - 0s 5ms/step - loss: 0.4534 - acc: 0.7933 - val_loss: 0.4327 - val_acc: 0.8052\n",
      "Epoch 102/150\n",
      "57/57 [==============================] - 0s 6ms/step - loss: 0.4550 - acc: 0.7907 - val_loss: 0.4311 - val_acc: 0.8052\n",
      "Epoch 103/150\n",
      "57/57 [==============================] - 0s 4ms/step - loss: 0.4410 - acc: 0.8036 - val_loss: 0.4292 - val_acc: 0.8064\n",
      "Epoch 104/150\n",
      "57/57 [==============================] - 0s 5ms/step - loss: 0.4467 - acc: 0.7977 - val_loss: 0.4274 - val_acc: 0.8064\n",
      "Epoch 105/150\n",
      "57/57 [==============================] - 0s 5ms/step - loss: 0.4458 - acc: 0.8014 - val_loss: 0.4264 - val_acc: 0.8071\n",
      "Epoch 106/150\n",
      "57/57 [==============================] - 0s 5ms/step - loss: 0.4466 - acc: 0.7958 - val_loss: 0.4259 - val_acc: 0.8058\n",
      "Epoch 107/150\n",
      "57/57 [==============================] - 0s 4ms/step - loss: 0.4497 - acc: 0.7989 - val_loss: 0.4245 - val_acc: 0.8083\n",
      "Epoch 108/150\n",
      "57/57 [==============================] - 0s 3ms/step - loss: 0.4459 - acc: 0.8033 - val_loss: 0.4238 - val_acc: 0.8077\n",
      "Epoch 109/150\n",
      "57/57 [==============================] - 0s 3ms/step - loss: 0.4330 - acc: 0.8077 - val_loss: 0.4224 - val_acc: 0.8077\n",
      "Epoch 110/150\n",
      "57/57 [==============================] - 0s 4ms/step - loss: 0.4404 - acc: 0.8027 - val_loss: 0.4213 - val_acc: 0.8095\n",
      "Epoch 111/150\n",
      "57/57 [==============================] - 0s 3ms/step - loss: 0.4423 - acc: 0.8056 - val_loss: 0.4200 - val_acc: 0.8114\n",
      "Epoch 112/150\n",
      "57/57 [==============================] - 0s 3ms/step - loss: 0.4390 - acc: 0.8078 - val_loss: 0.4191 - val_acc: 0.8108\n",
      "Epoch 113/150\n",
      "57/57 [==============================] - 0s 3ms/step - loss: 0.4334 - acc: 0.8057 - val_loss: 0.4171 - val_acc: 0.8132\n",
      "Epoch 114/150\n",
      "57/57 [==============================] - 0s 3ms/step - loss: 0.4345 - acc: 0.8108 - val_loss: 0.4159 - val_acc: 0.8169\n",
      "Epoch 115/150\n",
      "57/57 [==============================] - 0s 3ms/step - loss: 0.4269 - acc: 0.8082 - val_loss: 0.4157 - val_acc: 0.8126\n",
      "Epoch 116/150\n",
      "57/57 [==============================] - 0s 3ms/step - loss: 0.4339 - acc: 0.8078 - val_loss: 0.4146 - val_acc: 0.8157\n",
      "Epoch 117/150\n",
      "57/57 [==============================] - 0s 3ms/step - loss: 0.4376 - acc: 0.8050 - val_loss: 0.4140 - val_acc: 0.8139\n",
      "Epoch 118/150\n",
      "57/57 [==============================] - 0s 3ms/step - loss: 0.4221 - acc: 0.8125 - val_loss: 0.4124 - val_acc: 0.8157\n",
      "Epoch 119/150\n",
      "57/57 [==============================] - 0s 8ms/step - loss: 0.4255 - acc: 0.8107 - val_loss: 0.4112 - val_acc: 0.8182\n",
      "Epoch 120/150\n",
      "57/57 [==============================] - 0s 6ms/step - loss: 0.4205 - acc: 0.8174 - val_loss: 0.4098 - val_acc: 0.8213\n",
      "Epoch 121/150\n",
      "57/57 [==============================] - 0s 8ms/step - loss: 0.4354 - acc: 0.8101 - val_loss: 0.4088 - val_acc: 0.8244\n",
      "Epoch 122/150\n",
      "57/57 [==============================] - 0s 9ms/step - loss: 0.4368 - acc: 0.8049 - val_loss: 0.4098 - val_acc: 0.8200\n",
      "Epoch 123/150\n",
      "57/57 [==============================] - 0s 5ms/step - loss: 0.4260 - acc: 0.8058 - val_loss: 0.4081 - val_acc: 0.8225\n",
      "Epoch 124/150\n",
      "57/57 [==============================] - 0s 3ms/step - loss: 0.4154 - acc: 0.8156 - val_loss: 0.4078 - val_acc: 0.8207\n"
     ]
    },
    {
     "name": "stdout",
     "output_type": "stream",
     "text": [
      "Epoch 125/150\n",
      "57/57 [==============================] - 0s 4ms/step - loss: 0.4167 - acc: 0.8171 - val_loss: 0.4064 - val_acc: 0.8250\n",
      "Epoch 126/150\n",
      "57/57 [==============================] - 0s 3ms/step - loss: 0.4199 - acc: 0.8126 - val_loss: 0.4054 - val_acc: 0.8225\n",
      "Epoch 127/150\n",
      "57/57 [==============================] - 0s 3ms/step - loss: 0.4228 - acc: 0.8047 - val_loss: 0.4040 - val_acc: 0.8250\n",
      "Epoch 128/150\n",
      "57/57 [==============================] - 0s 3ms/step - loss: 0.4093 - acc: 0.8146 - val_loss: 0.4037 - val_acc: 0.8281\n",
      "Epoch 129/150\n",
      "57/57 [==============================] - 0s 3ms/step - loss: 0.4101 - acc: 0.8198 - val_loss: 0.4023 - val_acc: 0.8256\n",
      "Epoch 130/150\n",
      "57/57 [==============================] - 0s 3ms/step - loss: 0.4173 - acc: 0.8171 - val_loss: 0.4009 - val_acc: 0.8306\n",
      "Epoch 131/150\n",
      "57/57 [==============================] - 0s 3ms/step - loss: 0.4168 - acc: 0.8200 - val_loss: 0.4012 - val_acc: 0.8293\n",
      "Epoch 132/150\n",
      "57/57 [==============================] - 0s 3ms/step - loss: 0.4127 - acc: 0.8165 - val_loss: 0.4005 - val_acc: 0.8293\n",
      "Epoch 133/150\n",
      "57/57 [==============================] - 0s 5ms/step - loss: 0.4078 - acc: 0.8211 - val_loss: 0.3999 - val_acc: 0.8250\n",
      "Epoch 134/150\n",
      "57/57 [==============================] - 0s 7ms/step - loss: 0.4090 - acc: 0.8206 - val_loss: 0.3991 - val_acc: 0.8287\n",
      "Epoch 135/150\n",
      "57/57 [==============================] - 0s 5ms/step - loss: 0.4072 - acc: 0.8210 - val_loss: 0.3987 - val_acc: 0.8287\n",
      "Epoch 136/150\n",
      "57/57 [==============================] - 0s 4ms/step - loss: 0.4070 - acc: 0.8206 - val_loss: 0.3976 - val_acc: 0.8306\n",
      "Epoch 137/150\n",
      "57/57 [==============================] - 0s 5ms/step - loss: 0.4055 - acc: 0.8214 - val_loss: 0.3971 - val_acc: 0.8275\n",
      "Epoch 138/150\n",
      "57/57 [==============================] - 0s 7ms/step - loss: 0.4072 - acc: 0.8201 - val_loss: 0.3957 - val_acc: 0.8318\n",
      "Epoch 139/150\n",
      "57/57 [==============================] - 0s 5ms/step - loss: 0.3959 - acc: 0.8264 - val_loss: 0.3950 - val_acc: 0.8312\n",
      "Epoch 140/150\n",
      "57/57 [==============================] - 0s 4ms/step - loss: 0.4011 - acc: 0.8248 - val_loss: 0.3941 - val_acc: 0.8312\n",
      "Epoch 141/150\n",
      "57/57 [==============================] - 0s 5ms/step - loss: 0.4050 - acc: 0.8179 - val_loss: 0.3931 - val_acc: 0.8318\n",
      "Epoch 142/150\n",
      "57/57 [==============================] - 0s 4ms/step - loss: 0.3947 - acc: 0.8241 - val_loss: 0.3929 - val_acc: 0.8318\n",
      "Epoch 143/150\n",
      "57/57 [==============================] - 0s 6ms/step - loss: 0.3942 - acc: 0.8253 - val_loss: 0.3930 - val_acc: 0.8318\n",
      "Epoch 144/150\n",
      "57/57 [==============================] - 0s 5ms/step - loss: 0.3957 - acc: 0.8252 - val_loss: 0.3917 - val_acc: 0.8349\n",
      "Epoch 145/150\n",
      "57/57 [==============================] - 0s 5ms/step - loss: 0.3957 - acc: 0.8240 - val_loss: 0.3910 - val_acc: 0.8312\n",
      "Epoch 146/150\n",
      "57/57 [==============================] - 0s 4ms/step - loss: 0.3971 - acc: 0.8264 - val_loss: 0.3911 - val_acc: 0.8299\n",
      "Epoch 147/150\n",
      "57/57 [==============================] - 0s 3ms/step - loss: 0.3990 - acc: 0.8267 - val_loss: 0.3899 - val_acc: 0.8324\n",
      "Epoch 148/150\n",
      "57/57 [==============================] - 0s 3ms/step - loss: 0.3893 - acc: 0.8295 - val_loss: 0.3895 - val_acc: 0.8336\n",
      "Epoch 149/150\n",
      "57/57 [==============================] - 0s 6ms/step - loss: 0.3892 - acc: 0.8273 - val_loss: 0.3895 - val_acc: 0.8312\n",
      "Epoch 150/150\n",
      "57/57 [==============================] - 0s 5ms/step - loss: 0.3867 - acc: 0.8281 - val_loss: 0.3890 - val_acc: 0.8324\n"
     ]
    }
   ],
   "source": [
    "model_3_val = model_3.fit(X_train_transformed, y_train_lb, epochs = 150,\n",
    "                         batch_size = 256, validation_split=.1,)"
   ]
  },
  {
   "cell_type": "code",
   "execution_count": 182,
   "metadata": {},
   "outputs": [
    {
     "data": {
      "image/png": "[encoded data removed]",
      "text/plain": [
       "<Figure size 432x288 with 1 Axes>"
      ]
     },
     "metadata": {
      "needs_background": "light"
     },
     "output_type": "display_data"
    },
    {
     "data": {
      "image/png": "[encoded data removed]",
      "text/plain": [
       "<Figure size 432x288 with 1 Axes>"
      ]
     },
     "metadata": {
      "needs_background": "light"
     },
     "output_type": "display_data"
    }
   ],
   "source": [
    "import matplotlib.pyplot as plt\n",
    "history = model_3_val.history\n",
    "plt.figure()\n",
    "plt.plot(np.arange(1,151,1), history[\"loss\"], label = \"train_loss\")\n",
    "plt.plot(np.arange(1,151,1), history[\"val_loss\"], label = \"val_loss\")\n",
    "plt.legend()\n",
    "plt.show()\n",
    "history = model_3_val.history\n",
    "plt.figure()\n",
    "plt.plot(np.arange(1,151,1), history[\"acc\"], label = \"train accuracy\")\n",
    "plt.plot(np.arange(1,151,1), history[\"val_acc\"], label = \"val_accuracy\")\n",
    "plt.legend()\n",
    "plt.show()\n",
    "#no signs of overfitting!"
   ]
  },
  {
   "cell_type": "code",
   "execution_count": 183,
   "metadata": {},
   "outputs": [
    {
     "name": "stdout",
     "output_type": "stream",
     "text": [
      "42/42 [==============================] - 0s 1ms/step - loss: 0.8849 - acc: 0.7069\n"
     ]
    },
    {
     "data": {
      "text/plain": [
       "[0.8848961591720581, 0.7069351077079773]"
      ]
     },
     "execution_count": 183,
     "metadata": {},
     "output_type": "execute_result"
    }
   ],
   "source": [
    "model_3.evaluate(X_test_transformed, y_test_lb)\n",
    "#accuracy a little better, still not completely satisfied"
   ]
  },
  {
   "cell_type": "code",
   "execution_count": 184,
   "metadata": {},
   "outputs": [
    {
     "data": {
      "text/plain": [
       "array([[5319,   42,   27],\n",
       "       [ 134, 4337,  917],\n",
       "       [  40,  843, 4505]])"
      ]
     },
     "execution_count": 184,
     "metadata": {},
     "output_type": "execute_result"
    }
   ],
   "source": [
    "confusion_matrix(y_train_lb.argmax(axis = 1), model_3.predict(X_train_transformed).argmax(axis = 1))\n",
    "#confusion matrixx"
   ]
  },
  {
   "cell_type": "code",
   "execution_count": 185,
   "metadata": {},
   "outputs": [
    {
     "data": {
      "text/plain": [
       "array([[ 34,  35,  16],\n",
       "       [ 22, 657, 130],\n",
       "       [ 21, 169, 257]])"
      ]
     },
     "execution_count": 185,
     "metadata": {},
     "output_type": "execute_result"
    }
   ],
   "source": [
    "from sklearn.metrics import confusion_matrix\n",
    "pred = model_3.predict(X_test_transformed).argmax(axis = 1)\n",
    "y_test_labels = y_test_lb.argmax(axis = 1)\n",
    "matrix = confusion_matrix(y_test_labels, pred)\n",
    "matrix\n",
    "#confusion matrix for test data"
   ]
  },
  {
   "cell_type": "code",
   "execution_count": 159,
   "metadata": {},
   "outputs": [],
   "source": [
    "model_4 = models.Sequential()\n",
    "model_4.add(layers.Dense(16, activation = 'relu', input_shape = (750,)))\n",
    "model_4.add(Dropout(.2))\n",
    "model_4.add(layers.Dense(32, activation = 'relu'))\n",
    "model_4.add(Dropout(.2))\n",
    "model_4.add(layers.Dense(16, activation = 'relu'))\n",
    "model_4.add(Dropout(.2))\n",
    "model_4.add(layers.Dense(3, activation = 'softmax'))\n",
    "\n",
    "model_4.compile(optimizer='SGD', \n",
    "                       loss='categorical_crossentropy', \n",
    "                       metrics=['acc'])\n",
    "\n",
    "\n",
    "model_4.compile(optimizer='Adam', \n",
    "                   loss='mse', \n",
    "                   metrics=['acc'])\n",
    "#fourth neural network, making use of the Adam optimizer"
   ]
  },
  {
   "cell_type": "code",
   "execution_count": 228,
   "metadata": {},
   "outputs": [
    {
     "name": "stdout",
     "output_type": "stream",
     "text": [
      "Epoch 1/150\n",
      "57/57 [==============================] - 1s 8ms/step - loss: 0.2382 - acc: 0.3544 - val_loss: 0.2008 - val_acc: 0.5003\n",
      "Epoch 2/150\n",
      "57/57 [==============================] - 0s 4ms/step - loss: 0.2046 - acc: 0.4691 - val_loss: 0.1717 - val_acc: 0.6246\n",
      "Epoch 3/150\n",
      "57/57 [==============================] - 0s 5ms/step - loss: 0.1790 - acc: 0.5627 - val_loss: 0.1450 - val_acc: 0.6753\n",
      "Epoch 4/150\n",
      "57/57 [==============================] - 0s 5ms/step - loss: 0.1559 - acc: 0.6308 - val_loss: 0.1276 - val_acc: 0.7025\n",
      "Epoch 5/150\n",
      "57/57 [==============================] - 0s 4ms/step - loss: 0.1379 - acc: 0.6872 - val_loss: 0.1176 - val_acc: 0.7396\n",
      "Epoch 6/150\n",
      "57/57 [==============================] - 0s 4ms/step - loss: 0.1244 - acc: 0.7172 - val_loss: 0.1102 - val_acc: 0.7532\n",
      "Epoch 7/150\n",
      "57/57 [==============================] - 0s 5ms/step - loss: 0.1175 - acc: 0.7425 - val_loss: 0.1037 - val_acc: 0.7638\n",
      "Epoch 8/150\n",
      "57/57 [==============================] - 0s 6ms/step - loss: 0.1111 - acc: 0.7586 - val_loss: 0.1000 - val_acc: 0.7724\n",
      "Epoch 9/150\n",
      "57/57 [==============================] - 0s 5ms/step - loss: 0.1017 - acc: 0.7799 - val_loss: 0.0976 - val_acc: 0.7854\n",
      "Epoch 10/150\n",
      "57/57 [==============================] - 0s 6ms/step - loss: 0.1000 - acc: 0.7850 - val_loss: 0.0957 - val_acc: 0.7959\n",
      "Epoch 11/150\n",
      "57/57 [==============================] - 0s 5ms/step - loss: 0.0940 - acc: 0.7994 - val_loss: 0.0933 - val_acc: 0.7972\n",
      "Epoch 12/150\n",
      "57/57 [==============================] - 0s 4ms/step - loss: 0.0923 - acc: 0.8082 - val_loss: 0.0925 - val_acc: 0.8040\n",
      "Epoch 13/150\n",
      "57/57 [==============================] - 0s 4ms/step - loss: 0.0887 - acc: 0.8176 - val_loss: 0.0919 - val_acc: 0.8040\n",
      "Epoch 14/150\n",
      "57/57 [==============================] - 0s 5ms/step - loss: 0.0838 - acc: 0.8311 - val_loss: 0.0922 - val_acc: 0.8052\n",
      "Epoch 15/150\n",
      "57/57 [==============================] - 0s 4ms/step - loss: 0.0852 - acc: 0.8251 - val_loss: 0.0908 - val_acc: 0.8071\n",
      "Epoch 16/150\n",
      "57/57 [==============================] - 0s 4ms/step - loss: 0.0818 - acc: 0.8364 - val_loss: 0.0902 - val_acc: 0.8163\n",
      "Epoch 17/150\n",
      "57/57 [==============================] - 0s 4ms/step - loss: 0.0782 - acc: 0.8417 - val_loss: 0.0885 - val_acc: 0.8231\n",
      "Epoch 18/150\n",
      "57/57 [==============================] - 0s 4ms/step - loss: 0.0767 - acc: 0.8428 - val_loss: 0.0888 - val_acc: 0.8237\n",
      "Epoch 19/150\n",
      "57/57 [==============================] - 0s 4ms/step - loss: 0.0723 - acc: 0.8592 - val_loss: 0.0879 - val_acc: 0.8176\n",
      "Epoch 20/150\n",
      "57/57 [==============================] - 0s 5ms/step - loss: 0.0716 - acc: 0.8597 - val_loss: 0.0865 - val_acc: 0.8256\n",
      "Epoch 21/150\n",
      "57/57 [==============================] - 0s 6ms/step - loss: 0.0696 - acc: 0.8630 - val_loss: 0.0857 - val_acc: 0.8293\n",
      "Epoch 22/150\n",
      "57/57 [==============================] - 0s 4ms/step - loss: 0.0695 - acc: 0.8600 - val_loss: 0.0880 - val_acc: 0.8268\n",
      "Epoch 23/150\n",
      "57/57 [==============================] - 0s 5ms/step - loss: 0.0687 - acc: 0.8639 - val_loss: 0.0871 - val_acc: 0.8299\n",
      "Epoch 24/150\n",
      "57/57 [==============================] - 0s 5ms/step - loss: 0.0665 - acc: 0.8700 - val_loss: 0.0848 - val_acc: 0.8343\n",
      "Epoch 25/150\n",
      "57/57 [==============================] - 0s 4ms/step - loss: 0.0664 - acc: 0.8718 - val_loss: 0.0838 - val_acc: 0.8404\n",
      "Epoch 26/150\n",
      "57/57 [==============================] - 0s 6ms/step - loss: 0.0612 - acc: 0.8819 - val_loss: 0.0828 - val_acc: 0.8435\n",
      "Epoch 27/150\n",
      "57/57 [==============================] - 0s 4ms/step - loss: 0.0612 - acc: 0.8798 - val_loss: 0.0838 - val_acc: 0.8411\n",
      "Epoch 28/150\n",
      "57/57 [==============================] - 0s 4ms/step - loss: 0.0596 - acc: 0.8829 - val_loss: 0.0829 - val_acc: 0.8417\n",
      "Epoch 29/150\n",
      "57/57 [==============================] - 0s 4ms/step - loss: 0.0617 - acc: 0.8798 - val_loss: 0.0824 - val_acc: 0.8435\n",
      "Epoch 30/150\n",
      "57/57 [==============================] - 0s 6ms/step - loss: 0.0593 - acc: 0.8875 - val_loss: 0.0826 - val_acc: 0.8435\n",
      "Epoch 31/150\n",
      "57/57 [==============================] - 0s 6ms/step - loss: 0.0588 - acc: 0.8899 - val_loss: 0.0822 - val_acc: 0.8466\n",
      "Epoch 32/150\n",
      "57/57 [==============================] - 0s 4ms/step - loss: 0.0588 - acc: 0.8875 - val_loss: 0.0823 - val_acc: 0.8448\n",
      "Epoch 33/150\n",
      "57/57 [==============================] - 0s 5ms/step - loss: 0.0595 - acc: 0.8829 - val_loss: 0.0824 - val_acc: 0.8472\n",
      "Epoch 34/150\n",
      "57/57 [==============================] - 0s 4ms/step - loss: 0.0593 - acc: 0.8856 - val_loss: 0.0824 - val_acc: 0.8472\n",
      "Epoch 35/150\n",
      "57/57 [==============================] - 0s 4ms/step - loss: 0.0545 - acc: 0.8973 - val_loss: 0.0821 - val_acc: 0.8510\n",
      "Epoch 36/150\n",
      "57/57 [==============================] - 0s 5ms/step - loss: 0.0605 - acc: 0.8834 - val_loss: 0.0797 - val_acc: 0.8534\n",
      "Epoch 37/150\n",
      "57/57 [==============================] - 0s 4ms/step - loss: 0.0567 - acc: 0.8930 - val_loss: 0.0815 - val_acc: 0.8503\n",
      "Epoch 38/150\n",
      "57/57 [==============================] - 0s 4ms/step - loss: 0.0540 - acc: 0.8972 - val_loss: 0.0828 - val_acc: 0.8460\n",
      "Epoch 39/150\n",
      "57/57 [==============================] - 0s 6ms/step - loss: 0.0566 - acc: 0.8863 - val_loss: 0.0834 - val_acc: 0.8442\n",
      "Epoch 40/150\n",
      "57/57 [==============================] - 0s 7ms/step - loss: 0.0517 - acc: 0.9023 - val_loss: 0.0820 - val_acc: 0.8510\n",
      "Epoch 41/150\n",
      "57/57 [==============================] - 0s 6ms/step - loss: 0.0560 - acc: 0.8908 - val_loss: 0.0845 - val_acc: 0.8435\n",
      "Epoch 42/150\n",
      "57/57 [==============================] - 0s 5ms/step - loss: 0.0545 - acc: 0.8956 - val_loss: 0.0831 - val_acc: 0.8534\n",
      "Epoch 43/150\n",
      "57/57 [==============================] - 0s 5ms/step - loss: 0.0552 - acc: 0.8954 - val_loss: 0.0797 - val_acc: 0.8547\n",
      "Epoch 44/150\n",
      "57/57 [==============================] - 0s 5ms/step - loss: 0.0553 - acc: 0.8983 - val_loss: 0.0814 - val_acc: 0.8503\n",
      "Epoch 45/150\n",
      "57/57 [==============================] - 0s 5ms/step - loss: 0.0559 - acc: 0.8922 - val_loss: 0.0806 - val_acc: 0.8503\n",
      "Epoch 46/150\n",
      "57/57 [==============================] - 0s 6ms/step - loss: 0.0551 - acc: 0.8923 - val_loss: 0.0809 - val_acc: 0.8553\n",
      "Epoch 47/150\n",
      "57/57 [==============================] - 0s 5ms/step - loss: 0.0520 - acc: 0.9008 - val_loss: 0.0796 - val_acc: 0.8541\n",
      "Epoch 48/150\n",
      "57/57 [==============================] - 0s 4ms/step - loss: 0.0536 - acc: 0.8947 - val_loss: 0.0791 - val_acc: 0.8547\n",
      "Epoch 49/150\n",
      "57/57 [==============================] - 0s 5ms/step - loss: 0.0522 - acc: 0.8948 - val_loss: 0.0816 - val_acc: 0.8479\n",
      "Epoch 50/150\n",
      "57/57 [==============================] - 0s 5ms/step - loss: 0.0512 - acc: 0.8999 - val_loss: 0.0791 - val_acc: 0.8534\n",
      "Epoch 51/150\n",
      "57/57 [==============================] - 0s 6ms/step - loss: 0.0522 - acc: 0.8986 - val_loss: 0.0803 - val_acc: 0.8528\n",
      "Epoch 52/150\n",
      "57/57 [==============================] - 0s 4ms/step - loss: 0.0536 - acc: 0.8962 - val_loss: 0.0813 - val_acc: 0.8497\n",
      "Epoch 53/150\n",
      "57/57 [==============================] - 0s 6ms/step - loss: 0.0509 - acc: 0.9025 - val_loss: 0.0809 - val_acc: 0.8528\n",
      "Epoch 54/150\n",
      "57/57 [==============================] - 0s 5ms/step - loss: 0.0509 - acc: 0.9034 - val_loss: 0.0795 - val_acc: 0.8565\n",
      "Epoch 55/150\n",
      "57/57 [==============================] - 0s 4ms/step - loss: 0.0518 - acc: 0.8976 - val_loss: 0.0778 - val_acc: 0.8590\n",
      "Epoch 56/150\n",
      "57/57 [==============================] - 0s 5ms/step - loss: 0.0492 - acc: 0.9056 - val_loss: 0.0792 - val_acc: 0.8571\n",
      "Epoch 57/150\n",
      "57/57 [==============================] - 0s 5ms/step - loss: 0.0489 - acc: 0.9064 - val_loss: 0.0789 - val_acc: 0.8559\n",
      "Epoch 58/150\n",
      "57/57 [==============================] - 0s 5ms/step - loss: 0.0521 - acc: 0.9004 - val_loss: 0.0789 - val_acc: 0.8584\n",
      "Epoch 59/150\n",
      "57/57 [==============================] - 0s 4ms/step - loss: 0.0510 - acc: 0.9027 - val_loss: 0.0779 - val_acc: 0.8596\n",
      "Epoch 60/150\n",
      "57/57 [==============================] - 0s 4ms/step - loss: 0.0514 - acc: 0.9009 - val_loss: 0.0790 - val_acc: 0.8553\n",
      "Epoch 61/150\n",
      "57/57 [==============================] - 0s 5ms/step - loss: 0.0509 - acc: 0.9025 - val_loss: 0.0789 - val_acc: 0.8590\n",
      "Epoch 62/150\n",
      "57/57 [==============================] - 0s 5ms/step - loss: 0.0501 - acc: 0.9034 - val_loss: 0.0792 - val_acc: 0.8528\n",
      "Epoch 63/150\n",
      "57/57 [==============================] - 0s 5ms/step - loss: 0.0507 - acc: 0.9025 - val_loss: 0.0790 - val_acc: 0.8547\n",
      "Epoch 64/150\n",
      "57/57 [==============================] - 0s 4ms/step - loss: 0.0523 - acc: 0.8998 - val_loss: 0.0787 - val_acc: 0.8565\n",
      "Epoch 65/150\n",
      "57/57 [==============================] - 0s 7ms/step - loss: 0.0491 - acc: 0.9052 - val_loss: 0.0781 - val_acc: 0.8596\n",
      "Epoch 66/150\n",
      "57/57 [==============================] - 1s 13ms/step - loss: 0.0479 - acc: 0.9058 - val_loss: 0.0783 - val_acc: 0.8609\n",
      "Epoch 67/150\n",
      "57/57 [==============================] - ETA: 0s - loss: 0.0490 - acc: 0.906 - 0s 9ms/step - loss: 0.0490 - acc: 0.9066 - val_loss: 0.0767 - val_acc: 0.8615\n",
      "Epoch 68/150\n",
      "57/57 [==============================] - 1s 12ms/step - loss: 0.0498 - acc: 0.9028 - val_loss: 0.0771 - val_acc: 0.8571\n",
      "Epoch 69/150\n",
      "57/57 [==============================] - 0s 7ms/step - loss: 0.0484 - acc: 0.9096 - val_loss: 0.0790 - val_acc: 0.8534\n",
      "Epoch 70/150\n",
      "57/57 [==============================] - 0s 4ms/step - loss: 0.0505 - acc: 0.9053 - val_loss: 0.0756 - val_acc: 0.8633\n",
      "Epoch 71/150\n",
      "57/57 [==============================] - 0s 5ms/step - loss: 0.0496 - acc: 0.9064 - val_loss: 0.0839 - val_acc: 0.8479\n",
      "Epoch 72/150\n",
      "57/57 [==============================] - 0s 5ms/step - loss: 0.0500 - acc: 0.9036 - val_loss: 0.0850 - val_acc: 0.8485\n",
      "Epoch 73/150\n",
      "57/57 [==============================] - 0s 5ms/step - loss: 0.0511 - acc: 0.9021 - val_loss: 0.0843 - val_acc: 0.8491\n",
      "Epoch 74/150\n",
      "57/57 [==============================] - 0s 7ms/step - loss: 0.0511 - acc: 0.9029 - val_loss: 0.0815 - val_acc: 0.8534\n",
      "Epoch 75/150\n",
      "57/57 [==============================] - 0s 4ms/step - loss: 0.0486 - acc: 0.9092 - val_loss: 0.0783 - val_acc: 0.8559\n",
      "Epoch 76/150\n",
      "57/57 [==============================] - 0s 4ms/step - loss: 0.0493 - acc: 0.9062 - val_loss: 0.0783 - val_acc: 0.8522\n",
      "Epoch 77/150\n",
      "57/57 [==============================] - 0s 5ms/step - loss: 0.0460 - acc: 0.9101 - val_loss: 0.0780 - val_acc: 0.8584\n",
      "Epoch 78/150\n",
      "57/57 [==============================] - 0s 4ms/step - loss: 0.0479 - acc: 0.9108 - val_loss: 0.0776 - val_acc: 0.8541\n",
      "Epoch 79/150\n",
      "57/57 [==============================] - 0s 4ms/step - loss: 0.0487 - acc: 0.9054 - val_loss: 0.0799 - val_acc: 0.8578\n",
      "Epoch 80/150\n",
      "57/57 [==============================] - 0s 6ms/step - loss: 0.0482 - acc: 0.9070 - val_loss: 0.0766 - val_acc: 0.8615\n",
      "Epoch 81/150\n",
      "57/57 [==============================] - 0s 5ms/step - loss: 0.0483 - acc: 0.9054 - val_loss: 0.0771 - val_acc: 0.8571\n",
      "Epoch 82/150\n",
      "57/57 [==============================] - 0s 4ms/step - loss: 0.0463 - acc: 0.9112 - val_loss: 0.0762 - val_acc: 0.8627\n",
      "Epoch 83/150\n",
      "57/57 [==============================] - 0s 4ms/step - loss: 0.0477 - acc: 0.9089 - val_loss: 0.0778 - val_acc: 0.8621\n",
      "Epoch 84/150\n",
      "57/57 [==============================] - 0s 4ms/step - loss: 0.0470 - acc: 0.9125 - val_loss: 0.0768 - val_acc: 0.8609\n",
      "Epoch 85/150\n",
      "57/57 [==============================] - 0s 4ms/step - loss: 0.0476 - acc: 0.9072 - val_loss: 0.0782 - val_acc: 0.8565\n",
      "Epoch 86/150\n",
      "57/57 [==============================] - 0s 4ms/step - loss: 0.0442 - acc: 0.9159 - val_loss: 0.0794 - val_acc: 0.8559\n",
      "Epoch 87/150\n",
      "57/57 [==============================] - 0s 4ms/step - loss: 0.0471 - acc: 0.9092 - val_loss: 0.0794 - val_acc: 0.8547\n",
      "Epoch 88/150\n",
      "57/57 [==============================] - 0s 5ms/step - loss: 0.0459 - acc: 0.9083 - val_loss: 0.0783 - val_acc: 0.8516\n",
      "Epoch 89/150\n",
      "57/57 [==============================] - 0s 8ms/step - loss: 0.0462 - acc: 0.9089 - val_loss: 0.0778 - val_acc: 0.8541\n",
      "Epoch 90/150\n",
      "57/57 [==============================] - 0s 6ms/step - loss: 0.0482 - acc: 0.9093 - val_loss: 0.0771 - val_acc: 0.8602\n",
      "Epoch 91/150\n",
      "57/57 [==============================] - 0s 7ms/step - loss: 0.0474 - acc: 0.9112 - val_loss: 0.0777 - val_acc: 0.8547\n",
      "Epoch 92/150\n",
      "57/57 [==============================] - 0s 5ms/step - loss: 0.0466 - acc: 0.9111 - val_loss: 0.0777 - val_acc: 0.8553\n",
      "Epoch 93/150\n",
      "57/57 [==============================] - 0s 5ms/step - loss: 0.0470 - acc: 0.9078 - val_loss: 0.0778 - val_acc: 0.8609\n",
      "Epoch 94/150\n",
      "57/57 [==============================] - 0s 5ms/step - loss: 0.0451 - acc: 0.9129 - val_loss: 0.0774 - val_acc: 0.8571\n",
      "Epoch 95/150\n",
      "57/57 [==============================] - 0s 5ms/step - loss: 0.0469 - acc: 0.9103 - val_loss: 0.0772 - val_acc: 0.8646\n",
      "Epoch 96/150\n",
      "57/57 [==============================] - 0s 5ms/step - loss: 0.0468 - acc: 0.9114 - val_loss: 0.0780 - val_acc: 0.8571\n",
      "Epoch 97/150\n",
      "57/57 [==============================] - 0s 5ms/step - loss: 0.0474 - acc: 0.9070 - val_loss: 0.0758 - val_acc: 0.8652\n",
      "Epoch 98/150\n",
      "57/57 [==============================] - 0s 5ms/step - loss: 0.0458 - acc: 0.9130 - val_loss: 0.0779 - val_acc: 0.8602\n",
      "Epoch 99/150\n",
      "57/57 [==============================] - 0s 5ms/step - loss: 0.0458 - acc: 0.9144 - val_loss: 0.0755 - val_acc: 0.8633\n",
      "Epoch 100/150\n",
      "57/57 [==============================] - 0s 5ms/step - loss: 0.0422 - acc: 0.9197 - val_loss: 0.0771 - val_acc: 0.8621\n",
      "Epoch 101/150\n",
      "57/57 [==============================] - 0s 5ms/step - loss: 0.0459 - acc: 0.9108 - val_loss: 0.0745 - val_acc: 0.8627\n",
      "Epoch 102/150\n",
      "57/57 [==============================] - 0s 4ms/step - loss: 0.0448 - acc: 0.9139 - val_loss: 0.0762 - val_acc: 0.8602\n",
      "Epoch 103/150\n",
      "57/57 [==============================] - 0s 4ms/step - loss: 0.0461 - acc: 0.9105 - val_loss: 0.0762 - val_acc: 0.8578\n",
      "Epoch 104/150\n",
      "57/57 [==============================] - 0s 5ms/step - loss: 0.0444 - acc: 0.9154 - val_loss: 0.0756 - val_acc: 0.8646\n",
      "Epoch 105/150\n",
      "57/57 [==============================] - 0s 5ms/step - loss: 0.0434 - acc: 0.9165 - val_loss: 0.0760 - val_acc: 0.8602\n",
      "Epoch 106/150\n",
      "57/57 [==============================] - 0s 6ms/step - loss: 0.0454 - acc: 0.9131 - val_loss: 0.0761 - val_acc: 0.8627\n",
      "Epoch 107/150\n",
      "57/57 [==============================] - 0s 5ms/step - loss: 0.0446 - acc: 0.9149 - val_loss: 0.0753 - val_acc: 0.8652\n",
      "Epoch 108/150\n",
      "57/57 [==============================] - 0s 5ms/step - loss: 0.0457 - acc: 0.9086 - val_loss: 0.0754 - val_acc: 0.8639\n",
      "Epoch 109/150\n",
      "57/57 [==============================] - 0s 5ms/step - loss: 0.0452 - acc: 0.9113 - val_loss: 0.0763 - val_acc: 0.8609\n",
      "Epoch 110/150\n",
      "57/57 [==============================] - 0s 5ms/step - loss: 0.0454 - acc: 0.9132 - val_loss: 0.0765 - val_acc: 0.8596\n",
      "Epoch 111/150\n",
      "57/57 [==============================] - 0s 5ms/step - loss: 0.0416 - acc: 0.9188 - val_loss: 0.0778 - val_acc: 0.8596\n",
      "Epoch 112/150\n",
      "57/57 [==============================] - 0s 5ms/step - loss: 0.0461 - acc: 0.9102 - val_loss: 0.0774 - val_acc: 0.8615\n",
      "Epoch 113/150\n",
      "57/57 [==============================] - 0s 5ms/step - loss: 0.0442 - acc: 0.9164 - val_loss: 0.0802 - val_acc: 0.8534\n",
      "Epoch 114/150\n",
      "57/57 [==============================] - 0s 5ms/step - loss: 0.0433 - acc: 0.9167 - val_loss: 0.0781 - val_acc: 0.8559\n",
      "Epoch 115/150\n",
      "57/57 [==============================] - 0s 4ms/step - loss: 0.0460 - acc: 0.9110 - val_loss: 0.0768 - val_acc: 0.8639\n",
      "Epoch 116/150\n",
      "57/57 [==============================] - 0s 5ms/step - loss: 0.0461 - acc: 0.9121 - val_loss: 0.0774 - val_acc: 0.8615\n",
      "Epoch 117/150\n",
      "57/57 [==============================] - 0s 4ms/step - loss: 0.0453 - acc: 0.9109 - val_loss: 0.0771 - val_acc: 0.8615\n",
      "Epoch 118/150\n",
      "57/57 [==============================] - 0s 5ms/step - loss: 0.0457 - acc: 0.9111 - val_loss: 0.0773 - val_acc: 0.8646\n",
      "Epoch 119/150\n",
      "57/57 [==============================] - 0s 5ms/step - loss: 0.0452 - acc: 0.9128 - val_loss: 0.0765 - val_acc: 0.8615\n",
      "Epoch 120/150\n",
      "57/57 [==============================] - 0s 5ms/step - loss: 0.0435 - acc: 0.9148 - val_loss: 0.0753 - val_acc: 0.8652\n",
      "Epoch 121/150\n",
      "57/57 [==============================] - 0s 5ms/step - loss: 0.0423 - acc: 0.9184 - val_loss: 0.0788 - val_acc: 0.8571\n",
      "Epoch 122/150\n",
      "57/57 [==============================] - 0s 6ms/step - loss: 0.0441 - acc: 0.9147 - val_loss: 0.0771 - val_acc: 0.8658\n",
      "Epoch 123/150\n",
      "57/57 [==============================] - 0s 5ms/step - loss: 0.0456 - acc: 0.9111 - val_loss: 0.0765 - val_acc: 0.8633\n",
      "Epoch 124/150\n"
     ]
    },
    {
     "name": "stdout",
     "output_type": "stream",
     "text": [
      "57/57 [==============================] - 0s 5ms/step - loss: 0.0424 - acc: 0.9171 - val_loss: 0.0769 - val_acc: 0.8590\n",
      "Epoch 125/150\n",
      "57/57 [==============================] - 0s 6ms/step - loss: 0.0442 - acc: 0.9144 - val_loss: 0.0778 - val_acc: 0.8621\n",
      "Epoch 126/150\n",
      "57/57 [==============================] - 0s 5ms/step - loss: 0.0450 - acc: 0.9139 - val_loss: 0.0794 - val_acc: 0.8596\n",
      "Epoch 127/150\n",
      "57/57 [==============================] - 0s 5ms/step - loss: 0.0442 - acc: 0.9153 - val_loss: 0.0789 - val_acc: 0.8596\n",
      "Epoch 128/150\n",
      "57/57 [==============================] - 0s 5ms/step - loss: 0.0441 - acc: 0.9152 - val_loss: 0.0779 - val_acc: 0.8565\n",
      "Epoch 129/150\n",
      "57/57 [==============================] - 0s 4ms/step - loss: 0.0435 - acc: 0.9171 - val_loss: 0.0775 - val_acc: 0.8596\n",
      "Epoch 130/150\n",
      "57/57 [==============================] - 0s 5ms/step - loss: 0.0435 - acc: 0.9183 - val_loss: 0.0748 - val_acc: 0.8658\n",
      "Epoch 131/150\n",
      "57/57 [==============================] - 0s 5ms/step - loss: 0.0444 - acc: 0.9140 - val_loss: 0.0748 - val_acc: 0.8677\n",
      "Epoch 132/150\n",
      "57/57 [==============================] - 0s 5ms/step - loss: 0.0445 - acc: 0.9124 - val_loss: 0.0748 - val_acc: 0.8658\n",
      "Epoch 133/150\n",
      "57/57 [==============================] - 0s 6ms/step - loss: 0.0433 - acc: 0.9158 - val_loss: 0.0747 - val_acc: 0.8658\n",
      "Epoch 134/150\n",
      "57/57 [==============================] - 0s 6ms/step - loss: 0.0442 - acc: 0.9128 - val_loss: 0.0747 - val_acc: 0.8683\n",
      "Epoch 135/150\n",
      "57/57 [==============================] - 0s 5ms/step - loss: 0.0443 - acc: 0.9145 - val_loss: 0.0750 - val_acc: 0.8670\n",
      "Epoch 136/150\n",
      "57/57 [==============================] - 0s 5ms/step - loss: 0.0415 - acc: 0.9200 - val_loss: 0.0742 - val_acc: 0.8707\n",
      "Epoch 137/150\n",
      "57/57 [==============================] - 0s 4ms/step - loss: 0.0445 - acc: 0.9146 - val_loss: 0.0763 - val_acc: 0.8615\n",
      "Epoch 138/150\n",
      "57/57 [==============================] - 0s 5ms/step - loss: 0.0440 - acc: 0.9135 - val_loss: 0.0766 - val_acc: 0.8646\n",
      "Epoch 139/150\n",
      "57/57 [==============================] - 0s 5ms/step - loss: 0.0419 - acc: 0.9168 - val_loss: 0.0774 - val_acc: 0.8621\n",
      "Epoch 140/150\n",
      "57/57 [==============================] - 0s 5ms/step - loss: 0.0439 - acc: 0.9131 - val_loss: 0.0777 - val_acc: 0.8658\n",
      "Epoch 141/150\n",
      "57/57 [==============================] - 0s 4ms/step - loss: 0.0424 - acc: 0.9169 - val_loss: 0.0759 - val_acc: 0.8670\n",
      "Epoch 142/150\n",
      "57/57 [==============================] - 0s 4ms/step - loss: 0.0423 - acc: 0.9165 - val_loss: 0.0774 - val_acc: 0.8646\n",
      "Epoch 143/150\n",
      "57/57 [==============================] - 0s 5ms/step - loss: 0.0451 - acc: 0.9108 - val_loss: 0.0772 - val_acc: 0.8639\n",
      "Epoch 144/150\n",
      "57/57 [==============================] - 0s 5ms/step - loss: 0.0403 - acc: 0.9232 - val_loss: 0.0765 - val_acc: 0.8652\n",
      "Epoch 145/150\n",
      "57/57 [==============================] - 0s 5ms/step - loss: 0.0447 - acc: 0.9104 - val_loss: 0.0760 - val_acc: 0.8646\n",
      "Epoch 146/150\n",
      "57/57 [==============================] - 0s 5ms/step - loss: 0.0431 - acc: 0.9165 - val_loss: 0.0752 - val_acc: 0.8633\n",
      "Epoch 147/150\n",
      "57/57 [==============================] - 1s 10ms/step - loss: 0.0409 - acc: 0.9204 - val_loss: 0.0738 - val_acc: 0.8664\n",
      "Epoch 148/150\n",
      "57/57 [==============================] - 1s 11ms/step - loss: 0.0430 - acc: 0.9181 - val_loss: 0.0748 - val_acc: 0.8658\n",
      "Epoch 149/150\n",
      "57/57 [==============================] - 0s 6ms/step - loss: 0.0430 - acc: 0.9153 - val_loss: 0.0749 - val_acc: 0.8670\n",
      "Epoch 150/150\n",
      "57/57 [==============================] - 0s 6ms/step - loss: 0.0418 - acc: 0.9185 - val_loss: 0.0753 - val_acc: 0.8652\n"
     ]
    }
   ],
   "source": [
    "model_4_val = model_4.fit(X_train_transformed, y_train_lb, epochs = 150,\n",
    "                         batch_size = 256, validation_split=.1,)"
   ]
  },
  {
   "cell_type": "code",
   "execution_count": 229,
   "metadata": {},
   "outputs": [
    {
     "data": {
      "image/png": "[encoded data removed]",
      "text/plain": [
       "<Figure size 432x288 with 1 Axes>"
      ]
     },
     "metadata": {
      "needs_background": "light"
     },
     "output_type": "display_data"
    },
    {
     "data": {
      "image/png": "[encoded data removed]",
      "text/plain": [
       "<Figure size 432x288 with 1 Axes>"
      ]
     },
     "metadata": {
      "needs_background": "light"
     },
     "output_type": "display_data"
    }
   ],
   "source": [
    "history = model_4_val.history\n",
    "plt.figure()\n",
    "plt.plot(np.arange(1,151,1), history[\"loss\"], label = \"train_loss\")\n",
    "plt.plot(np.arange(1,151,1), history[\"val_loss\"], label = \"val_loss\")\n",
    "plt.legend()\n",
    "plt.show()\n",
    "history = model_4_val.history\n",
    "plt.figure()\n",
    "plt.plot(np.arange(1,151,1), history[\"acc\"], label = \"train accuracy\")\n",
    "plt.plot(np.arange(1,151,1), history[\"val_acc\"], label = \"val_accuracy\")\n",
    "plt.legend()\n",
    "plt.show()\n",
    "#no crazy signs of overfitting"
   ]
  },
  {
   "cell_type": "code",
   "execution_count": 230,
   "metadata": {},
   "outputs": [
    {
     "name": "stdout",
     "output_type": "stream",
     "text": [
      "11/11 [==============================] - 0s 2ms/step - loss: 0.1570 - acc: 0.7353\n"
     ]
    },
    {
     "data": {
      "text/plain": [
       "[0.15696391463279724, 0.7352721691131592]"
      ]
     },
     "execution_count": 230,
     "metadata": {},
     "output_type": "execute_result"
    }
   ],
   "source": [
    "model_4.evaluate(X_test_transformed, y_test_lb, batch_size=128)\n",
    "#highest accuracy yet"
   ]
  },
  {
   "cell_type": "markdown",
   "metadata": {},
   "source": [
    "# CROSS VALIDATING "
   ]
  },
  {
   "cell_type": "code",
   "execution_count": 160,
   "metadata": {},
   "outputs": [
    {
     "data": {
      "text/plain": [
       "(1341,)"
      ]
     },
     "execution_count": 160,
     "metadata": {},
     "output_type": "execute_result"
    }
   ],
   "source": [
    "from sklearn.model_selection import train_test_split\n",
    "X = df.Cleaned_Tweet\n",
    "y = df.Emotion\n",
    "df_train, df_test = train_test_split(df, test_size = .15, stratify = df.Emotion)\n",
    "X_test, y_test = df_test.Cleaned_Tweet, df_test.Emotion\n",
    "X_test.shape"
   ]
  },
  {
   "cell_type": "code",
   "execution_count": 161,
   "metadata": {},
   "outputs": [],
   "source": [
    "df_negative = df_train[df_train[\"Emotion\"] == \"Negative emotion\"].sample(5388, replace = True)\n",
    "df_positive = df_train[df_train[\"Emotion\"] == \"Positive emotion\"].sample(5388, replace = True)\n",
    "df_neutral = df[df[\"Emotion\"] == \"No emotion toward brand or product\"]"
   ]
  },
  {
   "cell_type": "code",
   "execution_count": 162,
   "metadata": {},
   "outputs": [
    {
     "data": {
      "text/plain": [
       "Negative emotion                      5388\n",
       "Positive emotion                      5388\n",
       "No emotion toward brand or product    5388\n",
       "Name: Emotion, dtype: int64"
      ]
     },
     "execution_count": 162,
     "metadata": {},
     "output_type": "execute_result"
    }
   ],
   "source": [
    "df_train = pd.concat([df_negative, df_positive, df_neutral], axis = 0)\n",
    "df_train = df_train.sample(frac=1, axis=0).reset_index(drop=True)\n",
    "df_train[\"Emotion\"].value_counts()"
   ]
  },
  {
   "cell_type": "code",
   "execution_count": 163,
   "metadata": {},
   "outputs": [],
   "source": [
    "X_train, y_train = df_train.Cleaned_Tweet, df_train.Emotion"
   ]
  },
  {
   "cell_type": "code",
   "execution_count": 164,
   "metadata": {},
   "outputs": [],
   "source": [
    "from nltk.stem import WordNetLemmatizer\n",
    "lem = WordNetLemmatizer()\n",
    "def lem_tokenize(tweet):\n",
    "    return [lem.lemmatize(x) for x in tweet.split()]"
   ]
  },
  {
   "cell_type": "code",
   "execution_count": 165,
   "metadata": {},
   "outputs": [],
   "source": [
    "vectorizer = TfidfVectorizer(max_features = 750, ngram_range = (1,2), tokenizer = (lem_tokenize))\n",
    "X_train_tokens = vectorizer.fit_transform(X_train).todense()\n",
    "X_test_tokens = vectorizer.transform(X_test).todense()"
   ]
  },
  {
   "cell_type": "code",
   "execution_count": 166,
   "metadata": {},
   "outputs": [],
   "source": [
    "from sklearn.preprocessing import LabelBinarizer\n",
    "from keras.utils.np_utils import to_categorical\n",
    "lb = LabelBinarizer()\n",
    "lb.fit(y_train)\n",
    "y_train_lb = to_categorical(lb.transform(y_train))[:,:,1]\n",
    "y_test_lb = to_categorical(lb.transform(y_test))[:, :, 1]"
   ]
  },
  {
   "cell_type": "code",
   "execution_count": 167,
   "metadata": {},
   "outputs": [
    {
     "data": {
      "text/plain": [
       "(16164, 750)"
      ]
     },
     "execution_count": 167,
     "metadata": {},
     "output_type": "execute_result"
    }
   ],
   "source": [
    "from sklearn.preprocessing import StandardScaler\n",
    "scaler = StandardScaler()\n",
    "X_train_transformed = scaler.fit_transform(X_train_tokens)\n",
    "X_test_transformed = scaler.transform(X_test_tokens)\n",
    "X_train_transformed.shape"
   ]
  },
  {
   "cell_type": "code",
   "execution_count": 168,
   "metadata": {},
   "outputs": [
    {
     "name": "stdout",
     "output_type": "stream",
     "text": [
      "Epoch 1/150\n",
      "57/57 [==============================] - 1s 9ms/step - loss: 0.2359 - acc: 0.3561 - val_loss: 0.1939 - val_acc: 0.5349\n",
      "Epoch 2/150\n",
      "57/57 [==============================] - 0s 5ms/step - loss: 0.1994 - acc: 0.4918 - val_loss: 0.1626 - val_acc: 0.6265\n",
      "Epoch 3/150\n",
      "57/57 [==============================] - 0s 7ms/step - loss: 0.1699 - acc: 0.5961 - val_loss: 0.1398 - val_acc: 0.6729\n",
      "Epoch 4/150\n",
      "57/57 [==============================] - 0s 6ms/step - loss: 0.1521 - acc: 0.6400 - val_loss: 0.1249 - val_acc: 0.7186\n",
      "Epoch 5/150\n",
      "57/57 [==============================] - 0s 6ms/step - loss: 0.1322 - acc: 0.7019 - val_loss: 0.1140 - val_acc: 0.7477\n",
      "Epoch 6/150\n",
      "57/57 [==============================] - 0s 5ms/step - loss: 0.1201 - acc: 0.7337 - val_loss: 0.1077 - val_acc: 0.7619\n",
      "Epoch 7/150\n",
      "57/57 [==============================] - 0s 5ms/step - loss: 0.1086 - acc: 0.7698 - val_loss: 0.1016 - val_acc: 0.7805\n",
      "Epoch 8/150\n",
      "57/57 [==============================] - 0s 5ms/step - loss: 0.1035 - acc: 0.7771 - val_loss: 0.0977 - val_acc: 0.7922\n",
      "Epoch 9/150\n",
      "57/57 [==============================] - 0s 5ms/step - loss: 0.1009 - acc: 0.7849 - val_loss: 0.0942 - val_acc: 0.8027\n",
      "Epoch 10/150\n",
      "57/57 [==============================] - 0s 5ms/step - loss: 0.0951 - acc: 0.8014 - val_loss: 0.0928 - val_acc: 0.8145\n",
      "Epoch 11/150\n",
      "57/57 [==============================] - 0s 5ms/step - loss: 0.0942 - acc: 0.8018 - val_loss: 0.0901 - val_acc: 0.8126\n",
      "Epoch 12/150\n",
      "57/57 [==============================] - 0s 6ms/step - loss: 0.0880 - acc: 0.8163 - val_loss: 0.0888 - val_acc: 0.8101\n",
      "Epoch 13/150\n",
      "57/57 [==============================] - 0s 6ms/step - loss: 0.0864 - acc: 0.8223 - val_loss: 0.0872 - val_acc: 0.8207\n",
      "Epoch 14/150\n",
      "57/57 [==============================] - 0s 5ms/step - loss: 0.0844 - acc: 0.8263 - val_loss: 0.0859 - val_acc: 0.8293\n",
      "Epoch 15/150\n",
      "57/57 [==============================] - 0s 5ms/step - loss: 0.0810 - acc: 0.8338 - val_loss: 0.0857 - val_acc: 0.8281\n",
      "Epoch 16/150\n",
      "57/57 [==============================] - 0s 5ms/step - loss: 0.0792 - acc: 0.8388 - val_loss: 0.0834 - val_acc: 0.8318\n",
      "Epoch 17/150\n",
      "57/57 [==============================] - 0s 5ms/step - loss: 0.0788 - acc: 0.8412 - val_loss: 0.0825 - val_acc: 0.8380\n",
      "Epoch 18/150\n",
      "57/57 [==============================] - 0s 6ms/step - loss: 0.0769 - acc: 0.8474 - val_loss: 0.0813 - val_acc: 0.8417\n",
      "Epoch 19/150\n",
      "57/57 [==============================] - 0s 4ms/step - loss: 0.0764 - acc: 0.8471 - val_loss: 0.0806 - val_acc: 0.8423\n",
      "Epoch 20/150\n",
      "57/57 [==============================] - 0s 4ms/step - loss: 0.0731 - acc: 0.8535 - val_loss: 0.0799 - val_acc: 0.8479\n",
      "Epoch 21/150\n",
      "57/57 [==============================] - 0s 5ms/step - loss: 0.0719 - acc: 0.8567 - val_loss: 0.0806 - val_acc: 0.8472\n",
      "Epoch 22/150\n",
      "57/57 [==============================] - 0s 4ms/step - loss: 0.0720 - acc: 0.8589 - val_loss: 0.0799 - val_acc: 0.8503\n",
      "Epoch 23/150\n",
      "57/57 [==============================] - 0s 4ms/step - loss: 0.0676 - acc: 0.8673 - val_loss: 0.0777 - val_acc: 0.8497\n",
      "Epoch 24/150\n",
      "57/57 [==============================] - 0s 6ms/step - loss: 0.0666 - acc: 0.8723 - val_loss: 0.0797 - val_acc: 0.8491\n",
      "Epoch 25/150\n",
      "57/57 [==============================] - 0s 6ms/step - loss: 0.0675 - acc: 0.8696 - val_loss: 0.0776 - val_acc: 0.8541\n",
      "Epoch 26/150\n",
      "57/57 [==============================] - 0s 4ms/step - loss: 0.0656 - acc: 0.8745 - val_loss: 0.0778 - val_acc: 0.8559\n",
      "Epoch 27/150\n",
      "57/57 [==============================] - 0s 5ms/step - loss: 0.0651 - acc: 0.8723 - val_loss: 0.0783 - val_acc: 0.8571\n",
      "Epoch 28/150\n",
      "57/57 [==============================] - 0s 4ms/step - loss: 0.0648 - acc: 0.8728 - val_loss: 0.0776 - val_acc: 0.8553\n",
      "Epoch 29/150\n",
      "57/57 [==============================] - 0s 5ms/step - loss: 0.0651 - acc: 0.8707 - val_loss: 0.0768 - val_acc: 0.8571\n",
      "Epoch 30/150\n",
      "57/57 [==============================] - 0s 6ms/step - loss: 0.0624 - acc: 0.8812 - val_loss: 0.0765 - val_acc: 0.8528\n",
      "Epoch 31/150\n",
      "57/57 [==============================] - 0s 5ms/step - loss: 0.0632 - acc: 0.8787 - val_loss: 0.0766 - val_acc: 0.8559\n",
      "Epoch 32/150\n",
      "57/57 [==============================] - 0s 4ms/step - loss: 0.0630 - acc: 0.8771 - val_loss: 0.0768 - val_acc: 0.8534\n",
      "Epoch 33/150\n",
      "57/57 [==============================] - 0s 6ms/step - loss: 0.0611 - acc: 0.8807 - val_loss: 0.0762 - val_acc: 0.8547\n",
      "Epoch 34/150\n",
      "57/57 [==============================] - 0s 5ms/step - loss: 0.0573 - acc: 0.8922 - val_loss: 0.0752 - val_acc: 0.8639\n",
      "Epoch 35/150\n",
      "57/57 [==============================] - 0s 6ms/step - loss: 0.0587 - acc: 0.8862 - val_loss: 0.0763 - val_acc: 0.8609\n",
      "Epoch 36/150\n",
      "57/57 [==============================] - 0s 4ms/step - loss: 0.0589 - acc: 0.8878 - val_loss: 0.0773 - val_acc: 0.8559\n",
      "Epoch 37/150\n",
      "57/57 [==============================] - 0s 4ms/step - loss: 0.0600 - acc: 0.8845 - val_loss: 0.0764 - val_acc: 0.8541\n",
      "Epoch 38/150\n",
      "57/57 [==============================] - 0s 4ms/step - loss: 0.0560 - acc: 0.8925 - val_loss: 0.0751 - val_acc: 0.8602\n",
      "Epoch 39/150\n",
      "57/57 [==============================] - 0s 6ms/step - loss: 0.0564 - acc: 0.8924 - val_loss: 0.0760 - val_acc: 0.8590\n",
      "Epoch 40/150\n",
      "57/57 [==============================] - 0s 5ms/step - loss: 0.0571 - acc: 0.8903 - val_loss: 0.0736 - val_acc: 0.8633\n",
      "Epoch 41/150\n",
      "57/57 [==============================] - 0s 6ms/step - loss: 0.0594 - acc: 0.8869 - val_loss: 0.0733 - val_acc: 0.8627\n",
      "Epoch 42/150\n",
      "57/57 [==============================] - 0s 5ms/step - loss: 0.0562 - acc: 0.8932 - val_loss: 0.0747 - val_acc: 0.8621\n",
      "Epoch 43/150\n",
      "57/57 [==============================] - 0s 6ms/step - loss: 0.0577 - acc: 0.8925 - val_loss: 0.0742 - val_acc: 0.8652\n",
      "Epoch 44/150\n",
      "57/57 [==============================] - 0s 5ms/step - loss: 0.0550 - acc: 0.8932 - val_loss: 0.0743 - val_acc: 0.8658\n",
      "Epoch 45/150\n",
      "57/57 [==============================] - 0s 6ms/step - loss: 0.0569 - acc: 0.8919 - val_loss: 0.0740 - val_acc: 0.8677\n",
      "Epoch 46/150\n",
      "57/57 [==============================] - 0s 5ms/step - loss: 0.0546 - acc: 0.8975 - val_loss: 0.0771 - val_acc: 0.8615\n",
      "Epoch 47/150\n",
      "57/57 [==============================] - 0s 4ms/step - loss: 0.0549 - acc: 0.8952 - val_loss: 0.0734 - val_acc: 0.8695\n",
      "Epoch 48/150\n",
      "57/57 [==============================] - 0s 4ms/step - loss: 0.0537 - acc: 0.8969 - val_loss: 0.0749 - val_acc: 0.8658\n",
      "Epoch 49/150\n",
      "57/57 [==============================] - 0s 4ms/step - loss: 0.0549 - acc: 0.8968 - val_loss: 0.0739 - val_acc: 0.8633\n",
      "Epoch 50/150\n",
      "57/57 [==============================] - 0s 5ms/step - loss: 0.0502 - acc: 0.9052 - val_loss: 0.0713 - val_acc: 0.8695\n",
      "Epoch 51/150\n",
      "57/57 [==============================] - 0s 4ms/step - loss: 0.0550 - acc: 0.8972 - val_loss: 0.0754 - val_acc: 0.8621\n",
      "Epoch 52/150\n",
      "57/57 [==============================] - 0s 4ms/step - loss: 0.0553 - acc: 0.8953 - val_loss: 0.0751 - val_acc: 0.8602\n",
      "Epoch 53/150\n",
      "57/57 [==============================] - 0s 6ms/step - loss: 0.0524 - acc: 0.9003 - val_loss: 0.0732 - val_acc: 0.8633\n",
      "Epoch 54/150\n",
      "57/57 [==============================] - 0s 5ms/step - loss: 0.0541 - acc: 0.8967 - val_loss: 0.0716 - val_acc: 0.8714\n",
      "Epoch 55/150\n",
      "57/57 [==============================] - 0s 4ms/step - loss: 0.0554 - acc: 0.8968 - val_loss: 0.0719 - val_acc: 0.8695\n",
      "Epoch 56/150\n",
      "57/57 [==============================] - 0s 6ms/step - loss: 0.0511 - acc: 0.9052 - val_loss: 0.0710 - val_acc: 0.8763\n",
      "Epoch 57/150\n",
      "57/57 [==============================] - 0s 4ms/step - loss: 0.0512 - acc: 0.9038 - val_loss: 0.0710 - val_acc: 0.8714\n",
      "Epoch 58/150\n",
      "57/57 [==============================] - 0s 4ms/step - loss: 0.0508 - acc: 0.9096 - val_loss: 0.0722 - val_acc: 0.8683\n",
      "Epoch 59/150\n",
      "57/57 [==============================] - 0s 4ms/step - loss: 0.0530 - acc: 0.8988 - val_loss: 0.0724 - val_acc: 0.8677\n",
      "Epoch 60/150\n",
      "57/57 [==============================] - 0s 4ms/step - loss: 0.0521 - acc: 0.9005 - val_loss: 0.0722 - val_acc: 0.8732\n",
      "Epoch 61/150\n",
      "57/57 [==============================] - 0s 5ms/step - loss: 0.0523 - acc: 0.9020 - val_loss: 0.0729 - val_acc: 0.8720\n",
      "Epoch 62/150\n",
      "57/57 [==============================] - 0s 6ms/step - loss: 0.0511 - acc: 0.9056 - val_loss: 0.0737 - val_acc: 0.8689\n",
      "Epoch 63/150\n",
      "57/57 [==============================] - 0s 5ms/step - loss: 0.0513 - acc: 0.9070 - val_loss: 0.0718 - val_acc: 0.8745\n",
      "Epoch 64/150\n",
      "57/57 [==============================] - 0s 5ms/step - loss: 0.0520 - acc: 0.9022 - val_loss: 0.0717 - val_acc: 0.8714\n",
      "Epoch 65/150\n",
      "57/57 [==============================] - 0s 5ms/step - loss: 0.0501 - acc: 0.9076 - val_loss: 0.0718 - val_acc: 0.8726\n",
      "Epoch 66/150\n",
      "57/57 [==============================] - 0s 6ms/step - loss: 0.0506 - acc: 0.9031 - val_loss: 0.0721 - val_acc: 0.8714\n",
      "Epoch 67/150\n",
      "57/57 [==============================] - 0s 3ms/step - loss: 0.0480 - acc: 0.9094 - val_loss: 0.0706 - val_acc: 0.8757\n",
      "Epoch 68/150\n",
      "57/57 [==============================] - 0s 4ms/step - loss: 0.0522 - acc: 0.9010 - val_loss: 0.0699 - val_acc: 0.8757\n",
      "Epoch 69/150\n",
      "57/57 [==============================] - 0s 6ms/step - loss: 0.0477 - acc: 0.9097 - val_loss: 0.0700 - val_acc: 0.8763\n",
      "Epoch 70/150\n",
      "57/57 [==============================] - 0s 4ms/step - loss: 0.0498 - acc: 0.9065 - val_loss: 0.0715 - val_acc: 0.8720\n",
      "Epoch 71/150\n",
      "57/57 [==============================] - 0s 6ms/step - loss: 0.0477 - acc: 0.9111 - val_loss: 0.0699 - val_acc: 0.8701\n",
      "Epoch 72/150\n",
      "57/57 [==============================] - 0s 4ms/step - loss: 0.0502 - acc: 0.9058 - val_loss: 0.0728 - val_acc: 0.8707\n",
      "Epoch 73/150\n",
      "57/57 [==============================] - 0s 4ms/step - loss: 0.0499 - acc: 0.9065 - val_loss: 0.0738 - val_acc: 0.8683\n",
      "Epoch 74/150\n",
      "57/57 [==============================] - 0s 5ms/step - loss: 0.0490 - acc: 0.9084 - val_loss: 0.0721 - val_acc: 0.8732\n",
      "Epoch 75/150\n",
      "57/57 [==============================] - 0s 5ms/step - loss: 0.0503 - acc: 0.9062 - val_loss: 0.0724 - val_acc: 0.8689\n",
      "Epoch 76/150\n",
      "57/57 [==============================] - 0s 3ms/step - loss: 0.0470 - acc: 0.9131 - val_loss: 0.0722 - val_acc: 0.8707\n",
      "Epoch 77/150\n",
      "57/57 [==============================] - 0s 4ms/step - loss: 0.0480 - acc: 0.9094 - val_loss: 0.0713 - val_acc: 0.8776\n",
      "Epoch 78/150\n",
      "57/57 [==============================] - 0s 4ms/step - loss: 0.0497 - acc: 0.9058 - val_loss: 0.0722 - val_acc: 0.8732\n",
      "Epoch 79/150\n",
      "57/57 [==============================] - 0s 4ms/step - loss: 0.0492 - acc: 0.9068 - val_loss: 0.0710 - val_acc: 0.8732\n",
      "Epoch 80/150\n",
      "57/57 [==============================] - 0s 4ms/step - loss: 0.0480 - acc: 0.9099 - val_loss: 0.0715 - val_acc: 0.8745\n",
      "Epoch 81/150\n",
      "57/57 [==============================] - 0s 4ms/step - loss: 0.0483 - acc: 0.9099 - val_loss: 0.0703 - val_acc: 0.8776\n",
      "Epoch 82/150\n",
      "57/57 [==============================] - 0s 4ms/step - loss: 0.0463 - acc: 0.9137 - val_loss: 0.0711 - val_acc: 0.8726\n",
      "Epoch 83/150\n",
      "57/57 [==============================] - 0s 4ms/step - loss: 0.0456 - acc: 0.9151 - val_loss: 0.0707 - val_acc: 0.8714\n",
      "Epoch 84/150\n",
      "57/57 [==============================] - 0s 4ms/step - loss: 0.0492 - acc: 0.9068 - val_loss: 0.0722 - val_acc: 0.8732\n",
      "Epoch 85/150\n",
      "57/57 [==============================] - 0s 4ms/step - loss: 0.0481 - acc: 0.9108 - val_loss: 0.0703 - val_acc: 0.8763\n",
      "Epoch 86/150\n",
      "57/57 [==============================] - 0s 4ms/step - loss: 0.0476 - acc: 0.9092 - val_loss: 0.0706 - val_acc: 0.8738\n",
      "Epoch 87/150\n",
      "57/57 [==============================] - 0s 4ms/step - loss: 0.0487 - acc: 0.9078 - val_loss: 0.0713 - val_acc: 0.8726\n",
      "Epoch 88/150\n",
      "57/57 [==============================] - 0s 4ms/step - loss: 0.0482 - acc: 0.9076 - val_loss: 0.0697 - val_acc: 0.8751\n",
      "Epoch 89/150\n",
      "57/57 [==============================] - 0s 4ms/step - loss: 0.0486 - acc: 0.9077 - val_loss: 0.0696 - val_acc: 0.8769\n",
      "Epoch 90/150\n",
      "57/57 [==============================] - 0s 4ms/step - loss: 0.0454 - acc: 0.9141 - val_loss: 0.0705 - val_acc: 0.8720\n",
      "Epoch 91/150\n",
      "57/57 [==============================] - 0s 4ms/step - loss: 0.0477 - acc: 0.9088 - val_loss: 0.0675 - val_acc: 0.8819\n",
      "Epoch 92/150\n",
      "57/57 [==============================] - 0s 7ms/step - loss: 0.0479 - acc: 0.9094 - val_loss: 0.0688 - val_acc: 0.8769\n",
      "Epoch 93/150\n",
      "57/57 [==============================] - 0s 5ms/step - loss: 0.0451 - acc: 0.9146 - val_loss: 0.0682 - val_acc: 0.8825\n",
      "Epoch 94/150\n",
      "57/57 [==============================] - 0s 5ms/step - loss: 0.0452 - acc: 0.9126 - val_loss: 0.0682 - val_acc: 0.8794\n",
      "Epoch 95/150\n",
      "57/57 [==============================] - 0s 5ms/step - loss: 0.0454 - acc: 0.9132 - val_loss: 0.0685 - val_acc: 0.8769\n",
      "Epoch 96/150\n",
      "57/57 [==============================] - 0s 5ms/step - loss: 0.0458 - acc: 0.9149 - val_loss: 0.0686 - val_acc: 0.8776\n",
      "Epoch 97/150\n",
      "57/57 [==============================] - 0s 6ms/step - loss: 0.0486 - acc: 0.9094 - val_loss: 0.0689 - val_acc: 0.8776\n",
      "Epoch 98/150\n",
      "57/57 [==============================] - 0s 4ms/step - loss: 0.0491 - acc: 0.9043 - val_loss: 0.0689 - val_acc: 0.8788\n",
      "Epoch 99/150\n",
      "57/57 [==============================] - 0s 5ms/step - loss: 0.0467 - acc: 0.9153 - val_loss: 0.0691 - val_acc: 0.8769\n",
      "Epoch 100/150\n",
      "57/57 [==============================] - 0s 5ms/step - loss: 0.0470 - acc: 0.9095 - val_loss: 0.0697 - val_acc: 0.8763\n",
      "Epoch 101/150\n",
      "57/57 [==============================] - 0s 6ms/step - loss: 0.0461 - acc: 0.9105 - val_loss: 0.0692 - val_acc: 0.8782\n",
      "Epoch 102/150\n",
      "57/57 [==============================] - 0s 4ms/step - loss: 0.0467 - acc: 0.9113 - val_loss: 0.0693 - val_acc: 0.8763\n",
      "Epoch 103/150\n",
      "57/57 [==============================] - 0s 6ms/step - loss: 0.0449 - acc: 0.9126 - val_loss: 0.0705 - val_acc: 0.8782\n",
      "Epoch 104/150\n",
      "57/57 [==============================] - 0s 4ms/step - loss: 0.0449 - acc: 0.9146 - val_loss: 0.0680 - val_acc: 0.8831\n",
      "Epoch 105/150\n",
      "57/57 [==============================] - 0s 4ms/step - loss: 0.0478 - acc: 0.9112 - val_loss: 0.0684 - val_acc: 0.8806\n",
      "Epoch 106/150\n",
      "57/57 [==============================] - 0s 4ms/step - loss: 0.0431 - acc: 0.9182 - val_loss: 0.0673 - val_acc: 0.8844\n",
      "Epoch 107/150\n",
      "57/57 [==============================] - 0s 5ms/step - loss: 0.0461 - acc: 0.9147 - val_loss: 0.0691 - val_acc: 0.8794\n",
      "Epoch 108/150\n",
      "57/57 [==============================] - 0s 5ms/step - loss: 0.0456 - acc: 0.9150 - val_loss: 0.0701 - val_acc: 0.8763\n",
      "Epoch 109/150\n",
      "57/57 [==============================] - 0s 5ms/step - loss: 0.0447 - acc: 0.9148 - val_loss: 0.0706 - val_acc: 0.8745\n",
      "Epoch 110/150\n",
      "57/57 [==============================] - 0s 4ms/step - loss: 0.0463 - acc: 0.9143 - val_loss: 0.0692 - val_acc: 0.8813\n",
      "Epoch 111/150\n",
      "57/57 [==============================] - 0s 4ms/step - loss: 0.0459 - acc: 0.9166 - val_loss: 0.0682 - val_acc: 0.8819\n",
      "Epoch 112/150\n",
      "57/57 [==============================] - 0s 6ms/step - loss: 0.0459 - acc: 0.9133 - val_loss: 0.0691 - val_acc: 0.8782\n",
      "Epoch 113/150\n",
      "57/57 [==============================] - 0s 5ms/step - loss: 0.0467 - acc: 0.9133 - val_loss: 0.0686 - val_acc: 0.8844\n",
      "Epoch 114/150\n",
      "57/57 [==============================] - 0s 4ms/step - loss: 0.0460 - acc: 0.9140 - val_loss: 0.0690 - val_acc: 0.8794\n",
      "Epoch 115/150\n",
      "57/57 [==============================] - 0s 4ms/step - loss: 0.0470 - acc: 0.9113 - val_loss: 0.0699 - val_acc: 0.8776\n",
      "Epoch 116/150\n",
      "57/57 [==============================] - 0s 4ms/step - loss: 0.0429 - acc: 0.9203 - val_loss: 0.0720 - val_acc: 0.8751\n",
      "Epoch 117/150\n",
      "57/57 [==============================] - 0s 4ms/step - loss: 0.0446 - acc: 0.9156 - val_loss: 0.0719 - val_acc: 0.8707\n",
      "Epoch 118/150\n",
      "57/57 [==============================] - 0s 4ms/step - loss: 0.0469 - acc: 0.9128 - val_loss: 0.0703 - val_acc: 0.8757\n",
      "Epoch 119/150\n",
      "57/57 [==============================] - 0s 5ms/step - loss: 0.0443 - acc: 0.9171 - val_loss: 0.0684 - val_acc: 0.8837\n",
      "Epoch 120/150\n",
      "57/57 [==============================] - 0s 4ms/step - loss: 0.0450 - acc: 0.9155 - val_loss: 0.0687 - val_acc: 0.8813\n",
      "Epoch 121/150\n",
      "57/57 [==============================] - 0s 6ms/step - loss: 0.0462 - acc: 0.9121 - val_loss: 0.0703 - val_acc: 0.8782\n",
      "Epoch 122/150\n",
      "57/57 [==============================] - 0s 5ms/step - loss: 0.0444 - acc: 0.9161 - val_loss: 0.0698 - val_acc: 0.8738\n",
      "Epoch 123/150\n",
      "57/57 [==============================] - 0s 5ms/step - loss: 0.0439 - acc: 0.9189 - val_loss: 0.0690 - val_acc: 0.8806\n",
      "Epoch 124/150\n",
      "57/57 [==============================] - 0s 5ms/step - loss: 0.0444 - acc: 0.9178 - val_loss: 0.0676 - val_acc: 0.8819\n"
     ]
    },
    {
     "name": "stdout",
     "output_type": "stream",
     "text": [
      "Epoch 125/150\n",
      "57/57 [==============================] - 0s 4ms/step - loss: 0.0419 - acc: 0.9208 - val_loss: 0.0675 - val_acc: 0.8825\n",
      "Epoch 126/150\n",
      "57/57 [==============================] - 0s 5ms/step - loss: 0.0441 - acc: 0.9179 - val_loss: 0.0673 - val_acc: 0.8831\n",
      "Epoch 127/150\n",
      "57/57 [==============================] - 0s 5ms/step - loss: 0.0431 - acc: 0.9210 - val_loss: 0.0670 - val_acc: 0.8794\n",
      "Epoch 128/150\n",
      "57/57 [==============================] - 0s 5ms/step - loss: 0.0455 - acc: 0.9168 - val_loss: 0.0657 - val_acc: 0.8881\n",
      "Epoch 129/150\n",
      "57/57 [==============================] - 0s 5ms/step - loss: 0.0452 - acc: 0.9161 - val_loss: 0.0689 - val_acc: 0.8788\n",
      "Epoch 130/150\n",
      "57/57 [==============================] - 0s 4ms/step - loss: 0.0445 - acc: 0.9162 - val_loss: 0.0684 - val_acc: 0.8776\n",
      "Epoch 131/150\n",
      "57/57 [==============================] - 0s 6ms/step - loss: 0.0433 - acc: 0.9185 - val_loss: 0.0681 - val_acc: 0.8813\n",
      "Epoch 132/150\n",
      "57/57 [==============================] - 0s 6ms/step - loss: 0.0428 - acc: 0.9186 - val_loss: 0.0672 - val_acc: 0.8862\n",
      "Epoch 133/150\n",
      "57/57 [==============================] - 0s 4ms/step - loss: 0.0438 - acc: 0.9166 - val_loss: 0.0673 - val_acc: 0.8844\n",
      "Epoch 134/150\n",
      "57/57 [==============================] - 0s 5ms/step - loss: 0.0432 - acc: 0.9200 - val_loss: 0.0677 - val_acc: 0.8819\n",
      "Epoch 135/150\n",
      "57/57 [==============================] - 0s 5ms/step - loss: 0.0445 - acc: 0.9160 - val_loss: 0.0684 - val_acc: 0.8813\n",
      "Epoch 136/150\n",
      "57/57 [==============================] - 0s 6ms/step - loss: 0.0427 - acc: 0.9207 - val_loss: 0.0679 - val_acc: 0.8794\n",
      "Epoch 137/150\n",
      "57/57 [==============================] - 0s 5ms/step - loss: 0.0423 - acc: 0.9202 - val_loss: 0.0679 - val_acc: 0.8806\n",
      "Epoch 138/150\n",
      "57/57 [==============================] - 0s 4ms/step - loss: 0.0454 - acc: 0.9141 - val_loss: 0.0678 - val_acc: 0.8782\n",
      "Epoch 139/150\n",
      "57/57 [==============================] - 0s 5ms/step - loss: 0.0450 - acc: 0.9115 - val_loss: 0.0673 - val_acc: 0.8831\n",
      "Epoch 140/150\n",
      "57/57 [==============================] - 0s 5ms/step - loss: 0.0442 - acc: 0.9166 - val_loss: 0.0669 - val_acc: 0.8874\n",
      "Epoch 141/150\n",
      "57/57 [==============================] - 0s 4ms/step - loss: 0.0446 - acc: 0.9173 - val_loss: 0.0684 - val_acc: 0.8831\n",
      "Epoch 142/150\n",
      "57/57 [==============================] - 0s 5ms/step - loss: 0.0475 - acc: 0.9121 - val_loss: 0.0693 - val_acc: 0.8819\n",
      "Epoch 143/150\n",
      "57/57 [==============================] - 0s 5ms/step - loss: 0.0451 - acc: 0.9157 - val_loss: 0.0683 - val_acc: 0.8844\n",
      "Epoch 144/150\n",
      "57/57 [==============================] - 0s 4ms/step - loss: 0.0443 - acc: 0.9157 - val_loss: 0.0671 - val_acc: 0.8862\n",
      "Epoch 145/150\n",
      "57/57 [==============================] - 0s 4ms/step - loss: 0.0414 - acc: 0.9235 - val_loss: 0.0677 - val_acc: 0.8825\n",
      "Epoch 146/150\n",
      "57/57 [==============================] - 0s 5ms/step - loss: 0.0446 - acc: 0.9177 - val_loss: 0.0672 - val_acc: 0.8856\n",
      "Epoch 147/150\n",
      "57/57 [==============================] - 0s 6ms/step - loss: 0.0442 - acc: 0.9172 - val_loss: 0.0674 - val_acc: 0.8850\n",
      "Epoch 148/150\n",
      "57/57 [==============================] - 0s 5ms/step - loss: 0.0439 - acc: 0.9193 - val_loss: 0.0691 - val_acc: 0.8819\n",
      "Epoch 149/150\n",
      "57/57 [==============================] - 0s 6ms/step - loss: 0.0435 - acc: 0.9204 - val_loss: 0.0693 - val_acc: 0.8788\n",
      "Epoch 150/150\n",
      "57/57 [==============================] - 0s 5ms/step - loss: 0.0451 - acc: 0.9159 - val_loss: 0.0681 - val_acc: 0.8825\n"
     ]
    }
   ],
   "source": [
    "model_4_val = model_4.fit(X_train_transformed, y_train_lb, epochs = 150,\n",
    "                         batch_size = 256, validation_split=.1,)"
   ]
  },
  {
   "cell_type": "code",
   "execution_count": 169,
   "metadata": {},
   "outputs": [
    {
     "name": "stdout",
     "output_type": "stream",
     "text": [
      "11/11 [==============================] - 0s 3ms/step - loss: 0.1592 - acc: 0.7323\n"
     ]
    },
    {
     "data": {
      "text/plain": [
       "[0.1592448204755783, 0.7322893142700195]"
      ]
     },
     "execution_count": 169,
     "metadata": {},
     "output_type": "execute_result"
    }
   ],
   "source": [
    "model_4.evaluate(X_test_transformed, y_test_lb, batch_size=128)\n",
    "#similar accuracy"
   ]
  },
  {
   "cell_type": "markdown",
   "metadata": {},
   "source": [
    "# CROSS VALIDATING"
   ]
  },
  {
   "cell_type": "code",
   "execution_count": 37,
   "metadata": {},
   "outputs": [
    {
     "data": {
      "text/html": [
       "<div>\n",
       "<style scoped>\n",
       "    .dataframe tbody tr th:only-of-type {\n",
       "        vertical-align: middle;\n",
       "    }\n",
       "\n",
       "    .dataframe tbody tr th {\n",
       "        vertical-align: top;\n",
       "    }\n",
       "\n",
       "    .dataframe thead th {\n",
       "        text-align: right;\n",
       "    }\n",
       "</style>\n",
       "<table border=\"1\" class=\"dataframe\">\n",
       "  <thead>\n",
       "    <tr style=\"text-align: right;\">\n",
       "      <th></th>\n",
       "      <th>Emotion</th>\n",
       "      <th>Cleaned_Tweet</th>\n",
       "    </tr>\n",
       "  </thead>\n",
       "  <tbody>\n",
       "    <tr>\n",
       "      <th>0</th>\n",
       "      <td>No emotion toward brand or product</td>\n",
       "      <td>wish amp would make whispergram hollergram iph...</td>\n",
       "    </tr>\n",
       "    <tr>\n",
       "      <th>1</th>\n",
       "      <td>No emotion toward brand or product</td>\n",
       "      <td>today sessions print design future mom ipad</td>\n",
       "    </tr>\n",
       "    <tr>\n",
       "      <th>2</th>\n",
       "      <td>Negative emotion</td>\n",
       "      <td>classiest fascist company existence kara swisher</td>\n",
       "    </tr>\n",
       "    <tr>\n",
       "      <th>3</th>\n",
       "      <td>Positive emotion</td>\n",
       "      <td>begins story cool sxsw app also apple launchin...</td>\n",
       "    </tr>\n",
       "    <tr>\n",
       "      <th>4</th>\n",
       "      <td>No emotion toward brand or product</td>\n",
       "      <td>entrepreneurs win tech award via</td>\n",
       "    </tr>\n",
       "    <tr>\n",
       "      <th>...</th>\n",
       "      <td>...</td>\n",
       "      <td>...</td>\n",
       "    </tr>\n",
       "    <tr>\n",
       "      <th>16159</th>\n",
       "      <td>Negative emotion</td>\n",
       "      <td>tried installing iphone crashes every time open</td>\n",
       "    </tr>\n",
       "    <tr>\n",
       "      <th>16160</th>\n",
       "      <td>Positive emotion</td>\n",
       "      <td>talked great developers android meetup looking...</td>\n",
       "    </tr>\n",
       "    <tr>\n",
       "      <th>16161</th>\n",
       "      <td>Positive emotion</td>\n",
       "      <td>apple opens store smart well played fruit co via</td>\n",
       "    </tr>\n",
       "    <tr>\n",
       "      <th>16162</th>\n",
       "      <td>Negative emotion</td>\n",
       "      <td>make sense limit content specific platform ipa...</td>\n",
       "    </tr>\n",
       "    <tr>\n",
       "      <th>16163</th>\n",
       "      <td>No emotion toward brand or product</td>\n",
       "      <td>free lounge open daily serving art made ipads ...</td>\n",
       "    </tr>\n",
       "  </tbody>\n",
       "</table>\n",
       "<p>16164 rows × 2 columns</p>\n",
       "</div>"
      ],
      "text/plain": [
       "                                  Emotion  \\\n",
       "0      No emotion toward brand or product   \n",
       "1      No emotion toward brand or product   \n",
       "2                        Negative emotion   \n",
       "3                        Positive emotion   \n",
       "4      No emotion toward brand or product   \n",
       "...                                   ...   \n",
       "16159                    Negative emotion   \n",
       "16160                    Positive emotion   \n",
       "16161                    Positive emotion   \n",
       "16162                    Negative emotion   \n",
       "16163  No emotion toward brand or product   \n",
       "\n",
       "                                           Cleaned_Tweet  \n",
       "0      wish amp would make whispergram hollergram iph...  \n",
       "1            today sessions print design future mom ipad  \n",
       "2       classiest fascist company existence kara swisher  \n",
       "3      begins story cool sxsw app also apple launchin...  \n",
       "4                       entrepreneurs win tech award via  \n",
       "...                                                  ...  \n",
       "16159    tried installing iphone crashes every time open  \n",
       "16160  talked great developers android meetup looking...  \n",
       "16161   apple opens store smart well played fruit co via  \n",
       "16162  make sense limit content specific platform ipa...  \n",
       "16163  free lounge open daily serving art made ipads ...  \n",
       "\n",
       "[16164 rows x 2 columns]"
      ]
     },
     "execution_count": 37,
     "metadata": {},
     "output_type": "execute_result"
    }
   ],
   "source": [
    "df_train"
   ]
  },
  {
   "cell_type": "code",
   "execution_count": 170,
   "metadata": {},
   "outputs": [
    {
     "data": {
      "text/plain": [
       "(1341,)"
      ]
     },
     "execution_count": 170,
     "metadata": {},
     "output_type": "execute_result"
    }
   ],
   "source": [
    "from sklearn.model_selection import train_test_split\n",
    "X = df.Cleaned_Tweet\n",
    "y = df.Emotion\n",
    "df_train, df_test = train_test_split(df, test_size = .15, stratify = df.Emotion)\n",
    "X_test, y_test = df_test.Cleaned_Tweet, df_test.Emotion\n",
    "X_test.shape"
   ]
  },
  {
   "cell_type": "code",
   "execution_count": 171,
   "metadata": {},
   "outputs": [],
   "source": [
    "df_negative = df_train[df_train[\"Emotion\"] == \"Negative emotion\"].sample(5388, replace = True)\n",
    "df_positive = df_train[df_train[\"Emotion\"] == \"Positive emotion\"].sample(5388, replace = True)\n",
    "df_neutral = df[df[\"Emotion\"] == \"No emotion toward brand or product\"]"
   ]
  },
  {
   "cell_type": "code",
   "execution_count": 172,
   "metadata": {},
   "outputs": [
    {
     "data": {
      "text/plain": [
       "Negative emotion                      5388\n",
       "Positive emotion                      5388\n",
       "No emotion toward brand or product    5388\n",
       "Name: Emotion, dtype: int64"
      ]
     },
     "execution_count": 172,
     "metadata": {},
     "output_type": "execute_result"
    }
   ],
   "source": [
    "df_train = pd.concat([df_negative, df_positive, df_neutral], axis = 0)\n",
    "df_train = df_train.sample(frac=1, axis=0).reset_index(drop=True)\n",
    "df_train[\"Emotion\"].value_counts()"
   ]
  },
  {
   "cell_type": "code",
   "execution_count": 173,
   "metadata": {},
   "outputs": [],
   "source": [
    "X_train, y_train = df_train.Cleaned_Tweet, df_train.Emotion"
   ]
  },
  {
   "cell_type": "code",
   "execution_count": 174,
   "metadata": {},
   "outputs": [],
   "source": [
    "from nltk.stem import WordNetLemmatizer\n",
    "lem = WordNetLemmatizer()\n",
    "def lem_tokenize(tweet):\n",
    "    return [lem.lemmatize(x) for x in tweet.split()]"
   ]
  },
  {
   "cell_type": "code",
   "execution_count": 252,
   "metadata": {},
   "outputs": [],
   "source": [
    "vectorizer = TfidfVectorizer(max_features = 750, ngram_range = (1,2), tokenizer = (lem_tokenize))\n",
    "X_train_tokens = vectorizer.fit_transform(X_train).todense()\n",
    "X_test_tokens = vectorizer.transform(X_test).todense()"
   ]
  },
  {
   "cell_type": "code",
   "execution_count": 253,
   "metadata": {},
   "outputs": [],
   "source": [
    "from sklearn.preprocessing import LabelBinarizer\n",
    "from keras.utils.np_utils import to_categorical\n",
    "lb = LabelBinarizer()\n",
    "lb.fit(y_train)\n",
    "y_train_lb = to_categorical(lb.transform(y_train))[:,:,1]\n",
    "y_test_lb = to_categorical(lb.transform(y_test))[:, :, 1]"
   ]
  },
  {
   "cell_type": "code",
   "execution_count": 254,
   "metadata": {},
   "outputs": [
    {
     "data": {
      "text/plain": [
       "(16164, 750)"
      ]
     },
     "execution_count": 254,
     "metadata": {},
     "output_type": "execute_result"
    }
   ],
   "source": [
    "from sklearn.preprocessing import StandardScaler\n",
    "scaler = StandardScaler()\n",
    "X_train_transformed = scaler.fit_transform(X_train_tokens)\n",
    "X_test_transformed = scaler.transform(X_test_tokens)\n",
    "X_train_transformed.shape"
   ]
  },
  {
   "cell_type": "code",
   "execution_count": 178,
   "metadata": {},
   "outputs": [
    {
     "name": "stdout",
     "output_type": "stream",
     "text": [
      "Epoch 1/150\n",
      "57/57 [==============================] - 0s 5ms/step - loss: 0.3330 - acc: 0.4072 - val_loss: 0.2766 - val_acc: 0.4267\n",
      "Epoch 2/150\n",
      "57/57 [==============================] - 0s 4ms/step - loss: 0.2419 - acc: 0.4630 - val_loss: 0.2129 - val_acc: 0.4756\n",
      "Epoch 3/150\n",
      "57/57 [==============================] - 0s 4ms/step - loss: 0.2070 - acc: 0.5031 - val_loss: 0.1923 - val_acc: 0.5380\n",
      "Epoch 4/150\n",
      "57/57 [==============================] - 0s 4ms/step - loss: 0.1920 - acc: 0.5418 - val_loss: 0.1779 - val_acc: 0.5863\n",
      "Epoch 5/150\n",
      "57/57 [==============================] - 0s 4ms/step - loss: 0.1818 - acc: 0.5682 - val_loss: 0.1677 - val_acc: 0.6067\n",
      "Epoch 6/150\n",
      "57/57 [==============================] - 0s 4ms/step - loss: 0.1725 - acc: 0.5967 - val_loss: 0.1576 - val_acc: 0.6252\n",
      "Epoch 7/150\n",
      "57/57 [==============================] - 0s 4ms/step - loss: 0.1636 - acc: 0.6238 - val_loss: 0.1475 - val_acc: 0.6456\n",
      "Epoch 8/150\n",
      "57/57 [==============================] - 0s 4ms/step - loss: 0.1553 - acc: 0.6456 - val_loss: 0.1408 - val_acc: 0.6648\n",
      "Epoch 9/150\n",
      "57/57 [==============================] - 0s 4ms/step - loss: 0.1497 - acc: 0.6638 - val_loss: 0.1360 - val_acc: 0.6759\n",
      "Epoch 10/150\n",
      "57/57 [==============================] - 0s 5ms/step - loss: 0.1437 - acc: 0.6786 - val_loss: 0.1319 - val_acc: 0.6933\n",
      "Epoch 11/150\n",
      "57/57 [==============================] - 0s 4ms/step - loss: 0.1376 - acc: 0.6944 - val_loss: 0.1269 - val_acc: 0.7081\n",
      "Epoch 12/150\n",
      "57/57 [==============================] - 0s 5ms/step - loss: 0.1327 - acc: 0.7094 - val_loss: 0.1234 - val_acc: 0.7112\n",
      "Epoch 13/150\n",
      "57/57 [==============================] - 0s 5ms/step - loss: 0.1296 - acc: 0.7157 - val_loss: 0.1200 - val_acc: 0.7297\n",
      "Epoch 14/150\n",
      "57/57 [==============================] - 0s 4ms/step - loss: 0.1263 - acc: 0.7250 - val_loss: 0.1166 - val_acc: 0.7328\n",
      "Epoch 15/150\n",
      "57/57 [==============================] - 0s 5ms/step - loss: 0.1222 - acc: 0.7360 - val_loss: 0.1164 - val_acc: 0.7310\n",
      "Epoch 16/150\n",
      "57/57 [==============================] - 0s 6ms/step - loss: 0.1202 - acc: 0.7402 - val_loss: 0.1142 - val_acc: 0.7452\n",
      "Epoch 17/150\n",
      "57/57 [==============================] - 0s 6ms/step - loss: 0.1179 - acc: 0.7468 - val_loss: 0.1122 - val_acc: 0.7495\n",
      "Epoch 18/150\n",
      "57/57 [==============================] - 0s 8ms/step - loss: 0.1155 - acc: 0.7554 - val_loss: 0.1098 - val_acc: 0.7557\n",
      "Epoch 19/150\n",
      "57/57 [==============================] - 0s 7ms/step - loss: 0.1137 - acc: 0.7593 - val_loss: 0.1093 - val_acc: 0.7607\n",
      "Epoch 20/150\n",
      "57/57 [==============================] - 0s 8ms/step - loss: 0.1115 - acc: 0.7659 - val_loss: 0.1063 - val_acc: 0.7737\n",
      "Epoch 21/150\n",
      "57/57 [==============================] - 1s 9ms/step - loss: 0.1081 - acc: 0.7723 - val_loss: 0.1052 - val_acc: 0.7749\n",
      "Epoch 22/150\n",
      "57/57 [==============================] - 0s 6ms/step - loss: 0.1073 - acc: 0.7765 - val_loss: 0.1029 - val_acc: 0.7873\n",
      "Epoch 23/150\n",
      "57/57 [==============================] - 0s 7ms/step - loss: 0.1062 - acc: 0.7795 - val_loss: 0.1024 - val_acc: 0.7829\n",
      "Epoch 24/150\n",
      "57/57 [==============================] - 0s 7ms/step - loss: 0.1047 - acc: 0.7822 - val_loss: 0.1005 - val_acc: 0.7897\n",
      "Epoch 25/150\n",
      "57/57 [==============================] - 1s 9ms/step - loss: 0.1033 - acc: 0.7877 - val_loss: 0.0991 - val_acc: 0.7922\n",
      "Epoch 26/150\n",
      "57/57 [==============================] - 0s 7ms/step - loss: 0.0998 - acc: 0.7978 - val_loss: 0.0973 - val_acc: 0.7996\n",
      "Epoch 27/150\n",
      "57/57 [==============================] - 0s 8ms/step - loss: 0.0991 - acc: 0.7984 - val_loss: 0.0972 - val_acc: 0.7996\n",
      "Epoch 28/150\n",
      "57/57 [==============================] - 0s 8ms/step - loss: 0.0970 - acc: 0.7988 - val_loss: 0.0966 - val_acc: 0.8040\n",
      "Epoch 29/150\n",
      "57/57 [==============================] - 0s 8ms/step - loss: 0.0958 - acc: 0.8051 - val_loss: 0.0969 - val_acc: 0.7959\n",
      "Epoch 30/150\n",
      "57/57 [==============================] - 0s 9ms/step - loss: 0.0955 - acc: 0.8046 - val_loss: 0.0960 - val_acc: 0.7984\n",
      "Epoch 31/150\n",
      "57/57 [==============================] - 0s 4ms/step - loss: 0.0936 - acc: 0.8088 - val_loss: 0.0941 - val_acc: 0.8015\n",
      "Epoch 32/150\n",
      "57/57 [==============================] - 1s 9ms/step - loss: 0.0906 - acc: 0.8187 - val_loss: 0.0940 - val_acc: 0.8046\n",
      "Epoch 33/150\n",
      "57/57 [==============================] - 0s 9ms/step - loss: 0.0932 - acc: 0.8101 - val_loss: 0.0943 - val_acc: 0.8009\n",
      "Epoch 34/150\n",
      "57/57 [==============================] - 0s 5ms/step - loss: 0.0896 - acc: 0.8180 - val_loss: 0.0942 - val_acc: 0.8058\n",
      "Epoch 35/150\n",
      "57/57 [==============================] - 0s 3ms/step - loss: 0.0888 - acc: 0.8238 - val_loss: 0.0921 - val_acc: 0.8021\n",
      "Epoch 36/150\n",
      "57/57 [==============================] - 0s 4ms/step - loss: 0.0872 - acc: 0.8246 - val_loss: 0.0897 - val_acc: 0.8126\n",
      "Epoch 37/150\n",
      "57/57 [==============================] - 0s 4ms/step - loss: 0.0857 - acc: 0.8285 - val_loss: 0.0894 - val_acc: 0.8139\n",
      "Epoch 38/150\n",
      "57/57 [==============================] - 0s 3ms/step - loss: 0.0866 - acc: 0.8261 - val_loss: 0.0888 - val_acc: 0.8163\n",
      "Epoch 39/150\n",
      "57/57 [==============================] - 0s 5ms/step - loss: 0.0855 - acc: 0.8303 - val_loss: 0.0887 - val_acc: 0.8108\n",
      "Epoch 40/150\n",
      "57/57 [==============================] - 0s 4ms/step - loss: 0.0836 - acc: 0.8312 - val_loss: 0.0884 - val_acc: 0.8108\n",
      "Epoch 41/150\n",
      "57/57 [==============================] - 0s 4ms/step - loss: 0.0817 - acc: 0.8398 - val_loss: 0.0886 - val_acc: 0.8151\n",
      "Epoch 42/150\n",
      "57/57 [==============================] - 0s 4ms/step - loss: 0.0824 - acc: 0.8374 - val_loss: 0.0882 - val_acc: 0.8101\n",
      "Epoch 43/150\n",
      "57/57 [==============================] - 0s 3ms/step - loss: 0.0819 - acc: 0.8369 - val_loss: 0.0879 - val_acc: 0.8151\n",
      "Epoch 44/150\n",
      "57/57 [==============================] - 0s 4ms/step - loss: 0.0804 - acc: 0.8424 - val_loss: 0.0868 - val_acc: 0.8176\n",
      "Epoch 45/150\n",
      "57/57 [==============================] - 0s 4ms/step - loss: 0.0801 - acc: 0.8392 - val_loss: 0.0868 - val_acc: 0.8225\n",
      "Epoch 46/150\n",
      "57/57 [==============================] - 0s 4ms/step - loss: 0.0802 - acc: 0.8421 - val_loss: 0.0870 - val_acc: 0.8244\n",
      "Epoch 47/150\n",
      "57/57 [==============================] - 0s 3ms/step - loss: 0.0800 - acc: 0.8429 - val_loss: 0.0889 - val_acc: 0.8157\n",
      "Epoch 48/150\n",
      "57/57 [==============================] - 0s 4ms/step - loss: 0.0801 - acc: 0.8422 - val_loss: 0.0885 - val_acc: 0.8176\n",
      "Epoch 49/150\n",
      "57/57 [==============================] - 0s 5ms/step - loss: 0.0786 - acc: 0.8479 - val_loss: 0.0864 - val_acc: 0.8275\n",
      "Epoch 50/150\n",
      "57/57 [==============================] - 0s 5ms/step - loss: 0.0778 - acc: 0.8455 - val_loss: 0.0870 - val_acc: 0.8244\n",
      "Epoch 51/150\n",
      "57/57 [==============================] - 0s 4ms/step - loss: 0.0763 - acc: 0.8497 - val_loss: 0.0861 - val_acc: 0.8213\n",
      "Epoch 52/150\n",
      "57/57 [==============================] - 0s 4ms/step - loss: 0.0775 - acc: 0.8475 - val_loss: 0.0851 - val_acc: 0.8299\n",
      "Epoch 53/150\n",
      "57/57 [==============================] - 0s 3ms/step - loss: 0.0741 - acc: 0.8549 - val_loss: 0.0869 - val_acc: 0.8250\n",
      "Epoch 54/150\n",
      "57/57 [==============================] - 0s 4ms/step - loss: 0.0754 - acc: 0.8514 - val_loss: 0.0868 - val_acc: 0.8213\n",
      "Epoch 55/150\n",
      "57/57 [==============================] - 0s 4ms/step - loss: 0.0727 - acc: 0.8572 - val_loss: 0.0860 - val_acc: 0.8200\n",
      "Epoch 56/150\n",
      "57/57 [==============================] - 0s 3ms/step - loss: 0.0732 - acc: 0.8600 - val_loss: 0.0844 - val_acc: 0.8268\n",
      "Epoch 57/150\n",
      "57/57 [==============================] - 0s 4ms/step - loss: 0.0746 - acc: 0.8544 - val_loss: 0.0847 - val_acc: 0.8219\n",
      "Epoch 58/150\n",
      "57/57 [==============================] - 0s 3ms/step - loss: 0.0728 - acc: 0.8569 - val_loss: 0.0844 - val_acc: 0.8237\n",
      "Epoch 59/150\n",
      "57/57 [==============================] - 0s 4ms/step - loss: 0.0712 - acc: 0.8594 - val_loss: 0.0839 - val_acc: 0.8219\n",
      "Epoch 60/150\n",
      "57/57 [==============================] - 0s 4ms/step - loss: 0.0721 - acc: 0.8605 - val_loss: 0.0835 - val_acc: 0.8262\n",
      "Epoch 61/150\n",
      "57/57 [==============================] - 0s 3ms/step - loss: 0.0711 - acc: 0.8642 - val_loss: 0.0846 - val_acc: 0.8256\n",
      "Epoch 62/150\n",
      "57/57 [==============================] - 0s 4ms/step - loss: 0.0708 - acc: 0.8635 - val_loss: 0.0822 - val_acc: 0.8268\n",
      "Epoch 63/150\n",
      "57/57 [==============================] - 0s 3ms/step - loss: 0.0692 - acc: 0.8653 - val_loss: 0.0853 - val_acc: 0.8250\n",
      "Epoch 64/150\n",
      "57/57 [==============================] - 0s 3ms/step - loss: 0.0717 - acc: 0.8607 - val_loss: 0.0855 - val_acc: 0.8250\n",
      "Epoch 65/150\n",
      "57/57 [==============================] - 0s 4ms/step - loss: 0.0704 - acc: 0.8644 - val_loss: 0.0848 - val_acc: 0.8250\n",
      "Epoch 66/150\n",
      "57/57 [==============================] - 0s 4ms/step - loss: 0.0701 - acc: 0.8663 - val_loss: 0.0828 - val_acc: 0.8324\n",
      "Epoch 67/150\n",
      "57/57 [==============================] - 0s 5ms/step - loss: 0.0685 - acc: 0.8682 - val_loss: 0.0838 - val_acc: 0.8318\n",
      "Epoch 68/150\n",
      "57/57 [==============================] - 0s 5ms/step - loss: 0.0675 - acc: 0.8697 - val_loss: 0.0836 - val_acc: 0.8312\n",
      "Epoch 69/150\n",
      "57/57 [==============================] - 0s 4ms/step - loss: 0.0677 - acc: 0.8694 - val_loss: 0.0826 - val_acc: 0.8343\n",
      "Epoch 70/150\n",
      "57/57 [==============================] - 0s 3ms/step - loss: 0.0681 - acc: 0.8693 - val_loss: 0.0815 - val_acc: 0.8380\n",
      "Epoch 71/150\n",
      "57/57 [==============================] - 0s 3ms/step - loss: 0.0667 - acc: 0.8723 - val_loss: 0.0830 - val_acc: 0.8367\n",
      "Epoch 72/150\n",
      "57/57 [==============================] - 0s 4ms/step - loss: 0.0682 - acc: 0.8708 - val_loss: 0.0836 - val_acc: 0.8386\n",
      "Epoch 73/150\n",
      "57/57 [==============================] - 0s 3ms/step - loss: 0.0672 - acc: 0.8708 - val_loss: 0.0837 - val_acc: 0.8330\n",
      "Epoch 74/150\n",
      "57/57 [==============================] - 0s 6ms/step - loss: 0.0675 - acc: 0.8712 - val_loss: 0.0835 - val_acc: 0.8374\n",
      "Epoch 75/150\n",
      "57/57 [==============================] - 0s 5ms/step - loss: 0.0658 - acc: 0.8756 - val_loss: 0.0824 - val_acc: 0.8392\n",
      "Epoch 76/150\n",
      "57/57 [==============================] - 0s 4ms/step - loss: 0.0656 - acc: 0.8739 - val_loss: 0.0834 - val_acc: 0.8349\n",
      "Epoch 77/150\n",
      "57/57 [==============================] - 0s 4ms/step - loss: 0.0652 - acc: 0.8750 - val_loss: 0.0826 - val_acc: 0.8361\n",
      "Epoch 78/150\n",
      "57/57 [==============================] - 0s 7ms/step - loss: 0.0652 - acc: 0.8756 - val_loss: 0.0803 - val_acc: 0.8417\n",
      "Epoch 79/150\n",
      "57/57 [==============================] - 0s 4ms/step - loss: 0.0639 - acc: 0.8782 - val_loss: 0.0806 - val_acc: 0.8404\n",
      "Epoch 80/150\n",
      "57/57 [==============================] - 0s 4ms/step - loss: 0.0659 - acc: 0.8747 - val_loss: 0.0830 - val_acc: 0.8374\n",
      "Epoch 81/150\n",
      "57/57 [==============================] - 0s 4ms/step - loss: 0.0655 - acc: 0.8750 - val_loss: 0.0804 - val_acc: 0.8423\n",
      "Epoch 82/150\n",
      "57/57 [==============================] - 0s 6ms/step - loss: 0.0640 - acc: 0.8774 - val_loss: 0.0815 - val_acc: 0.8404\n",
      "Epoch 83/150\n",
      "57/57 [==============================] - 0s 3ms/step - loss: 0.0646 - acc: 0.8755 - val_loss: 0.0827 - val_acc: 0.8398\n",
      "Epoch 84/150\n",
      "57/57 [==============================] - 0s 4ms/step - loss: 0.0631 - acc: 0.8809 - val_loss: 0.0801 - val_acc: 0.8429\n",
      "Epoch 85/150\n",
      "57/57 [==============================] - 0s 4ms/step - loss: 0.0627 - acc: 0.8801 - val_loss: 0.0809 - val_acc: 0.8404\n",
      "Epoch 86/150\n",
      "57/57 [==============================] - 0s 6ms/step - loss: 0.0633 - acc: 0.8782 - val_loss: 0.0822 - val_acc: 0.8398\n",
      "Epoch 87/150\n",
      "57/57 [==============================] - 0s 5ms/step - loss: 0.0632 - acc: 0.8789 - val_loss: 0.0818 - val_acc: 0.8404\n",
      "Epoch 88/150\n",
      "57/57 [==============================] - 0s 3ms/step - loss: 0.0627 - acc: 0.8807 - val_loss: 0.0830 - val_acc: 0.8380\n",
      "Epoch 89/150\n",
      "57/57 [==============================] - 0s 4ms/step - loss: 0.0616 - acc: 0.8828 - val_loss: 0.0816 - val_acc: 0.8417\n",
      "Epoch 90/150\n",
      "57/57 [==============================] - 0s 4ms/step - loss: 0.0610 - acc: 0.8851 - val_loss: 0.0812 - val_acc: 0.8448\n",
      "Epoch 91/150\n",
      "57/57 [==============================] - 0s 6ms/step - loss: 0.0618 - acc: 0.8834 - val_loss: 0.0812 - val_acc: 0.8448\n",
      "Epoch 92/150\n",
      "57/57 [==============================] - 0s 4ms/step - loss: 0.0625 - acc: 0.8814 - val_loss: 0.0806 - val_acc: 0.8460\n",
      "Epoch 93/150\n",
      "57/57 [==============================] - 0s 4ms/step - loss: 0.0617 - acc: 0.8823 - val_loss: 0.0807 - val_acc: 0.8448\n",
      "Epoch 94/150\n",
      "57/57 [==============================] - 0s 4ms/step - loss: 0.0618 - acc: 0.8803 - val_loss: 0.0800 - val_acc: 0.8472\n",
      "Epoch 95/150\n",
      "57/57 [==============================] - 0s 4ms/step - loss: 0.0608 - acc: 0.8849 - val_loss: 0.0823 - val_acc: 0.8398\n",
      "Epoch 96/150\n",
      "57/57 [==============================] - 0s 4ms/step - loss: 0.0605 - acc: 0.8850 - val_loss: 0.0811 - val_acc: 0.8472\n",
      "Epoch 97/150\n",
      "57/57 [==============================] - 0s 4ms/step - loss: 0.0617 - acc: 0.8826 - val_loss: 0.0830 - val_acc: 0.8423\n",
      "Epoch 98/150\n",
      "57/57 [==============================] - 0s 3ms/step - loss: 0.0596 - acc: 0.8872 - val_loss: 0.0826 - val_acc: 0.8448\n",
      "Epoch 99/150\n",
      "57/57 [==============================] - 0s 4ms/step - loss: 0.0603 - acc: 0.8864 - val_loss: 0.0844 - val_acc: 0.8411\n",
      "Epoch 100/150\n",
      "57/57 [==============================] - 0s 3ms/step - loss: 0.0610 - acc: 0.8862 - val_loss: 0.0828 - val_acc: 0.8448\n",
      "Epoch 101/150\n",
      "57/57 [==============================] - 0s 3ms/step - loss: 0.0613 - acc: 0.8848 - val_loss: 0.0809 - val_acc: 0.8448\n",
      "Epoch 102/150\n",
      "57/57 [==============================] - 0s 4ms/step - loss: 0.0608 - acc: 0.8864 - val_loss: 0.0818 - val_acc: 0.8448\n",
      "Epoch 103/150\n",
      "57/57 [==============================] - 0s 4ms/step - loss: 0.0605 - acc: 0.8853 - val_loss: 0.0819 - val_acc: 0.8429\n",
      "Epoch 104/150\n",
      "57/57 [==============================] - 0s 4ms/step - loss: 0.0595 - acc: 0.8888 - val_loss: 0.0816 - val_acc: 0.8429\n",
      "Epoch 105/150\n",
      "57/57 [==============================] - 0s 4ms/step - loss: 0.0588 - acc: 0.8884 - val_loss: 0.0834 - val_acc: 0.8386\n",
      "Epoch 106/150\n",
      "57/57 [==============================] - 0s 3ms/step - loss: 0.0579 - acc: 0.8921 - val_loss: 0.0858 - val_acc: 0.8417\n",
      "Epoch 107/150\n",
      "57/57 [==============================] - 0s 4ms/step - loss: 0.0594 - acc: 0.8877 - val_loss: 0.0819 - val_acc: 0.8435\n",
      "Epoch 108/150\n",
      "57/57 [==============================] - 0s 3ms/step - loss: 0.0586 - acc: 0.8904 - val_loss: 0.0847 - val_acc: 0.8435\n",
      "Epoch 109/150\n",
      "57/57 [==============================] - 0s 4ms/step - loss: 0.0592 - acc: 0.8891 - val_loss: 0.0820 - val_acc: 0.8454\n",
      "Epoch 110/150\n",
      "57/57 [==============================] - 0s 4ms/step - loss: 0.0575 - acc: 0.8906 - val_loss: 0.0807 - val_acc: 0.8454\n",
      "Epoch 111/150\n",
      "57/57 [==============================] - 0s 4ms/step - loss: 0.0573 - acc: 0.8921 - val_loss: 0.0828 - val_acc: 0.8423\n",
      "Epoch 112/150\n",
      "57/57 [==============================] - 0s 4ms/step - loss: 0.0584 - acc: 0.8893 - val_loss: 0.0835 - val_acc: 0.8404\n",
      "Epoch 113/150\n",
      "57/57 [==============================] - 0s 4ms/step - loss: 0.0587 - acc: 0.8904 - val_loss: 0.0825 - val_acc: 0.8429\n",
      "Epoch 114/150\n",
      "57/57 [==============================] - 0s 6ms/step - loss: 0.0586 - acc: 0.8897 - val_loss: 0.0838 - val_acc: 0.8392\n",
      "Epoch 115/150\n",
      "57/57 [==============================] - 0s 5ms/step - loss: 0.0580 - acc: 0.8907 - val_loss: 0.0815 - val_acc: 0.8435\n",
      "Epoch 116/150\n",
      "57/57 [==============================] - 0s 8ms/step - loss: 0.0593 - acc: 0.8899 - val_loss: 0.0815 - val_acc: 0.8435\n",
      "Epoch 117/150\n",
      "57/57 [==============================] - 0s 4ms/step - loss: 0.0591 - acc: 0.8896 - val_loss: 0.0802 - val_acc: 0.8411\n",
      "Epoch 118/150\n",
      "57/57 [==============================] - 0s 4ms/step - loss: 0.0589 - acc: 0.8889 - val_loss: 0.0811 - val_acc: 0.8442\n",
      "Epoch 119/150\n",
      "57/57 [==============================] - 0s 3ms/step - loss: 0.0575 - acc: 0.8898 - val_loss: 0.0802 - val_acc: 0.8491\n",
      "Epoch 120/150\n",
      "57/57 [==============================] - 0s 3ms/step - loss: 0.0571 - acc: 0.8926 - val_loss: 0.0804 - val_acc: 0.8472\n",
      "Epoch 121/150\n",
      "57/57 [==============================] - 0s 3ms/step - loss: 0.0557 - acc: 0.8945 - val_loss: 0.0789 - val_acc: 0.8516\n",
      "Epoch 122/150\n",
      "57/57 [==============================] - 0s 4ms/step - loss: 0.0573 - acc: 0.8932 - val_loss: 0.0793 - val_acc: 0.8503\n",
      "Epoch 123/150\n",
      "57/57 [==============================] - 0s 3ms/step - loss: 0.0562 - acc: 0.8952 - val_loss: 0.0771 - val_acc: 0.8553\n",
      "Epoch 124/150\n",
      "57/57 [==============================] - 0s 3ms/step - loss: 0.0556 - acc: 0.8960 - val_loss: 0.0773 - val_acc: 0.8547\n"
     ]
    },
    {
     "name": "stdout",
     "output_type": "stream",
     "text": [
      "Epoch 125/150\n",
      "57/57 [==============================] - 0s 3ms/step - loss: 0.0567 - acc: 0.8917 - val_loss: 0.0798 - val_acc: 0.8485\n",
      "Epoch 126/150\n",
      "57/57 [==============================] - 0s 4ms/step - loss: 0.0565 - acc: 0.8939 - val_loss: 0.0790 - val_acc: 0.8497\n",
      "Epoch 127/150\n",
      "57/57 [==============================] - 0s 6ms/step - loss: 0.0560 - acc: 0.8948 - val_loss: 0.0797 - val_acc: 0.8510\n",
      "Epoch 128/150\n",
      "57/57 [==============================] - 0s 4ms/step - loss: 0.0552 - acc: 0.8959 - val_loss: 0.0788 - val_acc: 0.8510\n",
      "Epoch 129/150\n",
      "57/57 [==============================] - 0s 4ms/step - loss: 0.0550 - acc: 0.8956 - val_loss: 0.0797 - val_acc: 0.8485\n",
      "Epoch 130/150\n",
      "57/57 [==============================] - 0s 5ms/step - loss: 0.0576 - acc: 0.8902 - val_loss: 0.0792 - val_acc: 0.8460\n",
      "Epoch 131/150\n",
      "57/57 [==============================] - 0s 4ms/step - loss: 0.0568 - acc: 0.8946 - val_loss: 0.0804 - val_acc: 0.8472\n",
      "Epoch 132/150\n",
      "57/57 [==============================] - 0s 4ms/step - loss: 0.0553 - acc: 0.8967 - val_loss: 0.0786 - val_acc: 0.8510\n",
      "Epoch 133/150\n",
      "57/57 [==============================] - 0s 4ms/step - loss: 0.0556 - acc: 0.8950 - val_loss: 0.0785 - val_acc: 0.8516\n",
      "Epoch 134/150\n",
      "57/57 [==============================] - 0s 4ms/step - loss: 0.0558 - acc: 0.8959 - val_loss: 0.0785 - val_acc: 0.8522\n",
      "Epoch 135/150\n",
      "57/57 [==============================] - 0s 3ms/step - loss: 0.0534 - acc: 0.8988 - val_loss: 0.0783 - val_acc: 0.8497\n",
      "Epoch 136/150\n",
      "57/57 [==============================] - 0s 4ms/step - loss: 0.0548 - acc: 0.8967 - val_loss: 0.0788 - val_acc: 0.8528\n",
      "Epoch 137/150\n",
      "57/57 [==============================] - 0s 4ms/step - loss: 0.0532 - acc: 0.9015 - val_loss: 0.0788 - val_acc: 0.8516\n",
      "Epoch 138/150\n",
      "57/57 [==============================] - 0s 4ms/step - loss: 0.0569 - acc: 0.8925 - val_loss: 0.0789 - val_acc: 0.8510\n",
      "Epoch 139/150\n",
      "57/57 [==============================] - 0s 4ms/step - loss: 0.0550 - acc: 0.8979 - val_loss: 0.0802 - val_acc: 0.8522\n",
      "Epoch 140/150\n",
      "57/57 [==============================] - 0s 4ms/step - loss: 0.0542 - acc: 0.8998 - val_loss: 0.0789 - val_acc: 0.8503\n",
      "Epoch 141/150\n",
      "57/57 [==============================] - 0s 3ms/step - loss: 0.0536 - acc: 0.8972 - val_loss: 0.0795 - val_acc: 0.8466\n",
      "Epoch 142/150\n",
      "57/57 [==============================] - 0s 4ms/step - loss: 0.0541 - acc: 0.8981 - val_loss: 0.0787 - val_acc: 0.8541\n",
      "Epoch 143/150\n",
      "57/57 [==============================] - 0s 3ms/step - loss: 0.0545 - acc: 0.8987 - val_loss: 0.0794 - val_acc: 0.8516\n",
      "Epoch 144/150\n",
      "57/57 [==============================] - 0s 4ms/step - loss: 0.0548 - acc: 0.8965 - val_loss: 0.0793 - val_acc: 0.8510\n",
      "Epoch 145/150\n",
      "57/57 [==============================] - 0s 3ms/step - loss: 0.0545 - acc: 0.8973 - val_loss: 0.0798 - val_acc: 0.8516\n",
      "Epoch 146/150\n",
      "57/57 [==============================] - 0s 3ms/step - loss: 0.0549 - acc: 0.8983 - val_loss: 0.0804 - val_acc: 0.8479\n",
      "Epoch 147/150\n",
      "57/57 [==============================] - 0s 3ms/step - loss: 0.0552 - acc: 0.8967 - val_loss: 0.0803 - val_acc: 0.8485\n",
      "Epoch 148/150\n",
      "57/57 [==============================] - 0s 3ms/step - loss: 0.0541 - acc: 0.9018 - val_loss: 0.0802 - val_acc: 0.8528\n",
      "Epoch 149/150\n",
      "57/57 [==============================] - 0s 3ms/step - loss: 0.0535 - acc: 0.8987 - val_loss: 0.0818 - val_acc: 0.8454\n",
      "Epoch 150/150\n",
      "57/57 [==============================] - 0s 3ms/step - loss: 0.0539 - acc: 0.8994 - val_loss: 0.0803 - val_acc: 0.8497\n"
     ]
    }
   ],
   "source": [
    "model_4_val = model_4.fit(X_train_transformed, y_train_lb, epochs = 150,\n",
    "                         batch_size = 256, validation_split=.1,)"
   ]
  },
  {
   "cell_type": "code",
   "execution_count": 179,
   "metadata": {},
   "outputs": [
    {
     "name": "stdout",
     "output_type": "stream",
     "text": [
      "11/11 [==============================] - 0s 2ms/step - loss: 0.1447 - acc: 0.7435\n"
     ]
    },
    {
     "data": {
      "text/plain": [
       "[0.1447392702102661, 0.7434750199317932]"
      ]
     },
     "execution_count": 179,
     "metadata": {},
     "output_type": "execute_result"
    }
   ],
   "source": [
    "model_4.evaluate(X_test_transformed, y_test_lb, batch_size=128)\n",
    "#highest accuracy score yet"
   ]
  },
  {
   "cell_type": "code",
   "execution_count": 273,
   "metadata": {},
   "outputs": [
    {
     "data": {
      "image/png": "[encoded data removed]",
      "text/plain": [
       "<Figure size 576x576 with 2 Axes>"
      ]
     },
     "metadata": {
      "needs_background": "light"
     },
     "output_type": "display_data"
    }
   ],
   "source": [
    "import itertools\n",
    "def plot_confusion_matrix(cm, class_names):\n",
    "    \"\"\"\n",
    "    Returns a matplotlib figure containing the plotted confusion matrix.\n",
    "    \n",
    "    Args:\n",
    "       cm (array, shape = [n, n]): a confusion matrix of integer classes\n",
    "       class_names (array, shape = [n]): String names of the integer classes\n",
    "    \"\"\"\n",
    "    \n",
    "    figure = plt.figure(figsize=(8, 8))\n",
    "    plt.imshow(cm, interpolation='nearest', cmap=plt.cm.Blues)\n",
    "    plt.title(\"Confusion matrix\")\n",
    "    plt.colorbar()\n",
    "    tick_marks = np.arange(len(class_names))\n",
    "    plt.xticks(tick_marks, class_names, rotation=45)\n",
    "    plt.yticks(tick_marks, class_names)\n",
    "    \n",
    "    # Normalize the confusion matrix.\n",
    "    cm = np.around(cm.astype('float') / cm.sum(axis=1)[:, np.newaxis], decimals=2)\n",
    "    \n",
    "    # Use white text if squares are dark; otherwise black.\n",
    "    threshold = cm.max() / 2.\n",
    "    \n",
    "    for i, j in itertools.product(range(cm.shape[0]), range(cm.shape[1])):\n",
    "        color = \"white\" if cm[i, j] > threshold else \"black\"\n",
    "        plt.text(j, i, cm[i, j], horizontalalignment=\"center\", color=color)\n",
    "        \n",
    "    plt.tight_layout()\n",
    "    plt.ylabel('True label')\n",
    "    plt.xlabel('Predicted label')\n",
    "plot_confusion_matrix(matrix, [\"Negative\", \"Neutral\", \"Positive\"])\n",
    "\n",
    "#creating a prettier confusion matrix using a function already premade on the sklearn website"
   ]
  },
  {
   "cell_type": "code",
   "execution_count": 182,
   "metadata": {},
   "outputs": [
    {
     "data": {
      "text/plain": [
       "array([[ 31,  35,  19],\n",
       "       [ 16, 737,  56],\n",
       "       [  6, 212, 229]])"
      ]
     },
     "execution_count": 182,
     "metadata": {},
     "output_type": "execute_result"
    }
   ],
   "source": [
    "from sklearn.metrics import confusion_matrix\n",
    "pred = model_4.predict(X_test_transformed).argmax(axis = 1)\n",
    "y_test_labels = y_test_lb.argmax(axis = 1)\n",
    "matrix = confusion_matrix(y_test_labels, pred)\n",
    "matrix\n",
    "#less pretty confusion matrix"
   ]
  },
  {
   "cell_type": "code",
   "execution_count": 68,
   "metadata": {},
   "outputs": [
    {
     "data": {
      "text/html": [
       "<div>\n",
       "<style scoped>\n",
       "    .dataframe tbody tr th:only-of-type {\n",
       "        vertical-align: middle;\n",
       "    }\n",
       "\n",
       "    .dataframe tbody tr th {\n",
       "        vertical-align: top;\n",
       "    }\n",
       "\n",
       "    .dataframe thead th {\n",
       "        text-align: right;\n",
       "    }\n",
       "</style>\n",
       "<table border=\"1\" class=\"dataframe\">\n",
       "  <thead>\n",
       "    <tr style=\"text-align: right;\">\n",
       "      <th></th>\n",
       "      <th>Cleaned_Tweet</th>\n",
       "      <th>Negative</th>\n",
       "      <th>Neutral</th>\n",
       "      <th>Positive</th>\n",
       "      <th>Label</th>\n",
       "    </tr>\n",
       "  </thead>\n",
       "  <tbody>\n",
       "    <tr>\n",
       "      <th>1131</th>\n",
       "      <td>anyone show iphone charger need tweet jokes be...</td>\n",
       "      <td>2.219859e-11</td>\n",
       "      <td>1.000000</td>\n",
       "      <td>3.020135e-21</td>\n",
       "      <td>No emotion toward brand or product</td>\n",
       "    </tr>\n",
       "    <tr>\n",
       "      <th>3574</th>\n",
       "      <td>anti social irl typing ipad social tv session ...</td>\n",
       "      <td>8.462668e-23</td>\n",
       "      <td>0.992573</td>\n",
       "      <td>7.427268e-03</td>\n",
       "      <td>No emotion toward brand or product</td>\n",
       "    </tr>\n",
       "    <tr>\n",
       "      <th>1432</th>\n",
       "      <td>toptweets rumor apple opening temporary store ...</td>\n",
       "      <td>2.529701e-07</td>\n",
       "      <td>0.811959</td>\n",
       "      <td>1.880405e-01</td>\n",
       "      <td>No emotion toward brand or product</td>\n",
       "    </tr>\n",
       "    <tr>\n",
       "      <th>2310</th>\n",
       "      <td>awkward jc penneys question asked marissa maye...</td>\n",
       "      <td>9.296409e-25</td>\n",
       "      <td>1.000000</td>\n",
       "      <td>1.156578e-15</td>\n",
       "      <td>No emotion toward brand or product</td>\n",
       "    </tr>\n",
       "    <tr>\n",
       "      <th>5141</th>\n",
       "      <td>new ipad apps speech therapy communication sho...</td>\n",
       "      <td>8.593644e-05</td>\n",
       "      <td>0.533523</td>\n",
       "      <td>4.663908e-01</td>\n",
       "      <td>No emotion toward brand or product</td>\n",
       "    </tr>\n",
       "    <tr>\n",
       "      <th>...</th>\n",
       "      <td>...</td>\n",
       "      <td>...</td>\n",
       "      <td>...</td>\n",
       "      <td>...</td>\n",
       "      <td>...</td>\n",
       "    </tr>\n",
       "    <tr>\n",
       "      <th>3036</th>\n",
       "      <td>mistakes made building netflix iphone sxsw</td>\n",
       "      <td>9.274502e-05</td>\n",
       "      <td>0.997719</td>\n",
       "      <td>2.188190e-03</td>\n",
       "      <td>No emotion toward brand or product</td>\n",
       "    </tr>\n",
       "    <tr>\n",
       "      <th>55</th>\n",
       "      <td>talking google effort allow users open systems</td>\n",
       "      <td>4.268953e-18</td>\n",
       "      <td>1.000000</td>\n",
       "      <td>1.189560e-08</td>\n",
       "      <td>Positive emotion</td>\n",
       "    </tr>\n",
       "    <tr>\n",
       "      <th>1072</th>\n",
       "      <td>current screen browser upload application</td>\n",
       "      <td>8.512523e-12</td>\n",
       "      <td>0.975335</td>\n",
       "      <td>2.466536e-02</td>\n",
       "      <td>No emotion toward brand or product</td>\n",
       "    </tr>\n",
       "    <tr>\n",
       "      <th>3194</th>\n",
       "      <td>friend told talking smart bikes check google p...</td>\n",
       "      <td>5.758184e-14</td>\n",
       "      <td>0.999998</td>\n",
       "      <td>2.038201e-06</td>\n",
       "      <td>No emotion toward brand or product</td>\n",
       "    </tr>\n",
       "    <tr>\n",
       "      <th>769</th>\n",
       "      <td>google launch major new social network called ...</td>\n",
       "      <td>9.957773e-14</td>\n",
       "      <td>0.999876</td>\n",
       "      <td>1.242108e-04</td>\n",
       "      <td>Positive emotion</td>\n",
       "    </tr>\n",
       "  </tbody>\n",
       "</table>\n",
       "<p>1341 rows × 5 columns</p>\n",
       "</div>"
      ],
      "text/plain": [
       "                                          Cleaned_Tweet      Negative  \\\n",
       "1131  anyone show iphone charger need tweet jokes be...  2.219859e-11   \n",
       "3574  anti social irl typing ipad social tv session ...  8.462668e-23   \n",
       "1432  toptweets rumor apple opening temporary store ...  2.529701e-07   \n",
       "2310  awkward jc penneys question asked marissa maye...  9.296409e-25   \n",
       "5141  new ipad apps speech therapy communication sho...  8.593644e-05   \n",
       "...                                                 ...           ...   \n",
       "3036         mistakes made building netflix iphone sxsw  9.274502e-05   \n",
       "55       talking google effort allow users open systems  4.268953e-18   \n",
       "1072          current screen browser upload application  8.512523e-12   \n",
       "3194  friend told talking smart bikes check google p...  5.758184e-14   \n",
       "769   google launch major new social network called ...  9.957773e-14   \n",
       "\n",
       "       Neutral      Positive                               Label  \n",
       "1131  1.000000  3.020135e-21  No emotion toward brand or product  \n",
       "3574  0.992573  7.427268e-03  No emotion toward brand or product  \n",
       "1432  0.811959  1.880405e-01  No emotion toward brand or product  \n",
       "2310  1.000000  1.156578e-15  No emotion toward brand or product  \n",
       "5141  0.533523  4.663908e-01  No emotion toward brand or product  \n",
       "...        ...           ...                                 ...  \n",
       "3036  0.997719  2.188190e-03  No emotion toward brand or product  \n",
       "55    1.000000  1.189560e-08                    Positive emotion  \n",
       "1072  0.975335  2.466536e-02  No emotion toward brand or product  \n",
       "3194  0.999998  2.038201e-06  No emotion toward brand or product  \n",
       "769   0.999876  1.242108e-04                    Positive emotion  \n",
       "\n",
       "[1341 rows x 5 columns]"
      ]
     },
     "execution_count": 68,
     "metadata": {},
     "output_type": "execute_result"
    }
   ],
   "source": [
    "pred = model_4.predict(X_test_transformed)\n",
    "pred[model_4.predict(X_test_transformed).argmax(axis = 1)==0]\n",
    "pred_df = pd.DataFrame(X_test)\n",
    "pred_df[\"Negative\"] = 0\n",
    "pred_df[\"Neutral\"] = 0\n",
    "pred_df[\"Positive\"] = 0\n",
    "pred_df[[\"Negative\", \"Neutral\", \"Positive\"]] = pred\n",
    "pred_df[\"Label\"] = y_test\n",
    "pred_df\n",
    "# checking the backbone of the neural network/how it is making predictions"
   ]
  },
  {
   "cell_type": "code",
   "execution_count": 70,
   "metadata": {},
   "outputs": [
    {
     "data": {
      "text/html": [
       "<div>\n",
       "<style scoped>\n",
       "    .dataframe tbody tr th:only-of-type {\n",
       "        vertical-align: middle;\n",
       "    }\n",
       "\n",
       "    .dataframe tbody tr th {\n",
       "        vertical-align: top;\n",
       "    }\n",
       "\n",
       "    .dataframe thead th {\n",
       "        text-align: right;\n",
       "    }\n",
       "</style>\n",
       "<table border=\"1\" class=\"dataframe\">\n",
       "  <thead>\n",
       "    <tr style=\"text-align: right;\">\n",
       "      <th></th>\n",
       "      <th>Cleaned_Tweet</th>\n",
       "      <th>Negative</th>\n",
       "      <th>Neutral</th>\n",
       "      <th>Positive</th>\n",
       "      <th>Label</th>\n",
       "    </tr>\n",
       "  </thead>\n",
       "  <tbody>\n",
       "    <tr>\n",
       "      <th>6516</th>\n",
       "      <td>best thing heard weekend gave ipad money relie...</td>\n",
       "      <td>1.000000</td>\n",
       "      <td>1.310807e-27</td>\n",
       "      <td>0.000000e+00</td>\n",
       "      <td>No emotion toward brand or product</td>\n",
       "    </tr>\n",
       "    <tr>\n",
       "      <th>1613</th>\n",
       "      <td>new app store includes uberguide</td>\n",
       "      <td>0.390354</td>\n",
       "      <td>4.454145e-01</td>\n",
       "      <td>1.642320e-01</td>\n",
       "      <td>No emotion toward brand or product</td>\n",
       "    </tr>\n",
       "    <tr>\n",
       "      <th>2854</th>\n",
       "      <td>already seeing heavy ipad presence</td>\n",
       "      <td>0.400241</td>\n",
       "      <td>5.993559e-01</td>\n",
       "      <td>4.035910e-04</td>\n",
       "      <td>Positive emotion</td>\n",
       "    </tr>\n",
       "    <tr>\n",
       "      <th>3234</th>\n",
       "      <td>loving apple pop downtown office long last us ...</td>\n",
       "      <td>0.968841</td>\n",
       "      <td>1.158053e-02</td>\n",
       "      <td>1.957862e-02</td>\n",
       "      <td>Positive emotion</td>\n",
       "    </tr>\n",
       "    <tr>\n",
       "      <th>6518</th>\n",
       "      <td>best thing heard weekend gave ipad money relie...</td>\n",
       "      <td>1.000000</td>\n",
       "      <td>1.310807e-27</td>\n",
       "      <td>0.000000e+00</td>\n",
       "      <td>No emotion toward brand or product</td>\n",
       "    </tr>\n",
       "    <tr>\n",
       "      <th>5541</th>\n",
       "      <td>bad news update pop apple store ipads sure tom...</td>\n",
       "      <td>0.983071</td>\n",
       "      <td>1.692875e-02</td>\n",
       "      <td>1.472538e-13</td>\n",
       "      <td>No emotion toward brand or product</td>\n",
       "    </tr>\n",
       "    <tr>\n",
       "      <th>2184</th>\n",
       "      <td>iphone paul reubens</td>\n",
       "      <td>0.648009</td>\n",
       "      <td>3.074586e-01</td>\n",
       "      <td>4.453250e-02</td>\n",
       "      <td>No emotion toward brand or product</td>\n",
       "    </tr>\n",
       "    <tr>\n",
       "      <th>8249</th>\n",
       "      <td>ad jg buat iphone new app store includes uberg...</td>\n",
       "      <td>0.548064</td>\n",
       "      <td>2.527302e-01</td>\n",
       "      <td>1.992055e-01</td>\n",
       "      <td>No emotion toward brand or product</td>\n",
       "    </tr>\n",
       "    <tr>\n",
       "      <th>8206</th>\n",
       "      <td>hmmm bit weird tending google circle</td>\n",
       "      <td>0.505365</td>\n",
       "      <td>4.946353e-01</td>\n",
       "      <td>0.000000e+00</td>\n",
       "      <td>No emotion toward brand or product</td>\n",
       "    </tr>\n",
       "    <tr>\n",
       "      <th>7767</th>\n",
       "      <td>awesome best thing heard wknd gave ipad money ...</td>\n",
       "      <td>1.000000</td>\n",
       "      <td>4.305124e-12</td>\n",
       "      <td>0.000000e+00</td>\n",
       "      <td>No emotion toward brand or product</td>\n",
       "    </tr>\n",
       "    <tr>\n",
       "      <th>2884</th>\n",
       "      <td>googles melissa mayer speaks augmented reality...</td>\n",
       "      <td>0.365677</td>\n",
       "      <td>6.343230e-01</td>\n",
       "      <td>3.365153e-12</td>\n",
       "      <td>No emotion toward brand or product</td>\n",
       "    </tr>\n",
       "    <tr>\n",
       "      <th>1589</th>\n",
       "      <td>get go work yet trying days</td>\n",
       "      <td>0.222605</td>\n",
       "      <td>7.773939e-01</td>\n",
       "      <td>9.746472e-07</td>\n",
       "      <td>No emotion toward brand or product</td>\n",
       "    </tr>\n",
       "    <tr>\n",
       "      <th>8848</th>\n",
       "      <td>hipsters oversized earphones pluged new ipad m...</td>\n",
       "      <td>0.982777</td>\n",
       "      <td>5.453631e-06</td>\n",
       "      <td>1.721719e-02</td>\n",
       "      <td>No emotion toward brand or product</td>\n",
       "    </tr>\n",
       "    <tr>\n",
       "      <th>2053</th>\n",
       "      <td>watched staff temp store high five entire long...</td>\n",
       "      <td>1.000000</td>\n",
       "      <td>2.568984e-18</td>\n",
       "      <td>1.446300e-27</td>\n",
       "      <td>No emotion toward brand or product</td>\n",
       "    </tr>\n",
       "    <tr>\n",
       "      <th>4417</th>\n",
       "      <td>crowley cashmore think ipad minor step tell pe...</td>\n",
       "      <td>0.548064</td>\n",
       "      <td>2.527302e-01</td>\n",
       "      <td>1.992055e-01</td>\n",
       "      <td>Positive emotion</td>\n",
       "    </tr>\n",
       "    <tr>\n",
       "      <th>7642</th>\n",
       "      <td>epic one guy waiting line ipad austin sxsw</td>\n",
       "      <td>0.963351</td>\n",
       "      <td>3.664773e-02</td>\n",
       "      <td>1.556250e-06</td>\n",
       "      <td>No emotion toward brand or product</td>\n",
       "    </tr>\n",
       "  </tbody>\n",
       "</table>\n",
       "</div>"
      ],
      "text/plain": [
       "                                          Cleaned_Tweet  Negative  \\\n",
       "6516  best thing heard weekend gave ipad money relie...  1.000000   \n",
       "1613                   new app store includes uberguide  0.390354   \n",
       "2854                 already seeing heavy ipad presence  0.400241   \n",
       "3234  loving apple pop downtown office long last us ...  0.968841   \n",
       "6518  best thing heard weekend gave ipad money relie...  1.000000   \n",
       "5541  bad news update pop apple store ipads sure tom...  0.983071   \n",
       "2184                                iphone paul reubens  0.648009   \n",
       "8249  ad jg buat iphone new app store includes uberg...  0.548064   \n",
       "8206               hmmm bit weird tending google circle  0.505365   \n",
       "7767  awesome best thing heard wknd gave ipad money ...  1.000000   \n",
       "2884  googles melissa mayer speaks augmented reality...  0.365677   \n",
       "1589                        get go work yet trying days  0.222605   \n",
       "8848  hipsters oversized earphones pluged new ipad m...  0.982777   \n",
       "2053  watched staff temp store high five entire long...  1.000000   \n",
       "4417  crowley cashmore think ipad minor step tell pe...  0.548064   \n",
       "7642         epic one guy waiting line ipad austin sxsw  0.963351   \n",
       "\n",
       "           Neutral      Positive                               Label  \n",
       "6516  1.310807e-27  0.000000e+00  No emotion toward brand or product  \n",
       "1613  4.454145e-01  1.642320e-01  No emotion toward brand or product  \n",
       "2854  5.993559e-01  4.035910e-04                    Positive emotion  \n",
       "3234  1.158053e-02  1.957862e-02                    Positive emotion  \n",
       "6518  1.310807e-27  0.000000e+00  No emotion toward brand or product  \n",
       "5541  1.692875e-02  1.472538e-13  No emotion toward brand or product  \n",
       "2184  3.074586e-01  4.453250e-02  No emotion toward brand or product  \n",
       "8249  2.527302e-01  1.992055e-01  No emotion toward brand or product  \n",
       "8206  4.946353e-01  0.000000e+00  No emotion toward brand or product  \n",
       "7767  4.305124e-12  0.000000e+00  No emotion toward brand or product  \n",
       "2884  6.343230e-01  3.365153e-12  No emotion toward brand or product  \n",
       "1589  7.773939e-01  9.746472e-07  No emotion toward brand or product  \n",
       "8848  5.453631e-06  1.721719e-02  No emotion toward brand or product  \n",
       "2053  2.568984e-18  1.446300e-27  No emotion toward brand or product  \n",
       "4417  2.527302e-01  1.992055e-01                    Positive emotion  \n",
       "7642  3.664773e-02  1.556250e-06  No emotion toward brand or product  "
      ]
     },
     "execution_count": 70,
     "metadata": {},
     "output_type": "execute_result"
    }
   ],
   "source": [
    "pred_df[(pred_df[\"Negative\"] > .2) & (pred_df[\"Label\"] != \"Negative emotion\")]\n",
    "#checking the errors associated with negative emotion"
   ]
  },
  {
   "cell_type": "markdown",
   "metadata": {},
   "source": [
    "# WORD VECTORS"
   ]
  },
  {
   "cell_type": "code",
   "execution_count": 282,
   "metadata": {},
   "outputs": [],
   "source": [
    "import spacy\n",
    "nlp = spacy.load(\"en_core_web_md\")\n",
    "#using spacy library to encorporate word vectors"
   ]
  },
  {
   "cell_type": "code",
   "execution_count": 289,
   "metadata": {},
   "outputs": [],
   "source": [
    "cleaned = [nlp(x) for x in X_train]\n",
    "#prepping data"
   ]
  },
  {
   "cell_type": "code",
   "execution_count": 290,
   "metadata": {},
   "outputs": [],
   "source": [
    "train_x_vectors = [x.vector for x in cleaned]\n",
    "#prepping data"
   ]
  },
  {
   "cell_type": "code",
   "execution_count": 291,
   "metadata": {},
   "outputs": [
    {
     "data": {
      "text/plain": [
       "300"
      ]
     },
     "execution_count": 291,
     "metadata": {},
     "output_type": "execute_result"
    }
   ],
   "source": [
    "len(train_x_vectors[1])"
   ]
  },
  {
   "cell_type": "code",
   "execution_count": 292,
   "metadata": {},
   "outputs": [
    {
     "data": {
      "text/plain": [
       "SVC(kernel='linear')"
      ]
     },
     "execution_count": 292,
     "metadata": {},
     "output_type": "execute_result"
    }
   ],
   "source": [
    "from sklearn import svm\n",
    "clf = svm.SVC(kernel = 'linear')\n",
    "clf.fit(train_x_vectors, y_train)\n",
    "#using svm to make predictions"
   ]
  },
  {
   "cell_type": "code",
   "execution_count": 293,
   "metadata": {},
   "outputs": [],
   "source": [
    "test = [nlp(x) for x in X_test]\n",
    "cleaned_x = [x.vector for x in test]\n",
    "#prepping test data"
   ]
  },
  {
   "cell_type": "code",
   "execution_count": 294,
   "metadata": {},
   "outputs": [
    {
     "data": {
      "text/plain": [
       "0.6659209545115585"
      ]
     },
     "execution_count": 294,
     "metadata": {},
     "output_type": "execute_result"
    }
   ],
   "source": [
    "clf.score(cleaned_x, y_test)\n",
    "#not a crazy good score"
   ]
  },
  {
   "cell_type": "code",
   "execution_count": 311,
   "metadata": {},
   "outputs": [
    {
     "data": {
      "text/plain": [
       "array(['No emotion toward brand or product'], dtype=object)"
      ]
     },
     "execution_count": 311,
     "metadata": {},
     "output_type": "execute_result"
    }
   ],
   "source": [
    "test = [\"I love to code in python\"]\n",
    "test_doc = [nlp(x) for x in test]\n",
    "vec = [x.vector for x in test_doc]\n",
    "\n",
    "clf.predict(vec)\n",
    "#testing out "
   ]
  },
  {
   "cell_type": "code",
   "execution_count": 306,
   "metadata": {},
   "outputs": [],
   "source": [
    "test_doc2 = [nlp(x) for x in X_test]\n",
    "vec2 = [x.vector for x in test_doc2]\n",
    "preds = clf.predict(vec2)\n"
   ]
  },
  {
   "cell_type": "code",
   "execution_count": 310,
   "metadata": {},
   "outputs": [
    {
     "data": {
      "text/plain": [
       "0.6659209545115585"
      ]
     },
     "execution_count": 310,
     "metadata": {},
     "output_type": "execute_result"
    }
   ],
   "source": [
    "from sklearn.metrics import accuracy_score\n",
    "accuracy_score(y_test, preds)"
   ]
  },
  {
   "cell_type": "markdown",
   "metadata": {},
   "source": [
    "# RANDOM FOREST"
   ]
  },
  {
   "cell_type": "code",
   "execution_count": 39,
   "metadata": {},
   "outputs": [
    {
     "data": {
      "text/plain": [
       "RandomForestClassifier()"
      ]
     },
     "execution_count": 39,
     "metadata": {},
     "output_type": "execute_result"
    }
   ],
   "source": [
    "from sklearn.ensemble import RandomForestClassifier\n",
    "rf = RandomForestClassifier()\n",
    "rf.fit(X_train_transformed, y_train)\n",
    "#importing necessary library and using an out of the box random forest on our training data"
   ]
  },
  {
   "cell_type": "code",
   "execution_count": 40,
   "metadata": {},
   "outputs": [
    {
     "data": {
      "text/plain": [
       "0.7464578672632364"
      ]
     },
     "execution_count": 40,
     "metadata": {},
     "output_type": "execute_result"
    }
   ],
   "source": [
    "rf.score(X_test_transformed, y_test)"
   ]
  },
  {
   "cell_type": "code",
   "execution_count": 273,
   "metadata": {},
   "outputs": [
    {
     "data": {
      "text/plain": [
       "{'criterion': 'entropy',\n",
       " 'max_depth': None,\n",
       " 'min_samples_leaf': 1,\n",
       " 'min_samples_split': 2}"
      ]
     },
     "execution_count": 273,
     "metadata": {},
     "output_type": "execute_result"
    }
   ],
   "source": [
    "from sklearn.model_selection import GridSearchCV\n",
    "forest = RandomForestClassifier()\n",
    "rf_param_grid = {\n",
    "    'criterion': ['gini', 'entropy'],\n",
    "    'max_depth': [None, 2, 6, 10],\n",
    "    'min_samples_split': [2, 5, 10],\n",
    "    'min_samples_leaf': [1, 3 ,6]\n",
    "}\n",
    "\n",
    "rf_grid_search = GridSearchCV(forest, rf_param_grid, cv=3)\n",
    "rf_grid_search.fit(X_train_transformed, y_train)\n",
    "rf_grid_search.best_params_\n",
    "#gridsearch cv to find best parameters"
   ]
  },
  {
   "cell_type": "code",
   "execution_count": 138,
   "metadata": {},
   "outputs": [
    {
     "data": {
      "text/plain": [
       "RandomForestClassifier(criterion='entropy')"
      ]
     },
     "execution_count": 138,
     "metadata": {},
     "output_type": "execute_result"
    }
   ],
   "source": [
    "from sklearn.ensemble import RandomForestClassifier\n",
    "forest = RandomForestClassifier(criterion = 'entropy',\n",
    "  max_depth = None,\n",
    "  min_samples_leaf = 1,\n",
    "  min_samples_split = 2)\n",
    "forest.fit(X_train_transformed, y_train)\n",
    "#using best parameters "
   ]
  },
  {
   "cell_type": "code",
   "execution_count": 141,
   "metadata": {},
   "outputs": [
    {
     "data": {
      "text/plain": [
       "0.7285607755406414"
      ]
     },
     "execution_count": 141,
     "metadata": {},
     "output_type": "execute_result"
    }
   ],
   "source": [
    "forest.score(X_test_transformed, y_test)"
   ]
  },
  {
   "cell_type": "markdown",
   "metadata": {},
   "source": [
    "# SVM"
   ]
  },
  {
   "cell_type": "code",
   "execution_count": 268,
   "metadata": {},
   "outputs": [
    {
     "data": {
      "text/plain": [
       "SVC(kernel='linear')"
      ]
     },
     "execution_count": 268,
     "metadata": {},
     "output_type": "execute_result"
    }
   ],
   "source": [
    "from sklearn import svm\n",
    "clf = svm.SVC(kernel = \"linear\")\n",
    "clf.fit(X_train_tokens, y_train)\n",
    "#using svm without spacy"
   ]
  },
  {
   "cell_type": "code",
   "execution_count": 269,
   "metadata": {},
   "outputs": [],
   "source": [
    "preds = clf.predict(X_test_tokens)\n",
    "#predicitons"
   ]
  },
  {
   "cell_type": "code",
   "execution_count": 270,
   "metadata": {},
   "outputs": [
    {
     "data": {
      "text/plain": [
       "0.6256524981357197"
      ]
     },
     "execution_count": 270,
     "metadata": {},
     "output_type": "execute_result"
    }
   ],
   "source": [
    "from sklearn.metrics import accuracy_score\n",
    "accuracy_score(y_test, preds)\n",
    "#accuracy score not too great"
   ]
  },
  {
   "cell_type": "markdown",
   "metadata": {},
   "source": [
    "# TEXTBLOB"
   ]
  },
  {
   "cell_type": "code",
   "execution_count": 4,
   "metadata": {},
   "outputs": [],
   "source": [
    "import tweepy\n",
    "from textblob import TextBlob\n",
    "#trying textblob library"
   ]
  },
  {
   "cell_type": "code",
   "execution_count": 139,
   "metadata": {},
   "outputs": [
    {
     "data": {
      "text/plain": [
       "No emotion toward brand or product    809\n",
       "Positive emotion                      447\n",
       "Negative emotion                       85\n",
       "Name: Emotion, dtype: int64"
      ]
     },
     "execution_count": 139,
     "metadata": {},
     "output_type": "execute_result"
    }
   ],
   "source": [
    "y_test.value_counts()"
   ]
  },
  {
   "cell_type": "code",
   "execution_count": 66,
   "metadata": {},
   "outputs": [
    {
     "data": {
      "text/plain": [
       "0.8"
      ]
     },
     "execution_count": 66,
     "metadata": {},
     "output_type": "execute_result"
    }
   ],
   "source": [
    "TextBlob(\"Python is great\").sentiment.polarity\n",
    "#test"
   ]
  },
  {
   "cell_type": "code",
   "execution_count": 267,
   "metadata": {},
   "outputs": [
    {
     "data": {
      "text/plain": [
       "(0.8835684236575104,\n",
       " {'criterion': 'entropy',\n",
       "  'max_depth': None,\n",
       "  'min_samples_leaf': 1,\n",
       "  'min_samples_split': 2})"
      ]
     },
     "execution_count": 267,
     "metadata": {},
     "output_type": "execute_result"
    }
   ],
   "source": [
    "rf_grid_search.best_score_, rf_grid_search.best_params_"
   ]
  },
  {
   "cell_type": "code",
   "execution_count": 112,
   "metadata": {},
   "outputs": [],
   "source": [
    "df[\"Polarity\"] = df[\"Cleaned_Tweet\"].apply(lambda x: TextBlob(x).sentiment.polarity)\n",
    "df[\"prediction\"] = df[\"Polarity\"].apply(lambda x: \"Negative emotion\" if x <= -.25 else \"Positive emotion\"\\\n",
    "                            if x >= .25 else \"No emotion toward brand or product\")\n",
    "#creating polarity and prediction columns based on above conditions"
   ]
  },
  {
   "cell_type": "code",
   "execution_count": 113,
   "metadata": {},
   "outputs": [
    {
     "data": {
      "text/html": [
       "<div>\n",
       "<style scoped>\n",
       "    .dataframe tbody tr th:only-of-type {\n",
       "        vertical-align: middle;\n",
       "    }\n",
       "\n",
       "    .dataframe tbody tr th {\n",
       "        vertical-align: top;\n",
       "    }\n",
       "\n",
       "    .dataframe thead th {\n",
       "        text-align: right;\n",
       "    }\n",
       "</style>\n",
       "<table border=\"1\" class=\"dataframe\">\n",
       "  <thead>\n",
       "    <tr style=\"text-align: right;\">\n",
       "      <th></th>\n",
       "      <th>Emotion</th>\n",
       "      <th>Cleaned_Tweet</th>\n",
       "      <th>Polarity</th>\n",
       "      <th>prediction</th>\n",
       "      <th>accuracy</th>\n",
       "    </tr>\n",
       "  </thead>\n",
       "  <tbody>\n",
       "    <tr>\n",
       "      <th>0</th>\n",
       "      <td>Negative emotion</td>\n",
       "      <td>iphone hrs tweeting dead need upgrade plugin s...</td>\n",
       "      <td>-0.200000</td>\n",
       "      <td>No emotion toward brand or product</td>\n",
       "      <td>1</td>\n",
       "    </tr>\n",
       "    <tr>\n",
       "      <th>1</th>\n",
       "      <td>Positive emotion</td>\n",
       "      <td>know awesome ipad iphone app likely appreciate...</td>\n",
       "      <td>0.466667</td>\n",
       "      <td>Positive emotion</td>\n",
       "      <td>1</td>\n",
       "    </tr>\n",
       "    <tr>\n",
       "      <th>2</th>\n",
       "      <td>Positive emotion</td>\n",
       "      <td>wait also sale</td>\n",
       "      <td>0.000000</td>\n",
       "      <td>No emotion toward brand or product</td>\n",
       "      <td>0</td>\n",
       "    </tr>\n",
       "    <tr>\n",
       "      <th>3</th>\n",
       "      <td>Negative emotion</td>\n",
       "      <td>hope year festival crashy year iphone app</td>\n",
       "      <td>0.000000</td>\n",
       "      <td>No emotion toward brand or product</td>\n",
       "      <td>0</td>\n",
       "    </tr>\n",
       "    <tr>\n",
       "      <th>4</th>\n",
       "      <td>Positive emotion</td>\n",
       "      <td>great stuff fri marissa mayer google tim reill...</td>\n",
       "      <td>0.800000</td>\n",
       "      <td>Positive emotion</td>\n",
       "      <td>1</td>\n",
       "    </tr>\n",
       "    <tr>\n",
       "      <th>...</th>\n",
       "      <td>...</td>\n",
       "      <td>...</td>\n",
       "      <td>...</td>\n",
       "      <td>...</td>\n",
       "      <td>...</td>\n",
       "    </tr>\n",
       "    <tr>\n",
       "      <th>9088</th>\n",
       "      <td>Positive emotion</td>\n",
       "      <td>ipad everywhere link</td>\n",
       "      <td>0.000000</td>\n",
       "      <td>No emotion toward brand or product</td>\n",
       "      <td>0</td>\n",
       "    </tr>\n",
       "    <tr>\n",
       "      <th>9089</th>\n",
       "      <td>No emotion toward brand or product</td>\n",
       "      <td>wave buzz interrupt regularly scheduled geek p...</td>\n",
       "      <td>0.000000</td>\n",
       "      <td>No emotion toward brand or product</td>\n",
       "      <td>1</td>\n",
       "    </tr>\n",
       "    <tr>\n",
       "      <th>9090</th>\n",
       "      <td>No emotion toward brand or product</td>\n",
       "      <td>google zeiger physician never reported potenti...</td>\n",
       "      <td>0.000000</td>\n",
       "      <td>No emotion toward brand or product</td>\n",
       "      <td>1</td>\n",
       "    </tr>\n",
       "    <tr>\n",
       "      <th>9091</th>\n",
       "      <td>No emotion toward brand or product</td>\n",
       "      <td>verizon iphone customers complained time fell ...</td>\n",
       "      <td>-0.054545</td>\n",
       "      <td>No emotion toward brand or product</td>\n",
       "      <td>1</td>\n",
       "    </tr>\n",
       "    <tr>\n",
       "      <th>9092</th>\n",
       "      <td>No emotion toward brand or product</td>\n",
       "      <td>google tests check offers link</td>\n",
       "      <td>0.100000</td>\n",
       "      <td>No emotion toward brand or product</td>\n",
       "      <td>0</td>\n",
       "    </tr>\n",
       "  </tbody>\n",
       "</table>\n",
       "<p>8936 rows × 5 columns</p>\n",
       "</div>"
      ],
      "text/plain": [
       "                                 Emotion  \\\n",
       "0                       Negative emotion   \n",
       "1                       Positive emotion   \n",
       "2                       Positive emotion   \n",
       "3                       Negative emotion   \n",
       "4                       Positive emotion   \n",
       "...                                  ...   \n",
       "9088                    Positive emotion   \n",
       "9089  No emotion toward brand or product   \n",
       "9090  No emotion toward brand or product   \n",
       "9091  No emotion toward brand or product   \n",
       "9092  No emotion toward brand or product   \n",
       "\n",
       "                                          Cleaned_Tweet  Polarity  \\\n",
       "0     iphone hrs tweeting dead need upgrade plugin s... -0.200000   \n",
       "1     know awesome ipad iphone app likely appreciate...  0.466667   \n",
       "2                                        wait also sale  0.000000   \n",
       "3             hope year festival crashy year iphone app  0.000000   \n",
       "4     great stuff fri marissa mayer google tim reill...  0.800000   \n",
       "...                                                 ...       ...   \n",
       "9088                               ipad everywhere link  0.000000   \n",
       "9089  wave buzz interrupt regularly scheduled geek p...  0.000000   \n",
       "9090  google zeiger physician never reported potenti...  0.000000   \n",
       "9091  verizon iphone customers complained time fell ... -0.054545   \n",
       "9092                     google tests check offers link  0.100000   \n",
       "\n",
       "                              prediction  accuracy  \n",
       "0     No emotion toward brand or product         1  \n",
       "1                       Positive emotion         1  \n",
       "2     No emotion toward brand or product         0  \n",
       "3     No emotion toward brand or product         0  \n",
       "4                       Positive emotion         1  \n",
       "...                                  ...       ...  \n",
       "9088  No emotion toward brand or product         0  \n",
       "9089  No emotion toward brand or product         1  \n",
       "9090  No emotion toward brand or product         1  \n",
       "9091  No emotion toward brand or product         1  \n",
       "9092  No emotion toward brand or product         0  \n",
       "\n",
       "[8936 rows x 5 columns]"
      ]
     },
     "execution_count": 113,
     "metadata": {},
     "output_type": "execute_result"
    }
   ],
   "source": [
    "df"
   ]
  },
  {
   "cell_type": "code",
   "execution_count": 114,
   "metadata": {},
   "outputs": [],
   "source": [
    "df[\"accuracy\"] = df.apply(lambda x: 1 if x[\"Emotion\"] == x[\"prediction\"] else 0, axis = 1)\n",
    "#accuracy is equal to 1 if prediction is equal to assigned emotion"
   ]
  },
  {
   "cell_type": "code",
   "execution_count": 115,
   "metadata": {},
   "outputs": [
    {
     "data": {
      "text/html": [
       "<div>\n",
       "<style scoped>\n",
       "    .dataframe tbody tr th:only-of-type {\n",
       "        vertical-align: middle;\n",
       "    }\n",
       "\n",
       "    .dataframe tbody tr th {\n",
       "        vertical-align: top;\n",
       "    }\n",
       "\n",
       "    .dataframe thead th {\n",
       "        text-align: right;\n",
       "    }\n",
       "</style>\n",
       "<table border=\"1\" class=\"dataframe\">\n",
       "  <thead>\n",
       "    <tr style=\"text-align: right;\">\n",
       "      <th></th>\n",
       "      <th>Emotion</th>\n",
       "      <th>Cleaned_Tweet</th>\n",
       "      <th>Polarity</th>\n",
       "      <th>prediction</th>\n",
       "      <th>accuracy</th>\n",
       "    </tr>\n",
       "  </thead>\n",
       "  <tbody>\n",
       "    <tr>\n",
       "      <th>38</th>\n",
       "      <td>Negative emotion</td>\n",
       "      <td>false alarm google circles coming nowand proba...</td>\n",
       "      <td>-0.4000</td>\n",
       "      <td>Negative emotion</td>\n",
       "      <td>1</td>\n",
       "    </tr>\n",
       "    <tr>\n",
       "      <th>64</th>\n",
       "      <td>Negative emotion</td>\n",
       "      <td>line apple store insane</td>\n",
       "      <td>-1.0000</td>\n",
       "      <td>Negative emotion</td>\n",
       "      <td>1</td>\n",
       "    </tr>\n",
       "    <tr>\n",
       "      <th>233</th>\n",
       "      <td>Negative emotion</td>\n",
       "      <td>iphone alarms botch timechange many ers freak ...</td>\n",
       "      <td>-0.2500</td>\n",
       "      <td>Negative emotion</td>\n",
       "      <td>1</td>\n",
       "    </tr>\n",
       "    <tr>\n",
       "      <th>236</th>\n",
       "      <td>Negative emotion</td>\n",
       "      <td>meant also wish stupid iphone</td>\n",
       "      <td>-0.8000</td>\n",
       "      <td>Negative emotion</td>\n",
       "      <td>1</td>\n",
       "    </tr>\n",
       "    <tr>\n",
       "      <th>291</th>\n",
       "      <td>Negative emotion</td>\n",
       "      <td>quot apple store mall sunday crowded line fake...</td>\n",
       "      <td>-0.5500</td>\n",
       "      <td>Negative emotion</td>\n",
       "      <td>1</td>\n",
       "    </tr>\n",
       "    <tr>\n",
       "      <th>...</th>\n",
       "      <td>...</td>\n",
       "      <td>...</td>\n",
       "      <td>...</td>\n",
       "      <td>...</td>\n",
       "      <td>...</td>\n",
       "    </tr>\n",
       "    <tr>\n",
       "      <th>8057</th>\n",
       "      <td>Negative emotion</td>\n",
       "      <td>every person see ipad looks crazy looks like c...</td>\n",
       "      <td>-0.6000</td>\n",
       "      <td>Negative emotion</td>\n",
       "      <td>1</td>\n",
       "    </tr>\n",
       "    <tr>\n",
       "      <th>8387</th>\n",
       "      <td>Negative emotion</td>\n",
       "      <td>iphone anyway remove burn hashtags eg bored al...</td>\n",
       "      <td>-0.5000</td>\n",
       "      <td>Negative emotion</td>\n",
       "      <td>1</td>\n",
       "    </tr>\n",
       "    <tr>\n",
       "      <th>8712</th>\n",
       "      <td>Negative emotion</td>\n",
       "      <td>google patented something age domain rankings ...</td>\n",
       "      <td>-0.3125</td>\n",
       "      <td>Negative emotion</td>\n",
       "      <td>1</td>\n",
       "    </tr>\n",
       "    <tr>\n",
       "      <th>8981</th>\n",
       "      <td>Negative emotion</td>\n",
       "      <td>think effing hubby line someone point towards ...</td>\n",
       "      <td>-0.5000</td>\n",
       "      <td>Negative emotion</td>\n",
       "      <td>1</td>\n",
       "    </tr>\n",
       "    <tr>\n",
       "      <th>9043</th>\n",
       "      <td>Negative emotion</td>\n",
       "      <td>hey anyone signing group texting app groupme g...</td>\n",
       "      <td>-0.5000</td>\n",
       "      <td>Negative emotion</td>\n",
       "      <td>1</td>\n",
       "    </tr>\n",
       "  </tbody>\n",
       "</table>\n",
       "<p>90 rows × 5 columns</p>\n",
       "</div>"
      ],
      "text/plain": [
       "               Emotion                                      Cleaned_Tweet  \\\n",
       "38    Negative emotion  false alarm google circles coming nowand proba...   \n",
       "64    Negative emotion                            line apple store insane   \n",
       "233   Negative emotion  iphone alarms botch timechange many ers freak ...   \n",
       "236   Negative emotion                      meant also wish stupid iphone   \n",
       "291   Negative emotion  quot apple store mall sunday crowded line fake...   \n",
       "...                ...                                                ...   \n",
       "8057  Negative emotion  every person see ipad looks crazy looks like c...   \n",
       "8387  Negative emotion  iphone anyway remove burn hashtags eg bored al...   \n",
       "8712  Negative emotion  google patented something age domain rankings ...   \n",
       "8981  Negative emotion  think effing hubby line someone point towards ...   \n",
       "9043  Negative emotion  hey anyone signing group texting app groupme g...   \n",
       "\n",
       "      Polarity        prediction  accuracy  \n",
       "38     -0.4000  Negative emotion         1  \n",
       "64     -1.0000  Negative emotion         1  \n",
       "233    -0.2500  Negative emotion         1  \n",
       "236    -0.8000  Negative emotion         1  \n",
       "291    -0.5500  Negative emotion         1  \n",
       "...        ...               ...       ...  \n",
       "8057   -0.6000  Negative emotion         1  \n",
       "8387   -0.5000  Negative emotion         1  \n",
       "8712   -0.3125  Negative emotion         1  \n",
       "8981   -0.5000  Negative emotion         1  \n",
       "9043   -0.5000  Negative emotion         1  \n",
       "\n",
       "[90 rows x 5 columns]"
      ]
     },
     "execution_count": 115,
     "metadata": {},
     "output_type": "execute_result"
    }
   ],
   "source": [
    "df[(df[\"accuracy\"] == 1) & (df[\"prediction\"] == \"Negative emotion\")]\n",
    "#checking negative emotion performance"
   ]
  },
  {
   "cell_type": "code",
   "execution_count": 49,
   "metadata": {},
   "outputs": [
    {
     "name": "stdout",
     "output_type": "stream",
     "text": [
      "42/42 [==============================] - 0s 2ms/step - loss: 0.7477 - acc: 0.6846\n",
      "Test Loss: 0.748 \n",
      "Test Accuracy: 0.685\n"
     ]
    }
   ],
   "source": [
    "results_test = model_1.evaluate(X_test_tokens, y_test_lb)\n",
    "print(f'Test Loss: {results_test[0]:.3} \\nTest Accuracy: {results_test[1]:.3}')"
   ]
  },
  {
   "cell_type": "code",
   "execution_count": 116,
   "metadata": {},
   "outputs": [
    {
     "data": {
      "text/plain": [
       "0.6012757385854969"
      ]
     },
     "execution_count": 116,
     "metadata": {},
     "output_type": "execute_result"
    }
   ],
   "source": [
    "sum(df.accuracy)/len(df)\n",
    "#overall accuracy using textblob"
   ]
  },
  {
   "cell_type": "markdown",
   "metadata": {},
   "source": [
    "# Recommendations/Future Research\n",
    "\n",
    "## With accuracy as the number one goal in this project, using the model_4 neural network or a random forest model is the best strategy\n",
    "\n",
    "## If we were researching the sentiment of comments in a youtube comment section, there might be an increased importance on guessing negative comments correctly, and this might be traded for some overall accuracy\n",
    "\n",
    "## More Tweets with higher numbers of negative tweets! The model's overall accuracy for negative tweets suffered due to the sheer lack of negative tweets\n",
    "\n",
    "\n"
   ]
  },
  {
   "cell_type": "code",
   "execution_count": null,
   "metadata": {},
   "outputs": [],
   "source": []
  }
 ],
 "metadata": {
  "kernelspec": {
   "display_name": "Python 3",
   "language": "python",
   "name": "python3"
  },
  "language_info": {
   "codemirror_mode": {
    "name": "ipython",
    "version": 3
   },
   "file_extension": ".py",
   "mimetype": "text/x-python",
   "name": "python",
   "nbconvert_exporter": "python",
   "pygments_lexer": "ipython3",
   "version": "3.8.3"
  }
 },
 "nbformat": 4,
 "nbformat_minor": 4
}
